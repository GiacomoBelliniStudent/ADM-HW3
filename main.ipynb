{
 "cells": [
  {
   "cell_type": "markdown",
   "source": [
    "# **Homework 3 - Places of the world**"
   ],
   "metadata": {
    "collapsed": false
   }
  },
  {
   "cell_type": "code",
   "execution_count": 1,
   "outputs": [],
   "source": [
    "#import libraries\n",
    "import heapq\n",
    "import numpy as np\n",
    "import pandas as pd\n",
    "from bs4 import BeautifulSoup\n",
    "import requests\n",
    "from os import listdir\n",
    "from os.path import isfile, join\n",
    "import os\n",
    "import shutil\n",
    "import urllib\n",
    "from datetime import datetime\n",
    "import csv\n",
    "from nltk.corpus import stopwords\n",
    "import string\n",
    "from nltk import word_tokenize\n",
    "import nltk\n",
    "from collections import OrderedDict\n",
    "import json\n",
    "from tqdm import tqdm"
   ],
   "metadata": {
    "collapsed": false
   }
  },
  {
   "cell_type": "markdown",
   "source": [
    "# **1. Data collection**\n",
    "For this homework, there is no provided dataset. Instead, you have to build your own. Your search engine will run on text documents. So, here we detail the procedure to follow for the data collection."
   ],
   "metadata": {
    "collapsed": false
   }
  },
  {
   "cell_type": "markdown",
   "source": [
    "**1.1. Get the list of places**\n",
    "We start with the list of places to include in your corpus of documents. In particular, we focus on the Most popular places. Next, we want you to collect the URL associated with each site in the list from this list. The list is long and split into many pages. Therefore, we ask you to retrieve only the URLs of the places listed in the first 400 pages (each page has 18 places, so that you will end up with 7200 unique place URLs).\n",
    "\n",
    "The output of this step is a .txt file whose single line corresponds to the place's URL."
   ],
   "metadata": {
    "collapsed": false
   }
  },
  {
   "cell_type": "code",
   "execution_count": null,
   "outputs": [],
   "source": [
    "url = 'https://www.atlasobscura.com/places?page={}&sort=likes_count'\n",
    "result = requests.get(url)\n",
    "\n",
    "print(result)\n",
    "print(result.text)"
   ],
   "metadata": {
    "collapsed": false
   }
  },
  {
   "cell_type": "code",
   "execution_count": null,
   "outputs": [],
   "source": [
    "soup = BeautifulSoup(result.text)"
   ],
   "metadata": {
    "collapsed": false
   }
  },
  {
   "cell_type": "code",
   "execution_count": null,
   "outputs": [],
   "source": [
    "mydivs = soup.find_all(\"a\", {\"class\": \"content-card content-card-place\"})\n",
    "'https://www.atlasobscura.com' + mydivs[1]['href']"
   ],
   "metadata": {
    "collapsed": false
   }
  },
  {
   "cell_type": "code",
   "execution_count": null,
   "outputs": [],
   "source": [
    "with open('places_url.txt', 'w') as f:\n",
    "    for i in range(1,401):\n",
    "        url = 'https://www.atlasobscura.com/places?page={}&sort=likes_count'.format(i)\n",
    "        result = requests.get(url)\n",
    "        soup = BeautifulSoup(result.text)\n",
    "        mydivs = soup.find_all(\"a\", {\"class\": \"content-card content-card-place\"})\n",
    "        for anchor in mydivs:\n",
    "            f.write('https://www.atlasobscura.com' + anchor['href'] + \"\\n\")\n",
    "    f.close();"
   ],
   "metadata": {
    "collapsed": false
   }
  },
  {
   "cell_type": "markdown",
   "source": [
    "**1.2. Crawl places**\n",
    "\n",
    "Once you get all the URLs in the first 400 pages of the list, you:\n",
    "\n",
    "Download the HTML corresponding to each of the collected URLs.\n",
    "After you collect a single page, immediately save its HTML in a file. In this way, if your program stops for any reason, you will not lose the data collected up to the stopping point.\n",
    "Organize the entire set of downloaded HTML pages into folders. Each folder will contain the HTML of the places on page 1, page 2, ... of the list of locations.\n",
    "\n",
    "Tip: Due to a large number of pages you should download, you can use some methods that can help you shorten the time it takes. If you employed a particular process or approach, kindly describe it."
   ],
   "metadata": {
    "collapsed": false
   }
  },
  {
   "cell_type": "code",
   "execution_count": null,
   "outputs": [],
   "source": [
    "def saveHtmlFiles():\n",
    "    notDownloadedUrls = []\n",
    "    with open('places_url.txt') as file:\n",
    "        for url in file:\n",
    "            try:\n",
    "                urllib.request.urlretrieve(url,url.split('/')[-1].replace('\\n','')+'.html')\n",
    "            except Exception as e:\n",
    "                notDownloadedUrls.append(url)\n",
    "                continue\n",
    "    file.close()\n",
    "    return notDownloadedUrls"
   ],
   "metadata": {
    "collapsed": false
   }
  },
  {
   "cell_type": "code",
   "execution_count": null,
   "outputs": [],
   "source": [
    "notDownloadedUrls = saveHtmlFiles()\n",
    "\n",
    "while notDownloadedUrls:\n",
    "    with open('places_url.txt', 'w') as f:\n",
    "        for url in notDownloadedUrls:\n",
    "            f.write(url + \"\\n\")\n",
    "    f.close();\n",
    "    notDownloadedUrls = saveHtmlFiles()"
   ],
   "metadata": {
    "collapsed": false
   }
  },
  {
   "cell_type": "markdown",
   "source": [
    "**1.3 Parse downloaded pages**\n",
    "\n",
    "At this point, you should have all the HTML documents about the places of interest, and you can start to extract the places' information. The list of the information we desire for each place and their format is as follows:"
   ],
   "metadata": {
    "collapsed": false
   }
  },
  {
   "cell_type": "code",
   "execution_count": null,
   "outputs": [],
   "source": [
    "file_path = os.getcwd()\n",
    "files = []\n",
    "with open('places_url.txt') as file:\n",
    "    for url in file:\n",
    "        files.append(url.split('/')[-1].replace('\\n','')+'.html')\n",
    "    file.close()\n",
    "file_list = np.array_split(files,400)\n"
   ],
   "metadata": {
    "collapsed": false
   }
  },
  {
   "cell_type": "code",
   "execution_count": null,
   "outputs": [],
   "source": [
    "for i in range(400):\n",
    "    directory = 'page_'+ str(i+1)\n",
    "\n",
    "    target_dir = os.path.join(file_path, directory)\n",
    "\n",
    "    os.mkdir(target_dir)\n",
    "\n",
    "    for file_name in file_list[i]:\n",
    "        shutil.move(os.path.join(file_path, file_name), target_dir)"
   ],
   "metadata": {
    "collapsed": false
   }
  },
  {
   "cell_type": "code",
   "execution_count": null,
   "outputs": [],
   "source": [
    "headerList = ['placeName','placeTags','numPeopleVisited','numPeopleWant','placeDesc','placeShortDesc','placesNearby','placeAddress','placeAlt','placeLong','placeEditors','placePubDate','placeRelatedLists','placeRelatedPlaces','placeUrl']\n",
    "for i in range(1,401):\n",
    "    dir = os.getcwd() + '\\page_{}'.format(i)\n",
    "    files = [f for f in listdir(dir) if isfile(join(dir, f)) and f.lower().endswith(('.html'))]\n",
    "    for file in files:\n",
    "        with open(os.path.join(dir,file), 'rb+') as fp:\n",
    "            soup = BeautifulSoup(fp, \"html.parser\")\n",
    "\n",
    "            placeName = '' if soup.select('h1')[0].text.strip() is None else soup.select('h1')[0].text.strip()\n",
    "\n",
    "            placeTags = '' if soup.find('div', {'class': 'item-tags'}) is None else [a.text.strip() for a in soup.find('div', {'class': 'item-tags'}).select('a', {'class': 'itemTags__link'})]\n",
    "\n",
    "            numPeopleVisited = ('' if soup.find('aside', {'class': 'DDPage__item-actions'}) is None else soup.find('aside', {'class': 'DDPage__item-actions'}).select('div', {'class': 'title-md item-action-count'})[3].text.strip())\n",
    "\n",
    "            numPeopleWant = ('' if soup.find('aside', {'class': 'DDPage__item-actions'}) is None else soup.find('aside', {'class': 'DDPage__item-actions'}).select('div', {'class': 'title-md item-action-count'})[4].text.strip())\n",
    "\n",
    "            numPeopleWant = '' if numPeopleVisited == '' else int(''.join(filter(str.isdigit, numPeopleVisited)))\n",
    "\n",
    "            placeDesc = '' if soup.find('div', {'id': 'place-body'}) is None else soup.find('div', {'id': 'place-body'}).findNext().text.strip()\n",
    "\n",
    "            placeShortDesc = '' if soup.find('h3', {'class': 'DDPage__header-dek'}) is None else soup.find('h3', {'class': 'DDPage__header-dek'}).text.strip()\n",
    "\n",
    "            placesNearby = '' if soup.findAll('div', {'class': 'DDPageSiderailRecirc__item-title'}) is None else set([a.text.strip() for a  in soup.findAll('div', {'class': 'DDPageSiderailRecirc__item-title'})])\n",
    "\n",
    "            placeAddress = '' if soup.find('address', {'class': 'DDPageSiderail__address'}) is None else soup.find('address', {'class': 'DDPageSiderail__address'}).text.strip()\n",
    "\n",
    "            placeAlt = '' if soup.find('div', {'class': 'DDPageSiderail__coordinates'}) is None else soup.find('div', {'class': 'DDPageSiderail__coordinates'}).text.strip().split(',')[0].strip()\n",
    "\n",
    "            placeLong = '' if soup.find('div', {'class': 'DDPageSiderail__coordinates'}) is None else soup.find('div', {'class': 'DDPageSiderail__coordinates'}).text.strip().split(',')[1].strip()\n",
    "\n",
    "            placeEditors = '' if soup.findAll('a', {'class': 'DDPContributorsList__contributor'}) is None else [ a.text.strip() for a in soup.findAll('a', {'class': 'DDPContributorsList__contributor'})]\n",
    "\n",
    "            placePubDate = '' if soup.find('div', {'class': 'DDPContributor__name'}) is None else datetime.strptime(soup.find('div', {'class': 'DDPContributor__name'}).text,'%B %d, %Y').date()\n",
    "\n",
    "            placeRelatedLists = '' if soup.find('div', {'class': 'CardRecircSection__title'}, text='Related Places') is None else ([a.findNext('span').text.strip() for a in soup.find('div', {'class': 'CardRecircSection__title'}, text='Related Places').findNext('div', {'class': 'CardRecircSection__card-grid'}).findAll('a')])\n",
    "\n",
    "            placeRelatedPlaces = '' if soup.find('div', {'class': 'CardRecircSection__title'}, text='Appears in') is None else ([a.findNext('span').text.strip() for a in soup.find('div', {'class': 'CardRecircSection__title'}, text='Appears in').findNext('div', {'class': 'CardRecircSection__card-grid'}).findAll('a')])\n",
    "\n",
    "            placeUrl = '' if soup.find('div', {'class': 'DDPageSiderail__website'}) is None else soup.find('div', {'class': 'DDPageSiderail__website'}).find('a')['href'].strip()\n",
    "\n",
    "        fp.close()\n",
    "\n",
    "        valuesList = [placeName,placeTags,numPeopleVisited,numPeopleWant,placeDesc,placeShortDesc,placesNearby,placeAddress,placeAlt,placeLong,placeEditors,placePubDate,placeRelatedLists,placeRelatedPlaces,placeUrl]\n",
    "        with open(os.path.join(dir, file.title().replace('.Html','').lower() +'.tsv'), 'w+', encoding=\"utf-8\") as tsvfile:\n",
    "            writer = csv.writer(tsvfile, delimiter='\\t')\n",
    "            writer.writerow(headerList)\n",
    "            writer.writerow(valuesList)\n",
    "        tsvfile.close()"
   ],
   "metadata": {
    "collapsed": false
   }
  },
  {
   "cell_type": "code",
   "execution_count": null,
   "outputs": [],
   "source": [
    "for i in range(1,401):\n",
    "    dir = os.getcwd() + '\\page_{}'.format(i)\n",
    "    target_dir = os.getcwd() + '/tsv_files'\n",
    "    files = [f for f in listdir(dir) if isfile(join(dir, f)) and f.lower().endswith(('.tsv'))]\n",
    "    for file in files:\n",
    "        shutil.move(os.path.join(dir, file.title().lower()), target_dir)"
   ],
   "metadata": {
    "collapsed": false
   }
  },
  {
   "cell_type": "code",
   "execution_count": 2,
   "outputs": [
    {
     "data": {
      "text/plain": "      index                                        placeName  \\\n0         0                                  109 East Palace   \n1         0                                145 Rue Lafayette   \n2         0                                     17 Room Ruin   \n3         0                            1890s Alien Gravesite   \n4         0  University of Virginia’s Hidden Chemical Hearth   \n...     ...                                              ...   \n7195      0                                   Zorthian Ranch   \n7196      0                                   Zuccari Palace   \n7197      0                              Zwack Unicum Museum   \n7198      0                           The Zymoglyphic Museum   \n7199      0         Zzyzx Mineral Springs and Healing Center   \n\n                                              placeTags  numPeopleVisited  \\\n0     ['manhattan project', 'secret', 'nuclear', 'sc...               419   \n1     ['urban planning', 'cities', 'transportation',...               163   \n2     ['abandoned houses', 'native americans', 'aban...               161   \n3     ['aliens', 'graves', 'gravestones', 'cemeteries']               249   \n4     ['thomas jefferson', 'unesco', 'hidden', 'scie...               130   \n...                                                 ...               ...   \n7195  ['film locations', 'farms', 'outsider art', 'c...                75   \n7196  ['castles', 'architectural oddities', 'archite...               432   \n7197  ['food museums', 'food', 'museums and collecti...               201   \n7198  ['obscura day locations', 'wonder cabinets', '...               219   \n7199  ['hoaxes and pseudoscience', 'places to stay',...               282   \n\n      numPeopleWant                                          placeDesc  \\\n0               419  When you need to be dropped off at a top-secre...   \n1               163  While walking down the street, you’d be forgiv...   \n2               161  Outside Bluff, Utah, a massive 100-foot-deep a...   \n3               249  While it receives no fanfare today, the small ...   \n4               130  Nestled in the ground floor of a UNESCO World ...   \n...             ...                                                ...   \n7195             75  California’s Zorthian Ranch is a strange compe...   \n7196            432  In Rome there are thousands of churches, old b...   \n7197            201  Sometimes referred to as the Hungarian nationa...   \n7198            219  The Zymoglyphic Museum houses the cabinet of c...   \n7199            282  Curtis Howe Springer was a self-proclaimed med...   \n\n                                         placeShortDesc  \\\n0     This innocuous New Mexico storefront was once ...   \n1     What looks like a normal building is really a ...   \n2     A well-preserved Ancestral Puebloan ruin tucke...   \n3     This small town Texas cemetery is said to be t...   \n4     Hidden for 165 years inside a building designe...   \n...                                                 ...   \n7195  The cobbled together compound of a deceased ar...   \n7196  Architectural monsters are devouring this pala...   \n7197  Central Europe's largest collection of mini-bo...   \n7198  Private collection of art inspired by cabinets...   \n7199  A former utopian healing center created by a h...   \n\n                                           placesNearby  \\\n0     {'Palace of the Governors', 'Spitz Clock', 'La...   \n1     {\"WWII Bunker Under Gare de l'Est\", 'Sape & Co...   \n2     {'Forrest Gump Point', 'House on Fire Ruin', '...   \n3     {'Billy Bob’s Texas', 'Chef Point Bar & Restau...   \n4     {'Headstone of Anna Anderson', \"University of ...   \n...                                                 ...   \n7195  {'The Bunny Museum', 'Cobb Estate', 'Mountain ...   \n7196  {'Keats-Shelley Memorial House', 'Santa Maria ...   \n7197  {'Paul Street Boys Monument', 'Gömböc', 'Littl...   \n7198  {'Lincoln Street Kayak & Canoe Museum', 'Morri...   \n7199  {'Alien Fresh Jerky', 'Travelers Monument', \"W...   \n\n                                           placeAddress  placeAlt  placeLong  \\\n0     109 East Palace Santa Fe, New Mexico, 87501Uni...   35.6875  -105.9372   \n1                         145 Rue la FayetteParisFrance   48.8792     2.3562   \n2                              Bluff, UtahUnited States   37.2748  -109.5102   \n3      507 Cemetery RdAurora, Texas, 76078United States   33.0534   -97.5000   \n4     1721 University AveCharlottesville, Virginia, ...   38.0357   -78.5033   \n...                                                 ...       ...        ...   \n7195  4010 Fair Oaks AveAltadena, California, 91001U...   34.2111  -118.1404   \n7196                  34 Via GregorianaRome, 00187Italy   41.9051    12.4844   \n7197                   1 Dandár u.Budapest, 1095Hungary   47.4759    19.0697   \n7198  6225 SE Alder St.Portland, Oregon, 97215United...   45.5177  -122.5998   \n7199  Zzyzx RoadSan Bernardino, CaliforniaUnited States   35.1431  -116.1042   \n\n                                           placeEditors placePubDate  \\\n0     ['michaelksugar', 'tylercole', 'Collector of E...   2014-03-31   \n1         ['EVA', 'carllenox', 'erjeffery', 'SEANETTA']   2018-06-15   \n2     ['JWill', 'Molly McBride Jacobson', 'djm213', ...   2017-05-10   \n3     ['EricGrundhauser', 'Molly McBride Jacobson', ...   2014-11-21   \n4                            ['Collin', 'blimpcaptain']   2016-05-09   \n...                                                 ...          ...   \n7195  ['ashleypinnick', 'Rachel', 'Martin', 'MagnumP...   2013-08-27   \n7196  ['pboduch', 'beefjorky', 'diffendale', 'Collec...   2014-03-06   \n7197  ['Shotsy', 'Molly McBride Jacobson', 'reley250...   2014-10-14   \n7198  ['michelle', 'Martin', 'wythe', 'medhere', 'zy...   2013-06-13   \n7199  ['anhie', 'obleuiiis', 'aaronrwilliams1987', '...   2009-10-19   \n\n                                      placeRelatedLists  placeRelatedPlaces  \\\n0     ['Camp Century (Project Iceworm)', 'Red Gate W...                 NaN   \n1     [\"Vauxhall Bridge's Miniature St. Paul's Cathe...                 NaN   \n2     ['Keller House', 'Cow Springs Trading Post', '...                 NaN   \n3     ['Betty and Barney Hill Graves', 'The Menster ...                 NaN   \n4     ['Kamerlingh Onnes Laboratory Plaque', \"Univer...                 NaN   \n...                                                 ...                 ...   \n7195  ['Milwaukee Art Museum', 'Rocca Sinibalda Cast...                 NaN   \n7196  ['Johnstone Castle', 'Castillo Ortega-Douglas'...                 NaN   \n7197  ['Baked Bean Museum of Excellence', 'National ...                 NaN   \n7198  ['Ilana Goor Museum', 'Milwaukee Art Museum', ...                 NaN   \n7199  ['UFO Watchtower', 'American Society of Dowser...                 NaN   \n\n                                               placeUrl  \n0                                                   NaN  \n1                                                   NaN  \n2                                                   NaN  \n3                                                   NaN  \n4                                                   NaN  \n...                                                 ...  \n7195                      http://www.zorthianranch.com/  \n7196                                                NaN  \n7197  http://www.zwack.hu/en/zwack-muzeumok/zwack-mu...  \n7198                         http://www.zymoglyphic.org  \n7199        http://biology.fullerton.edu/dsc/index.html  \n\n[7200 rows x 16 columns]",
      "text/html": "<div>\n<style scoped>\n    .dataframe tbody tr th:only-of-type {\n        vertical-align: middle;\n    }\n\n    .dataframe tbody tr th {\n        vertical-align: top;\n    }\n\n    .dataframe thead th {\n        text-align: right;\n    }\n</style>\n<table border=\"1\" class=\"dataframe\">\n  <thead>\n    <tr style=\"text-align: right;\">\n      <th></th>\n      <th>index</th>\n      <th>placeName</th>\n      <th>placeTags</th>\n      <th>numPeopleVisited</th>\n      <th>numPeopleWant</th>\n      <th>placeDesc</th>\n      <th>placeShortDesc</th>\n      <th>placesNearby</th>\n      <th>placeAddress</th>\n      <th>placeAlt</th>\n      <th>placeLong</th>\n      <th>placeEditors</th>\n      <th>placePubDate</th>\n      <th>placeRelatedLists</th>\n      <th>placeRelatedPlaces</th>\n      <th>placeUrl</th>\n    </tr>\n  </thead>\n  <tbody>\n    <tr>\n      <th>0</th>\n      <td>0</td>\n      <td>109 East Palace</td>\n      <td>['manhattan project', 'secret', 'nuclear', 'sc...</td>\n      <td>419</td>\n      <td>419</td>\n      <td>When you need to be dropped off at a top-secre...</td>\n      <td>This innocuous New Mexico storefront was once ...</td>\n      <td>{'Palace of the Governors', 'Spitz Clock', 'La...</td>\n      <td>109 East Palace Santa Fe, New Mexico, 87501Uni...</td>\n      <td>35.6875</td>\n      <td>-105.9372</td>\n      <td>['michaelksugar', 'tylercole', 'Collector of E...</td>\n      <td>2014-03-31</td>\n      <td>['Camp Century (Project Iceworm)', 'Red Gate W...</td>\n      <td>NaN</td>\n      <td>NaN</td>\n    </tr>\n    <tr>\n      <th>1</th>\n      <td>0</td>\n      <td>145 Rue Lafayette</td>\n      <td>['urban planning', 'cities', 'transportation',...</td>\n      <td>163</td>\n      <td>163</td>\n      <td>While walking down the street, you’d be forgiv...</td>\n      <td>What looks like a normal building is really a ...</td>\n      <td>{\"WWII Bunker Under Gare de l'Est\", 'Sape &amp; Co...</td>\n      <td>145 Rue la FayetteParisFrance</td>\n      <td>48.8792</td>\n      <td>2.3562</td>\n      <td>['EVA', 'carllenox', 'erjeffery', 'SEANETTA']</td>\n      <td>2018-06-15</td>\n      <td>[\"Vauxhall Bridge's Miniature St. Paul's Cathe...</td>\n      <td>NaN</td>\n      <td>NaN</td>\n    </tr>\n    <tr>\n      <th>2</th>\n      <td>0</td>\n      <td>17 Room Ruin</td>\n      <td>['abandoned houses', 'native americans', 'aban...</td>\n      <td>161</td>\n      <td>161</td>\n      <td>Outside Bluff, Utah, a massive 100-foot-deep a...</td>\n      <td>A well-preserved Ancestral Puebloan ruin tucke...</td>\n      <td>{'Forrest Gump Point', 'House on Fire Ruin', '...</td>\n      <td>Bluff, UtahUnited States</td>\n      <td>37.2748</td>\n      <td>-109.5102</td>\n      <td>['JWill', 'Molly McBride Jacobson', 'djm213', ...</td>\n      <td>2017-05-10</td>\n      <td>['Keller House', 'Cow Springs Trading Post', '...</td>\n      <td>NaN</td>\n      <td>NaN</td>\n    </tr>\n    <tr>\n      <th>3</th>\n      <td>0</td>\n      <td>1890s Alien Gravesite</td>\n      <td>['aliens', 'graves', 'gravestones', 'cemeteries']</td>\n      <td>249</td>\n      <td>249</td>\n      <td>While it receives no fanfare today, the small ...</td>\n      <td>This small town Texas cemetery is said to be t...</td>\n      <td>{'Billy Bob’s Texas', 'Chef Point Bar &amp; Restau...</td>\n      <td>507 Cemetery RdAurora, Texas, 76078United States</td>\n      <td>33.0534</td>\n      <td>-97.5000</td>\n      <td>['EricGrundhauser', 'Molly McBride Jacobson', ...</td>\n      <td>2014-11-21</td>\n      <td>['Betty and Barney Hill Graves', 'The Menster ...</td>\n      <td>NaN</td>\n      <td>NaN</td>\n    </tr>\n    <tr>\n      <th>4</th>\n      <td>0</td>\n      <td>University of Virginia’s Hidden Chemical Hearth</td>\n      <td>['thomas jefferson', 'unesco', 'hidden', 'scie...</td>\n      <td>130</td>\n      <td>130</td>\n      <td>Nestled in the ground floor of a UNESCO World ...</td>\n      <td>Hidden for 165 years inside a building designe...</td>\n      <td>{'Headstone of Anna Anderson', \"University of ...</td>\n      <td>1721 University AveCharlottesville, Virginia, ...</td>\n      <td>38.0357</td>\n      <td>-78.5033</td>\n      <td>['Collin', 'blimpcaptain']</td>\n      <td>2016-05-09</td>\n      <td>['Kamerlingh Onnes Laboratory Plaque', \"Univer...</td>\n      <td>NaN</td>\n      <td>NaN</td>\n    </tr>\n    <tr>\n      <th>...</th>\n      <td>...</td>\n      <td>...</td>\n      <td>...</td>\n      <td>...</td>\n      <td>...</td>\n      <td>...</td>\n      <td>...</td>\n      <td>...</td>\n      <td>...</td>\n      <td>...</td>\n      <td>...</td>\n      <td>...</td>\n      <td>...</td>\n      <td>...</td>\n      <td>...</td>\n      <td>...</td>\n    </tr>\n    <tr>\n      <th>7195</th>\n      <td>0</td>\n      <td>Zorthian Ranch</td>\n      <td>['film locations', 'farms', 'outsider art', 'c...</td>\n      <td>75</td>\n      <td>75</td>\n      <td>California’s Zorthian Ranch is a strange compe...</td>\n      <td>The cobbled together compound of a deceased ar...</td>\n      <td>{'The Bunny Museum', 'Cobb Estate', 'Mountain ...</td>\n      <td>4010 Fair Oaks AveAltadena, California, 91001U...</td>\n      <td>34.2111</td>\n      <td>-118.1404</td>\n      <td>['ashleypinnick', 'Rachel', 'Martin', 'MagnumP...</td>\n      <td>2013-08-27</td>\n      <td>['Milwaukee Art Museum', 'Rocca Sinibalda Cast...</td>\n      <td>NaN</td>\n      <td>http://www.zorthianranch.com/</td>\n    </tr>\n    <tr>\n      <th>7196</th>\n      <td>0</td>\n      <td>Zuccari Palace</td>\n      <td>['castles', 'architectural oddities', 'archite...</td>\n      <td>432</td>\n      <td>432</td>\n      <td>In Rome there are thousands of churches, old b...</td>\n      <td>Architectural monsters are devouring this pala...</td>\n      <td>{'Keats-Shelley Memorial House', 'Santa Maria ...</td>\n      <td>34 Via GregorianaRome, 00187Italy</td>\n      <td>41.9051</td>\n      <td>12.4844</td>\n      <td>['pboduch', 'beefjorky', 'diffendale', 'Collec...</td>\n      <td>2014-03-06</td>\n      <td>['Johnstone Castle', 'Castillo Ortega-Douglas'...</td>\n      <td>NaN</td>\n      <td>NaN</td>\n    </tr>\n    <tr>\n      <th>7197</th>\n      <td>0</td>\n      <td>Zwack Unicum Museum</td>\n      <td>['food museums', 'food', 'museums and collecti...</td>\n      <td>201</td>\n      <td>201</td>\n      <td>Sometimes referred to as the Hungarian nationa...</td>\n      <td>Central Europe's largest collection of mini-bo...</td>\n      <td>{'Paul Street Boys Monument', 'Gömböc', 'Littl...</td>\n      <td>1 Dandár u.Budapest, 1095Hungary</td>\n      <td>47.4759</td>\n      <td>19.0697</td>\n      <td>['Shotsy', 'Molly McBride Jacobson', 'reley250...</td>\n      <td>2014-10-14</td>\n      <td>['Baked Bean Museum of Excellence', 'National ...</td>\n      <td>NaN</td>\n      <td>http://www.zwack.hu/en/zwack-muzeumok/zwack-mu...</td>\n    </tr>\n    <tr>\n      <th>7198</th>\n      <td>0</td>\n      <td>The Zymoglyphic Museum</td>\n      <td>['obscura day locations', 'wonder cabinets', '...</td>\n      <td>219</td>\n      <td>219</td>\n      <td>The Zymoglyphic Museum houses the cabinet of c...</td>\n      <td>Private collection of art inspired by cabinets...</td>\n      <td>{'Lincoln Street Kayak &amp; Canoe Museum', 'Morri...</td>\n      <td>6225 SE Alder St.Portland, Oregon, 97215United...</td>\n      <td>45.5177</td>\n      <td>-122.5998</td>\n      <td>['michelle', 'Martin', 'wythe', 'medhere', 'zy...</td>\n      <td>2013-06-13</td>\n      <td>['Ilana Goor Museum', 'Milwaukee Art Museum', ...</td>\n      <td>NaN</td>\n      <td>http://www.zymoglyphic.org</td>\n    </tr>\n    <tr>\n      <th>7199</th>\n      <td>0</td>\n      <td>Zzyzx Mineral Springs and Healing Center</td>\n      <td>['hoaxes and pseudoscience', 'places to stay',...</td>\n      <td>282</td>\n      <td>282</td>\n      <td>Curtis Howe Springer was a self-proclaimed med...</td>\n      <td>A former utopian healing center created by a h...</td>\n      <td>{'Alien Fresh Jerky', 'Travelers Monument', \"W...</td>\n      <td>Zzyzx RoadSan Bernardino, CaliforniaUnited States</td>\n      <td>35.1431</td>\n      <td>-116.1042</td>\n      <td>['anhie', 'obleuiiis', 'aaronrwilliams1987', '...</td>\n      <td>2009-10-19</td>\n      <td>['UFO Watchtower', 'American Society of Dowser...</td>\n      <td>NaN</td>\n      <td>http://biology.fullerton.edu/dsc/index.html</td>\n    </tr>\n  </tbody>\n</table>\n<p>7200 rows × 16 columns</p>\n</div>"
     },
     "execution_count": 2,
     "metadata": {},
     "output_type": "execute_result"
    }
   ],
   "source": [
    "tsv_dir = os.getcwd() + '/tsv_files'\n",
    "files = [f for f in listdir(tsv_dir) if isfile(join(tsv_dir, f)) and f.lower().endswith(('.tsv'))]\n",
    "dataframes = []\n",
    "for file in files:\n",
    "    df = pd.read_csv(os.path.join(tsv_dir, file.title().lower()), delimiter=\"\\t\")\n",
    "    dataframes.append(df)\n",
    "df = pd.DataFrame(pd.concat(dataframes)).reset_index()\n",
    "df_original = df.copy()\n",
    "df"
   ],
   "metadata": {
    "collapsed": false
   }
  },
  {
   "cell_type": "markdown",
   "source": [
    "# **2. Search Engine**\n",
    "\n",
    "Now, we want to create two different Search Engines that, given as input a query, return the places that match the query.\n",
    "\n",
    "First, you must pre-process all the information collected for each place by:\n",
    "\n",
    "- Removing stopwords\n",
    "- Removing punctuation\n",
    "- Stemming\n",
    "- Anything else you think it's needed\n",
    "\n",
    "For this purpose, you can use the nltk library."
   ],
   "metadata": {
    "collapsed": false
   }
  },
  {
   "cell_type": "code",
   "execution_count": 3,
   "outputs": [
    {
     "data": {
      "text/plain": "      index                                          placeName  \\\n0         0                                [109, East, Palace]   \n1         0                              [145, Rue, Lafayette]   \n2         0                                   [17, Room, Ruin]   \n3         0                          [1890s, Alien, Gravesite]   \n4         0  [University, Virginia, ’, Hidden, Chemical, He...   \n...     ...                                                ...   \n7195      0                                  [Zorthian, Ranch]   \n7196      0                                  [Zuccari, Palace]   \n7197      0                            [Zwack, Unicum, Museum]   \n7198      0                         [The, Zymoglyphic, Museum]   \n7199      0         [Zzyzx, Mineral, Springs, Healing, Center]   \n\n                                              placeTags  numPeopleVisited  \\\n0     ['manhattan, project, 'secret, 'nuclear, 'scie...               419   \n1     ['urban, planning, 'cities, 'transportation, '...               163   \n2     ['abandoned, houses, 'native, americans, 'aban...               161   \n3         ['aliens, 'graves, 'gravestones, 'cemeteries]               249   \n4      ['thomas, jefferson, 'unesco, 'hidden, 'science]               130   \n...                                                 ...               ...   \n7195  ['film, locations, 'farms, 'outsider, art, 'co...                75   \n7196  ['castles, 'architectural, oddities, 'architec...               432   \n7197  ['food, museums, 'food, 'museums, collections,...               201   \n7198  ['obscura, day, locations, 'wonder, cabinets, ...               219   \n7199  ['hoaxes, pseudoscience, 'places, stay, 'outsi...               282   \n\n      numPeopleWant                                          placeDesc  \\\n0               419  [When, need, dropped, top-secret, research, fa...   \n1               163  [While, walking, street, ’, forgiven, thinking...   \n2               161  [Outside, Bluff, Utah, massive, 100-foot-deep,...   \n3               249  [While, receives, fanfare, today, small, town,...   \n4               130  [Nestled, ground, floor, UNESCO, World, Herita...   \n...             ...                                                ...   \n7195             75  [California, ’, Zorthian, Ranch, strange, comp...   \n7196            432  [In, Rome, thousands, churches, old, buildings...   \n7197            201  [Sometimes, referred, Hungarian, national, spi...   \n7198            219  [The, Zymoglyphic, Museum, houses, cabinet, cu...   \n7199            282  [Curtis, Howe, Springer, self-proclaimed, medi...   \n\n                                         placeShortDesc  \\\n0     [This, innocuous, New, Mexico, storefront, sec...   \n1     [What, looks, like, normal, building, really, ...   \n2     [A, well-preserved, Ancestral, Puebloan, ruin,...   \n3     [This, small, town, Texas, cemetery, said, bur...   \n4     [Hidden, 165, years, inside, building, designe...   \n...                                                 ...   \n7195  [The, cobbled, together, compound, deceased, a...   \n7196  [Architectural, monsters, devouring, palace, '...   \n7197  [Central, Europe, 's, largest, collection, min...   \n7198  [Private, collection, art, inspired, cabinets,...   \n7199  [A, former, utopian, healing, center, created,...   \n\n                                           placesNearby  \\\n0     ['Palace, Governors, 'Spitz, Clock, 'La, Conqu...   \n1     [``, WWII, Bunker, Under, Gare, de, l'Est, '',...   \n2     ['Forrest, Gump, Point, 'House, Fire, Ruin, 'F...   \n3     ['Billy, Bob, ’, Texas, 'Chef, Point, Bar, Res...   \n4     ['Headstone, Anna, Anderson, ``, University, V...   \n...                                                 ...   \n7195  ['The, Bunny, Museum, 'Cobb, Estate, 'Mountain...   \n7196  ['Keats-Shelley, Memorial, House, 'Santa, Mari...   \n7197  ['Paul, Street, Boys, Monument, 'Gömböc, 'Litt...   \n7198  ['Lincoln, Street, Kayak, Canoe, Museum, 'Morr...   \n7199  ['Alien, Fresh, Jerky, 'Travelers, Monument, `...   \n\n                                           placeAddress  placeAlt  placeLong  \\\n0     [109, East, Palace, Santa, Fe, New, Mexico, 87...   35.6875  -105.9372   \n1                    [145, Rue, la, FayetteParisFrance]   48.8792     2.3562   \n2                           [Bluff, UtahUnited, States]   37.2748  -109.5102   \n3     [507, Cemetery, RdAurora, Texas, 76078United, ...   33.0534   -97.5000   \n4     [1721, University, AveCharlottesville, Virgini...   38.0357   -78.5033   \n...                                                 ...       ...        ...   \n7195  [4010, Fair, Oaks, AveAltadena, California, 91...   34.2111  -118.1404   \n7196              [34, Via, GregorianaRome, 00187Italy]   41.9051    12.4844   \n7197               [1, Dandár, u.Budapest, 1095Hungary]   47.4759    19.0697   \n7198  [6225, SE, Alder, St.Portland, Oregon, 97215Un...   45.5177  -122.5998   \n7199  [Zzyzx, RoadSan, Bernardino, CaliforniaUnited,...   35.1431  -116.1042   \n\n                                           placeEditors placePubDate  \\\n0     ['michaelksugar, 'tylercole, 'Collector, Exper...   2014-03-31   \n1             ['EVA, 'carllenox, 'erjeffery, 'SEANETTA]   2018-06-15   \n2     ['JWill, 'Molly, McBride, Jacobson, 'djm213, '...   2017-05-10   \n3     ['EricGrundhauser, 'Molly, McBride, Jacobson, ...   2014-11-21   \n4                              ['Collin, 'blimpcaptain]   2016-05-09   \n...                                                 ...          ...   \n7195  ['ashleypinnick, 'Rachel, 'Martin, 'MagnumPI, ...   2013-08-27   \n7196  ['pboduch, 'beefjorky, 'diffendale, 'Collector...   2014-03-06   \n7197  ['Shotsy, 'Molly, McBride, Jacobson, 'reley250...   2014-10-14   \n7198  ['michelle, 'Martin, 'wythe, 'medhere, 'zymogl...   2013-06-13   \n7199  ['anhie, 'obleuiiis, 'aaronrwilliams1987, 'Lam...   2009-10-19   \n\n                                      placeRelatedLists placeRelatedPlaces  \\\n0     ['Camp, Century, Project, Iceworm, 'Red, Gate,...              [nan]   \n1     [``, Vauxhall, Bridge, 's, Miniature, St., Pau...              [nan]   \n2     ['Keller, House, 'Cow, Springs, Trading, Post,...              [nan]   \n3     ['Betty, Barney, Hill, Graves, 'The, Menster, ...              [nan]   \n4     ['Kamerlingh, Onnes, Laboratory, Plaque, ``, U...              [nan]   \n...                                                 ...                ...   \n7195  ['Milwaukee, Art, Museum, 'Rocca, Sinibalda, C...              [nan]   \n7196  ['Johnstone, Castle, 'Castillo, Ortega-Douglas...              [nan]   \n7197  ['Baked, Bean, Museum, Excellence, 'National, ...              [nan]   \n7198  ['Ilana, Goor, Museum, 'Milwaukee, Art, Museum...              [nan]   \n7199  ['UFO, Watchtower, 'American, Society, Dowsers...              [nan]   \n\n                                               placeUrl  \n0                                                 [nan]  \n1                                                 [nan]  \n2                                                 [nan]  \n3                                                 [nan]  \n4                                                 [nan]  \n...                                                 ...  \n7195                   [http, //www.zorthianranch.com/]  \n7196                                              [nan]  \n7197  [http, //www.zwack.hu/en/zwack-muzeumok/zwack-...  \n7198                      [http, //www.zymoglyphic.org]  \n7199     [http, //biology.fullerton.edu/dsc/index.html]  \n\n[7200 rows x 16 columns]",
      "text/html": "<div>\n<style scoped>\n    .dataframe tbody tr th:only-of-type {\n        vertical-align: middle;\n    }\n\n    .dataframe tbody tr th {\n        vertical-align: top;\n    }\n\n    .dataframe thead th {\n        text-align: right;\n    }\n</style>\n<table border=\"1\" class=\"dataframe\">\n  <thead>\n    <tr style=\"text-align: right;\">\n      <th></th>\n      <th>index</th>\n      <th>placeName</th>\n      <th>placeTags</th>\n      <th>numPeopleVisited</th>\n      <th>numPeopleWant</th>\n      <th>placeDesc</th>\n      <th>placeShortDesc</th>\n      <th>placesNearby</th>\n      <th>placeAddress</th>\n      <th>placeAlt</th>\n      <th>placeLong</th>\n      <th>placeEditors</th>\n      <th>placePubDate</th>\n      <th>placeRelatedLists</th>\n      <th>placeRelatedPlaces</th>\n      <th>placeUrl</th>\n    </tr>\n  </thead>\n  <tbody>\n    <tr>\n      <th>0</th>\n      <td>0</td>\n      <td>[109, East, Palace]</td>\n      <td>['manhattan, project, 'secret, 'nuclear, 'scie...</td>\n      <td>419</td>\n      <td>419</td>\n      <td>[When, need, dropped, top-secret, research, fa...</td>\n      <td>[This, innocuous, New, Mexico, storefront, sec...</td>\n      <td>['Palace, Governors, 'Spitz, Clock, 'La, Conqu...</td>\n      <td>[109, East, Palace, Santa, Fe, New, Mexico, 87...</td>\n      <td>35.6875</td>\n      <td>-105.9372</td>\n      <td>['michaelksugar, 'tylercole, 'Collector, Exper...</td>\n      <td>2014-03-31</td>\n      <td>['Camp, Century, Project, Iceworm, 'Red, Gate,...</td>\n      <td>[nan]</td>\n      <td>[nan]</td>\n    </tr>\n    <tr>\n      <th>1</th>\n      <td>0</td>\n      <td>[145, Rue, Lafayette]</td>\n      <td>['urban, planning, 'cities, 'transportation, '...</td>\n      <td>163</td>\n      <td>163</td>\n      <td>[While, walking, street, ’, forgiven, thinking...</td>\n      <td>[What, looks, like, normal, building, really, ...</td>\n      <td>[``, WWII, Bunker, Under, Gare, de, l'Est, '',...</td>\n      <td>[145, Rue, la, FayetteParisFrance]</td>\n      <td>48.8792</td>\n      <td>2.3562</td>\n      <td>['EVA, 'carllenox, 'erjeffery, 'SEANETTA]</td>\n      <td>2018-06-15</td>\n      <td>[``, Vauxhall, Bridge, 's, Miniature, St., Pau...</td>\n      <td>[nan]</td>\n      <td>[nan]</td>\n    </tr>\n    <tr>\n      <th>2</th>\n      <td>0</td>\n      <td>[17, Room, Ruin]</td>\n      <td>['abandoned, houses, 'native, americans, 'aban...</td>\n      <td>161</td>\n      <td>161</td>\n      <td>[Outside, Bluff, Utah, massive, 100-foot-deep,...</td>\n      <td>[A, well-preserved, Ancestral, Puebloan, ruin,...</td>\n      <td>['Forrest, Gump, Point, 'House, Fire, Ruin, 'F...</td>\n      <td>[Bluff, UtahUnited, States]</td>\n      <td>37.2748</td>\n      <td>-109.5102</td>\n      <td>['JWill, 'Molly, McBride, Jacobson, 'djm213, '...</td>\n      <td>2017-05-10</td>\n      <td>['Keller, House, 'Cow, Springs, Trading, Post,...</td>\n      <td>[nan]</td>\n      <td>[nan]</td>\n    </tr>\n    <tr>\n      <th>3</th>\n      <td>0</td>\n      <td>[1890s, Alien, Gravesite]</td>\n      <td>['aliens, 'graves, 'gravestones, 'cemeteries]</td>\n      <td>249</td>\n      <td>249</td>\n      <td>[While, receives, fanfare, today, small, town,...</td>\n      <td>[This, small, town, Texas, cemetery, said, bur...</td>\n      <td>['Billy, Bob, ’, Texas, 'Chef, Point, Bar, Res...</td>\n      <td>[507, Cemetery, RdAurora, Texas, 76078United, ...</td>\n      <td>33.0534</td>\n      <td>-97.5000</td>\n      <td>['EricGrundhauser, 'Molly, McBride, Jacobson, ...</td>\n      <td>2014-11-21</td>\n      <td>['Betty, Barney, Hill, Graves, 'The, Menster, ...</td>\n      <td>[nan]</td>\n      <td>[nan]</td>\n    </tr>\n    <tr>\n      <th>4</th>\n      <td>0</td>\n      <td>[University, Virginia, ’, Hidden, Chemical, He...</td>\n      <td>['thomas, jefferson, 'unesco, 'hidden, 'science]</td>\n      <td>130</td>\n      <td>130</td>\n      <td>[Nestled, ground, floor, UNESCO, World, Herita...</td>\n      <td>[Hidden, 165, years, inside, building, designe...</td>\n      <td>['Headstone, Anna, Anderson, ``, University, V...</td>\n      <td>[1721, University, AveCharlottesville, Virgini...</td>\n      <td>38.0357</td>\n      <td>-78.5033</td>\n      <td>['Collin, 'blimpcaptain]</td>\n      <td>2016-05-09</td>\n      <td>['Kamerlingh, Onnes, Laboratory, Plaque, ``, U...</td>\n      <td>[nan]</td>\n      <td>[nan]</td>\n    </tr>\n    <tr>\n      <th>...</th>\n      <td>...</td>\n      <td>...</td>\n      <td>...</td>\n      <td>...</td>\n      <td>...</td>\n      <td>...</td>\n      <td>...</td>\n      <td>...</td>\n      <td>...</td>\n      <td>...</td>\n      <td>...</td>\n      <td>...</td>\n      <td>...</td>\n      <td>...</td>\n      <td>...</td>\n      <td>...</td>\n    </tr>\n    <tr>\n      <th>7195</th>\n      <td>0</td>\n      <td>[Zorthian, Ranch]</td>\n      <td>['film, locations, 'farms, 'outsider, art, 'co...</td>\n      <td>75</td>\n      <td>75</td>\n      <td>[California, ’, Zorthian, Ranch, strange, comp...</td>\n      <td>[The, cobbled, together, compound, deceased, a...</td>\n      <td>['The, Bunny, Museum, 'Cobb, Estate, 'Mountain...</td>\n      <td>[4010, Fair, Oaks, AveAltadena, California, 91...</td>\n      <td>34.2111</td>\n      <td>-118.1404</td>\n      <td>['ashleypinnick, 'Rachel, 'Martin, 'MagnumPI, ...</td>\n      <td>2013-08-27</td>\n      <td>['Milwaukee, Art, Museum, 'Rocca, Sinibalda, C...</td>\n      <td>[nan]</td>\n      <td>[http, //www.zorthianranch.com/]</td>\n    </tr>\n    <tr>\n      <th>7196</th>\n      <td>0</td>\n      <td>[Zuccari, Palace]</td>\n      <td>['castles, 'architectural, oddities, 'architec...</td>\n      <td>432</td>\n      <td>432</td>\n      <td>[In, Rome, thousands, churches, old, buildings...</td>\n      <td>[Architectural, monsters, devouring, palace, '...</td>\n      <td>['Keats-Shelley, Memorial, House, 'Santa, Mari...</td>\n      <td>[34, Via, GregorianaRome, 00187Italy]</td>\n      <td>41.9051</td>\n      <td>12.4844</td>\n      <td>['pboduch, 'beefjorky, 'diffendale, 'Collector...</td>\n      <td>2014-03-06</td>\n      <td>['Johnstone, Castle, 'Castillo, Ortega-Douglas...</td>\n      <td>[nan]</td>\n      <td>[nan]</td>\n    </tr>\n    <tr>\n      <th>7197</th>\n      <td>0</td>\n      <td>[Zwack, Unicum, Museum]</td>\n      <td>['food, museums, 'food, 'museums, collections,...</td>\n      <td>201</td>\n      <td>201</td>\n      <td>[Sometimes, referred, Hungarian, national, spi...</td>\n      <td>[Central, Europe, 's, largest, collection, min...</td>\n      <td>['Paul, Street, Boys, Monument, 'Gömböc, 'Litt...</td>\n      <td>[1, Dandár, u.Budapest, 1095Hungary]</td>\n      <td>47.4759</td>\n      <td>19.0697</td>\n      <td>['Shotsy, 'Molly, McBride, Jacobson, 'reley250...</td>\n      <td>2014-10-14</td>\n      <td>['Baked, Bean, Museum, Excellence, 'National, ...</td>\n      <td>[nan]</td>\n      <td>[http, //www.zwack.hu/en/zwack-muzeumok/zwack-...</td>\n    </tr>\n    <tr>\n      <th>7198</th>\n      <td>0</td>\n      <td>[The, Zymoglyphic, Museum]</td>\n      <td>['obscura, day, locations, 'wonder, cabinets, ...</td>\n      <td>219</td>\n      <td>219</td>\n      <td>[The, Zymoglyphic, Museum, houses, cabinet, cu...</td>\n      <td>[Private, collection, art, inspired, cabinets,...</td>\n      <td>['Lincoln, Street, Kayak, Canoe, Museum, 'Morr...</td>\n      <td>[6225, SE, Alder, St.Portland, Oregon, 97215Un...</td>\n      <td>45.5177</td>\n      <td>-122.5998</td>\n      <td>['michelle, 'Martin, 'wythe, 'medhere, 'zymogl...</td>\n      <td>2013-06-13</td>\n      <td>['Ilana, Goor, Museum, 'Milwaukee, Art, Museum...</td>\n      <td>[nan]</td>\n      <td>[http, //www.zymoglyphic.org]</td>\n    </tr>\n    <tr>\n      <th>7199</th>\n      <td>0</td>\n      <td>[Zzyzx, Mineral, Springs, Healing, Center]</td>\n      <td>['hoaxes, pseudoscience, 'places, stay, 'outsi...</td>\n      <td>282</td>\n      <td>282</td>\n      <td>[Curtis, Howe, Springer, self-proclaimed, medi...</td>\n      <td>[A, former, utopian, healing, center, created,...</td>\n      <td>['Alien, Fresh, Jerky, 'Travelers, Monument, `...</td>\n      <td>[Zzyzx, RoadSan, Bernardino, CaliforniaUnited,...</td>\n      <td>35.1431</td>\n      <td>-116.1042</td>\n      <td>['anhie, 'obleuiiis, 'aaronrwilliams1987, 'Lam...</td>\n      <td>2009-10-19</td>\n      <td>['UFO, Watchtower, 'American, Society, Dowsers...</td>\n      <td>[nan]</td>\n      <td>[http, //biology.fullerton.edu/dsc/index.html]</td>\n    </tr>\n  </tbody>\n</table>\n<p>7200 rows × 16 columns</p>\n</div>"
     },
     "execution_count": 3,
     "metadata": {},
     "output_type": "execute_result"
    }
   ],
   "source": [
    "# removing stopwords and tokenize\n",
    "def remove_empty(x):\n",
    "    if type(x) is str:\n",
    "        x = x.split(\",\")\n",
    "        x = [ y for y in x if y.strip()]\n",
    "        return \",\".join(x)\n",
    "    elif type(x) is list:\n",
    "        return [ y for y in x if y.strip()]\n",
    "\n",
    "stop_words = stopwords.words('english') + list(string.punctuation)\n",
    "\n",
    "df['placeName'] = df['placeName'].apply(lambda x: [word for word in word_tokenize(str(x)) if word not in stop_words]).apply(remove_empty)\n",
    "df['placeTags'] = df['placeTags'].apply(lambda x: [word for word in word_tokenize(str(x)) if word not in stop_words]).apply(remove_empty)\n",
    "df['placeDesc'] = df['placeDesc'].apply(lambda x: [word for word in word_tokenize(str(x)) if word not in stop_words]).apply(remove_empty)\n",
    "df['placeShortDesc'] = df['placeShortDesc'].apply(lambda x: [word for word in word_tokenize(str(x)) if word not in stop_words]).apply(remove_empty)\n",
    "df['placesNearby'] = df['placesNearby'].apply(lambda x: [word for word in word_tokenize(str(x)) if word not in stop_words]).apply(remove_empty)\n",
    "df['placeAddress'] = df['placeAddress'].apply(lambda x: [word for word in word_tokenize(str(x)) if word not in stop_words]).apply(remove_empty)\n",
    "df['placeEditors'] = df['placeEditors'].apply(lambda x: [word for word in word_tokenize(str(x)) if word not in stop_words]).apply(remove_empty)\n",
    "df['placeRelatedLists'] = df['placeRelatedLists'].apply(lambda x: [word for word in word_tokenize(str(x)) if word not in stop_words]).apply(remove_empty)\n",
    "df['placeRelatedPlaces'] = df['placeRelatedPlaces'].apply(lambda x: [word for word in word_tokenize(str(x)) if word not in stop_words]).apply(remove_empty)\n",
    "df['placeUrl'] = df['placeUrl'].apply(lambda x: [word for word in word_tokenize(str(x)) if word not in stop_words]).apply(remove_empty)\n",
    "df"
   ],
   "metadata": {
    "collapsed": false
   }
  },
  {
   "cell_type": "code",
   "execution_count": 4,
   "outputs": [],
   "source": [
    "# stemming\n",
    "from nltk.stem.snowball import SnowballStemmer\n",
    "englishStemmer = SnowballStemmer(\"english\")\n",
    "\n",
    "df['placeDesc'] = df['placeDesc'].apply(lambda row: [englishStemmer.stem(sentence) for sentence in row])"
   ],
   "metadata": {
    "collapsed": false
   }
  },
  {
   "cell_type": "code",
   "execution_count": 5,
   "outputs": [],
   "source": [
    "dictionary = OrderedDict()\n",
    "term_id = 0\n",
    "\n",
    "def create_dictionary():\n",
    "    with open('./vocabulary.json', 'w+', encoding='utf-8') as dict_file :\n",
    "        json.dump(dictionary, dict_file)\n",
    "    dict_file.close()\n",
    "\n",
    "def fill_dictionary(values):\n",
    "    global term_id\n",
    "    for word in values:\n",
    "        dictionary[word] = term_id + 1\n",
    "        term_id += 1\n",
    "\n",
    "df['placeDesc'].apply(lambda values: fill_dictionary(values))\n",
    "create_dictionary()"
   ],
   "metadata": {
    "collapsed": false
   }
  },
  {
   "cell_type": "code",
   "execution_count": 6,
   "outputs": [
    {
     "name": "stderr",
     "output_type": "stream",
     "text": [
      "100%|██████████| 54205/54205 [12:34<00:00, 71.85it/s]\n"
     ]
    }
   ],
   "source": [
    "def inverse_dictionary(data):\n",
    "    inverse_dict = OrderedDict()\n",
    "    f = open('vocabulary.json')\n",
    "    jsonData = json.load(f)\n",
    "    l = list(jsonData.keys())\n",
    "\n",
    "    for word in tqdm(l):\n",
    "        o = [word in x for x in data]\n",
    "        idxs = [i for i, x in enumerate(o) if x == True]\n",
    "        inverse_dict[jsonData[word]] = idxs\n",
    "    f.close()\n",
    "    return inverse_dict\n",
    "\n",
    "inverse_dict = inverse_dictionary(df['placeDesc'])"
   ],
   "metadata": {
    "collapsed": false
   }
  },
  {
   "cell_type": "code",
   "execution_count": 7,
   "outputs": [],
   "source": [
    "with open('./inverse_vocabulary.json', 'w+', encoding='utf-8') as dict_file :\n",
    "    json.dump(inverse_dict, dict_file)\n",
    "dict_file.close()"
   ],
   "metadata": {
    "collapsed": false
   }
  },
  {
   "cell_type": "code",
   "execution_count": 8,
   "outputs": [],
   "source": [
    "df_original['index'] = df_original.index"
   ],
   "metadata": {
    "collapsed": false
   }
  },
  {
   "cell_type": "code",
   "execution_count": 9,
   "outputs": [
    {
     "name": "stdout",
     "output_type": "stream",
     "text": [
      "searching on query: \u001B[1mTaj Mahal\u001B[0m\n"
     ]
    },
    {
     "data": {
      "text/plain": "                      placeName  \\\n3470  Lonnie Hammargren's House   \n3932            Mozumdar Temple   \n5144                    Saltair   \n\n                                              placeDesc  \\\n3470  Lonnie Hammargren is a bit of a local legend—a...   \n3932  The Mozumdar temple bears a striking resemblan...   \n5144  Originally built in 1893 in an anachronistic I...   \n\n                                            placeUrl  \\\n3470                       http://www.nevadadays.org   \n3932  http://www.mozumdar.org/photos_camp_today.html   \n5144                      http://www.thesaltair.com/   \n\n                                         placeShortDesc  \n3470  This former lieutenant governor's home is brim...  \n3932  This temple, built by an eccentric religious l...  \n5144  This concert pavilion on the shore of the Grea...  ",
      "text/html": "<div>\n<style scoped>\n    .dataframe tbody tr th:only-of-type {\n        vertical-align: middle;\n    }\n\n    .dataframe tbody tr th {\n        vertical-align: top;\n    }\n\n    .dataframe thead th {\n        text-align: right;\n    }\n</style>\n<table border=\"1\" class=\"dataframe\">\n  <thead>\n    <tr style=\"text-align: right;\">\n      <th></th>\n      <th>placeName</th>\n      <th>placeDesc</th>\n      <th>placeUrl</th>\n      <th>placeShortDesc</th>\n    </tr>\n  </thead>\n  <tbody>\n    <tr>\n      <th>3470</th>\n      <td>Lonnie Hammargren's House</td>\n      <td>Lonnie Hammargren is a bit of a local legend—a...</td>\n      <td>http://www.nevadadays.org</td>\n      <td>This former lieutenant governor's home is brim...</td>\n    </tr>\n    <tr>\n      <th>3932</th>\n      <td>Mozumdar Temple</td>\n      <td>The Mozumdar temple bears a striking resemblan...</td>\n      <td>http://www.mozumdar.org/photos_camp_today.html</td>\n      <td>This temple, built by an eccentric religious l...</td>\n    </tr>\n    <tr>\n      <th>5144</th>\n      <td>Saltair</td>\n      <td>Originally built in 1893 in an anachronistic I...</td>\n      <td>http://www.thesaltair.com/</td>\n      <td>This concert pavilion on the shore of the Grea...</td>\n    </tr>\n  </tbody>\n</table>\n</div>"
     },
     "execution_count": 9,
     "metadata": {},
     "output_type": "execute_result"
    }
   ],
   "source": [
    "query_original = input(\"Type query: \" )\n",
    "query = query_original.lower().split(' ')\n",
    "\n",
    "row_query_list = []\n",
    "row_query = set()\n",
    "\n",
    "f = open('vocabulary.json')\n",
    "vocabulary = json.load(f)\n",
    "f.close()\n",
    "\n",
    "with open('./inverse_vocabulary.json', encoding='utf-8') as dict_file :\n",
    "    jsonData = json.load(dict_file)\n",
    "    for word in query:\n",
    "        try:\n",
    "            term_id = vocabulary[word]\n",
    "            documents_id = jsonData[str(term_id)]\n",
    "            row_query_list.append(set(documents_id))\n",
    "        except KeyError:\n",
    "            row_query.clear()\n",
    "        row_query = set.intersection(*row_query_list)\n",
    "dict_file.close()\n",
    "\n",
    "print(\"searching on query: \" +'\\033[1m' + query_original + '\\033[0m')\n",
    "if len(row_query) == 0:\n",
    "    print('\\033[1m' + \"\\nNo result was found. Maybe you're searchin for a stopword. Please retry with more informations.\" + '\\033[0m' + '\\n')\n",
    "\n",
    "df_original[['placeName','placeDesc','placeUrl','placeShortDesc']][df_original['index'].isin(row_query)]"
   ],
   "metadata": {
    "collapsed": false
   }
  },
  {
   "cell_type": "code",
   "execution_count": 10,
   "outputs": [],
   "source": [
    "from sklearn.feature_extraction.text import TfidfVectorizer\n",
    "from sklearn.metrics.pairwise import cosine_similarity\n",
    "\n",
    "def get_cosine_similarity(word, rows):\n",
    "    train_set = [word,*df_original['placeDesc'].get(rows)]\n",
    "    tfidf_vectorizer = TfidfVectorizer()\n",
    "    tfidf_matrix_train = tfidf_vectorizer.fit_transform(train_set)  #finds the tfidf score with normalization\n",
    "    return cosine_similarity(tfidf_matrix_train[0:1], tfidf_matrix_train)[:,1:]"
   ],
   "metadata": {
    "collapsed": false
   }
  },
  {
   "cell_type": "code",
   "execution_count": 11,
   "outputs": [],
   "source": [
    "f = open('vocabulary.json')\n",
    "vocabulary = json.load(f)\n",
    "reverse_vocabulary = dict((v, k) for k, v in vocabulary.items())\n",
    "f.close()\n",
    "\n",
    "\n",
    "def inverse_tfid_dictionary():\n",
    "    inverse_dict = OrderedDict()\n",
    "    f = open('inverse_vocabulary.json')\n",
    "    jsonData = json.load(f)\n",
    "    term_ids = list(jsonData.keys())\n",
    "    for term_id in tqdm(term_ids):\n",
    "        tfId_scores = get_cosine_similarity(reverse_vocabulary[int(term_id)], jsonData[term_id])\n",
    "        result = list(zip(jsonData[term_id], tfId_scores[0]))\n",
    "        inverse_dict[term_id] = result\n",
    "    f.close()\n",
    "    return inverse_dict"
   ],
   "metadata": {
    "collapsed": false
   }
  },
  {
   "cell_type": "code",
   "execution_count": 12,
   "outputs": [
    {
     "name": "stderr",
     "output_type": "stream",
     "text": [
      "100%|██████████| 54205/54205 [04:28<00:00, 201.52it/s]\n"
     ]
    }
   ],
   "source": [
    "inverse_dict = inverse_tfid_dictionary()"
   ],
   "metadata": {
    "collapsed": false
   }
  },
  {
   "cell_type": "code",
   "execution_count": 13,
   "outputs": [],
   "source": [
    "with open('./inverse_tf_ids_vocabulary.json', 'w+', encoding='utf-8') as dict_file :\n",
    "    json.dump(inverse_dict, dict_file)\n",
    "dict_file.close()"
   ],
   "metadata": {
    "collapsed": false
   }
  },
  {
   "cell_type": "code",
   "execution_count": 14,
   "outputs": [
    {
     "name": "stdout",
     "output_type": "stream",
     "text": [
      "searching on query: \u001B[1mmoscow\u001B[0m\n"
     ]
    },
    {
     "data": {
      "text/plain": "                             placeName  \\\n0                            Bunker-42   \n1                German-Russian Museum   \n2                       Laika Monument   \n3                    Lenin's Mausoleum   \n4  Ukrainian National Chernobyl Museum   \n\n                                           placeDesc  \\\n0  There’s an amazing tunnel system snaking benea...   \n1  Deep in the former East Berlin, the German-Rus...   \n2  The Russian mutt known as Laika is the first a...   \n3  Lenin’s mausoleum in Red Square offers up one ...   \n4  This small and unassuming museum documents the...   \n\n                                      placeUrl  \\\n0    http://www.bunker42.com/index.php?lang=en   \n1             http://www.museum-karlshorst.de/   \n2                                          NaN   \n3                                          NaN   \n4  http://chornobylmuseum.kiev.ua/en/about-us/   \n\n                                      placeShortDesc  similarity  \n0  Dr. Strangelove-esque tours reveal the inside ...    0.032087  \n1  A museum in the building where Nazi Germany si...    0.031951  \n2  It took over half a century but a Russian monu...    0.033037  \n3  This building holds the embalmed remains of th...    0.032891  \n4  This unassuming museum's slogan translates to ...    0.026928  ",
      "text/html": "<div>\n<style scoped>\n    .dataframe tbody tr th:only-of-type {\n        vertical-align: middle;\n    }\n\n    .dataframe tbody tr th {\n        vertical-align: top;\n    }\n\n    .dataframe thead th {\n        text-align: right;\n    }\n</style>\n<table border=\"1\" class=\"dataframe\">\n  <thead>\n    <tr style=\"text-align: right;\">\n      <th></th>\n      <th>placeName</th>\n      <th>placeDesc</th>\n      <th>placeUrl</th>\n      <th>placeShortDesc</th>\n      <th>similarity</th>\n    </tr>\n  </thead>\n  <tbody>\n    <tr>\n      <th>0</th>\n      <td>Bunker-42</td>\n      <td>There’s an amazing tunnel system snaking benea...</td>\n      <td>http://www.bunker42.com/index.php?lang=en</td>\n      <td>Dr. Strangelove-esque tours reveal the inside ...</td>\n      <td>0.032087</td>\n    </tr>\n    <tr>\n      <th>1</th>\n      <td>German-Russian Museum</td>\n      <td>Deep in the former East Berlin, the German-Rus...</td>\n      <td>http://www.museum-karlshorst.de/</td>\n      <td>A museum in the building where Nazi Germany si...</td>\n      <td>0.031951</td>\n    </tr>\n    <tr>\n      <th>2</th>\n      <td>Laika Monument</td>\n      <td>The Russian mutt known as Laika is the first a...</td>\n      <td>NaN</td>\n      <td>It took over half a century but a Russian monu...</td>\n      <td>0.033037</td>\n    </tr>\n    <tr>\n      <th>3</th>\n      <td>Lenin's Mausoleum</td>\n      <td>Lenin’s mausoleum in Red Square offers up one ...</td>\n      <td>NaN</td>\n      <td>This building holds the embalmed remains of th...</td>\n      <td>0.032891</td>\n    </tr>\n    <tr>\n      <th>4</th>\n      <td>Ukrainian National Chernobyl Museum</td>\n      <td>This small and unassuming museum documents the...</td>\n      <td>http://chornobylmuseum.kiev.ua/en/about-us/</td>\n      <td>This unassuming museum's slogan translates to ...</td>\n      <td>0.026928</td>\n    </tr>\n  </tbody>\n</table>\n</div>"
     },
     "execution_count": 14,
     "metadata": {},
     "output_type": "execute_result"
    }
   ],
   "source": [
    "query_original = input(\"Type query: \" )\n",
    "query = query_original.lower().split(' ')\n",
    "\n",
    "row_query = set()\n",
    "\n",
    "f = open('vocabulary.json')\n",
    "vocabulary = json.load(f)\n",
    "f.close()\n",
    "\n",
    "with open('./inverse_tf_ids_vocabulary.json', encoding='utf-8') as dict_file :\n",
    "    jsonData = json.load(dict_file)\n",
    "    for word in query:\n",
    "        try:\n",
    "            term_id = vocabulary[word]\n",
    "            documents_ids = jsonData[str(term_id)]\n",
    "            documents_ids = [tuple(x) for x in documents_ids]\n",
    "            row_query.update(set(documents_ids))\n",
    "        except KeyError:\n",
    "            row_query.clear()\n",
    "dict_file.close()\n",
    "\n",
    "row_query = list(row_query)\n",
    "row_query.sort(key=lambda tup: tup[1], reverse=True)\n",
    "top_5 = row_query[0:5]\n",
    "heapq.heapify(top_5)\n",
    "\n",
    "print(\"searching on query: \" +'\\033[1m' + query_original + '\\033[0m')\n",
    "if len(row_query) == 0:\n",
    "    print('\\033[1m' + \"\\nNo result was found. Maybe you're searchin for a stopword. Please retry with more informations.\" + '\\033[0m' + '\\n')\n",
    "\n",
    "top_5_df_rows = df_original[['placeName','placeDesc','placeUrl','placeShortDesc','index']][df_original['index'].isin([doc_id[0] for doc_id in top_5])]\n",
    "tuples_as_df = pd.DataFrame(top_5, columns=['index','similarity'])\n",
    "top_5_df_rows = top_5_df_rows.merge(tuples_as_df, on=\"index\")\n",
    "top_5_df_rows.drop(['index'], axis=1)"
   ],
   "metadata": {
    "collapsed": false
   }
  },
  {
   "cell_type": "markdown",
   "source": [
    "# **3. Define a new Score**\n",
    "."
   ],
   "metadata": {
    "collapsed": false
   }
  },
  {
   "cell_type": "code",
   "execution_count": 15,
   "outputs": [],
   "source": [
    "def get_custom_similarity(rows):\n",
    "    df_rows_visited_people = [*df_original['numPeopleVisited'].get(rows)]\n",
    "    normed_similarity_coeff = [0] if sum(df_rows_visited_people)== 0 else df_rows_visited_people/np.linalg.norm(df_rows_visited_people)\n",
    "    return normed_similarity_coeff"
   ],
   "metadata": {
    "collapsed": false
   }
  },
  {
   "cell_type": "code",
   "execution_count": 21,
   "outputs": [],
   "source": [
    "def inverse_custom_dictionary():\n",
    "    inverse_dict = OrderedDict()\n",
    "    f = open('inverse_vocabulary.json')\n",
    "    jsonData = json.load(f)\n",
    "    term_ids = list(jsonData.keys())\n",
    "    for term_id in tqdm(term_ids):\n",
    "        custom_scores = get_custom_similarity(jsonData[term_id])\n",
    "        result = list(zip(jsonData[term_id], custom_scores))\n",
    "        inverse_dict[term_id] = result\n",
    "    f.close()\n",
    "    return inverse_dict"
   ],
   "metadata": {
    "collapsed": false
   }
  },
  {
   "cell_type": "code",
   "execution_count": 17,
   "outputs": [
    {
     "name": "stderr",
     "output_type": "stream",
     "text": [
      "100%|██████████| 54205/54205 [00:11<00:00, 4751.36it/s]\n"
     ]
    }
   ],
   "source": [
    "inverse_dict = inverse_custom_dictionary()"
   ],
   "metadata": {
    "collapsed": false
   }
  },
  {
   "cell_type": "code",
   "execution_count": 22,
   "outputs": [],
   "source": [
    "query_original = input(\"Type query: \" )\n",
    "query = query_original.lower().split(' ')\n",
    "\n",
    "while True:\n",
    "    try:\n",
    "        sort_param = int(input(\"Do you want to see the most visited places?: 0 for NO, any number for YES\" ))\n",
    "        break\n",
    "    except:\n",
    "        continue\n",
    "\n",
    "\n",
    "row_query = set()\n",
    "\n",
    "f = open('vocabulary.json')\n",
    "vocabulary = json.load(f)\n",
    "f.close()"
   ],
   "metadata": {
    "collapsed": false
   }
  },
  {
   "cell_type": "code",
   "execution_count": 31,
   "outputs": [
    {
     "name": "stdout",
     "output_type": "stream",
     "text": [
      "searching on query: \u001B[1mmoscow\u001B[0m\n"
     ]
    },
    {
     "data": {
      "text/plain": "                 placeName                                          placeDesc  \\\n3          Pergamon Museum  Situated on Berlin’s Museum Island, the Pergam...   \n2    Moscow Metro Stations  Subway stations are often sordid spots, the da...   \n0        Lenin's Mausoleum  Lenin’s mausoleum in Red Square offers up one ...   \n1                Linnahall  When Moscow hosted the 1980 Summer Olympics, t...   \n4  World Traveler Signpost  Non-Mainers may be rightfully confounded by th...   \n\n                  placeUrl                                     placeShortDesc  \\\n3                      NaN  The most visited, and possibly most controvers...   \n2  http://www.mosmetro.ru/  The gorgeous entrances into the city's underbe...   \n0                      NaN  This building holds the embalmed remains of th...   \n1  http://www.linnahall.ee  An empty relic of the Moscow Olympics crumbles...   \n4                      NaN  Turns out you can see the world without ever l...   \n\n   index  custom_score  \n3   4598      0.859723  \n2   3886      0.276974  \n0   3367      0.264174  \n1   3416      0.207286  \n4   7099      0.120176  ",
      "text/html": "<div>\n<style scoped>\n    .dataframe tbody tr th:only-of-type {\n        vertical-align: middle;\n    }\n\n    .dataframe tbody tr th {\n        vertical-align: top;\n    }\n\n    .dataframe thead th {\n        text-align: right;\n    }\n</style>\n<table border=\"1\" class=\"dataframe\">\n  <thead>\n    <tr style=\"text-align: right;\">\n      <th></th>\n      <th>placeName</th>\n      <th>placeDesc</th>\n      <th>placeUrl</th>\n      <th>placeShortDesc</th>\n      <th>index</th>\n      <th>custom_score</th>\n    </tr>\n  </thead>\n  <tbody>\n    <tr>\n      <th>3</th>\n      <td>Pergamon Museum</td>\n      <td>Situated on Berlin’s Museum Island, the Pergam...</td>\n      <td>NaN</td>\n      <td>The most visited, and possibly most controvers...</td>\n      <td>4598</td>\n      <td>0.859723</td>\n    </tr>\n    <tr>\n      <th>2</th>\n      <td>Moscow Metro Stations</td>\n      <td>Subway stations are often sordid spots, the da...</td>\n      <td>http://www.mosmetro.ru/</td>\n      <td>The gorgeous entrances into the city's underbe...</td>\n      <td>3886</td>\n      <td>0.276974</td>\n    </tr>\n    <tr>\n      <th>0</th>\n      <td>Lenin's Mausoleum</td>\n      <td>Lenin’s mausoleum in Red Square offers up one ...</td>\n      <td>NaN</td>\n      <td>This building holds the embalmed remains of th...</td>\n      <td>3367</td>\n      <td>0.264174</td>\n    </tr>\n    <tr>\n      <th>1</th>\n      <td>Linnahall</td>\n      <td>When Moscow hosted the 1980 Summer Olympics, t...</td>\n      <td>http://www.linnahall.ee</td>\n      <td>An empty relic of the Moscow Olympics crumbles...</td>\n      <td>3416</td>\n      <td>0.207286</td>\n    </tr>\n    <tr>\n      <th>4</th>\n      <td>World Traveler Signpost</td>\n      <td>Non-Mainers may be rightfully confounded by th...</td>\n      <td>NaN</td>\n      <td>Turns out you can see the world without ever l...</td>\n      <td>7099</td>\n      <td>0.120176</td>\n    </tr>\n  </tbody>\n</table>\n</div>"
     },
     "execution_count": 31,
     "metadata": {},
     "output_type": "execute_result"
    }
   ],
   "source": [
    "with open('./inverse_custom_score_vocabulary.json', encoding='utf-8') as dict_file :\n",
    "    jsonData = json.load(dict_file)\n",
    "    for word in query:\n",
    "        try:\n",
    "            term_id = vocabulary[word]\n",
    "            documents_ids = inverse_dict[str(term_id)]\n",
    "            documents_ids = [tuple(x) for x in documents_ids]\n",
    "            row_query.update(set(documents_ids))\n",
    "        except KeyError:\n",
    "            row_query.clear()\n",
    "dict_file.close()\n",
    "\n",
    "row_query = list(row_query)\n",
    "row_query.sort(key=lambda tup: tup[1], reverse=True if sort_param!=0 else False)\n",
    "top_5 = row_query[0:5]\n",
    "\n",
    "print(\"searching on query: \" +'\\033[1m' + query_original + '\\033[0m')\n",
    "if len(row_query) == 0:\n",
    "    print('\\033[1m' + \"\\nNo result was found. Maybe you're searchin for a stopword. Please retry with more informations.\" + '\\033[0m' + '\\n')\n",
    "\n",
    "top_5_df_rows = df_original[['placeName','placeDesc','placeUrl','placeShortDesc','index']][df_original['index'].isin([doc_id[0] for doc_id in top_5])]\n",
    "tuples_as_df = pd.DataFrame(top_5, columns=['index','custom_score'])\n",
    "top_5_df_rows = top_5_df_rows.merge(tuples_as_df, on=\"index\")\n",
    "top_5_df_rows.sort_values(by=\"custom_score\", ascending=False)"
   ],
   "metadata": {
    "collapsed": false
   }
  },
  {
   "cell_type": "code",
   "execution_count": 32,
   "outputs": [
    {
     "data": {
      "text/plain": "      index                placeName  \\\n4598   4598          Pergamon Museum   \n3886   3886    Moscow Metro Stations   \n3367   3367        Lenin's Mausoleum   \n3416   3416                Linnahall   \n7099   7099  World Traveler Signpost   \n\n                                              placeTags  numPeopleVisited  \\\n4598  ['collections', 'museums and collections', 'mu...              2418   \n3886  ['subways', 'cities', 'subterranean', 'undergr...               779   \n3367                  ['lenin', 'communism', 'mummies']               743   \n3416  ['abandoned', 'architectural oddities', 'archi...               583   \n7099    ['visitmaine', 'signs', 'roadside attractions']               338   \n\n      numPeopleWant                                          placeDesc  \\\n4598           2418  Situated on Berlin’s Museum Island, the Pergam...   \n3886            779  Subway stations are often sordid spots, the da...   \n3367            743  Lenin’s mausoleum in Red Square offers up one ...   \n3416            583  When Moscow hosted the 1980 Summer Olympics, t...   \n7099            338  Non-Mainers may be rightfully confounded by th...   \n\n                                         placeShortDesc  \\\n4598  The most visited, and possibly most controvers...   \n3886  The gorgeous entrances into the city's underbe...   \n3367  This building holds the embalmed remains of th...   \n3416  An empty relic of the Moscow Olympics crumbles...   \n7099  Turns out you can see the world without ever l...   \n\n                                           placesNearby  \\\n4598  {'Hohenzollern Crypt in the Berlin Cathedral',...   \n3886  {'Red Gates skyscraper', 'Lubyanka', 'House Wi...   \n3367  {'Tsar Bell', 'Old English Yard', 'Arctic Sibe...   \n3416  {'Ichthus Art Gallery', 'Seaplane Harbour', 'F...   \n7099  {\"The World's Largest Telephone\", 'Maine Miner...   \n\n                                           placeAddress  placeAlt  placeLong  \\\n4598                               Berlin, 10178Germany   52.5212    13.3969   \n3886                 Komsomolskaya station.MoscowRussia   55.7763    37.6558   \n3367             Krasnaya PloshchadMoscow, 109012Russia   55.7532    37.6215   \n3416              20 Mere PuiesteeTallinn, 10111Estonia   59.4467    24.7535   \n7099  Intersection of Route 35 and Route 5Bethel, Ma...   44.2443   -70.7851   \n\n                                           placeEditors placePubDate  \\\n4598  ['Dampo', 'mate', 'Jaszmina Szendrey', 'atimia...   2012-01-05   \n3886  ['rohancf', 'Carismarkus', 'Global Sightseer',...   2018-02-01   \n3367  ['stanestane', 'serpent', 'wythe', 'Johan SWE'...   2010-07-09   \n3416  ['eleskog', 'DarkedgeUK', 'benlloyd', 'kalev',...   2012-09-15   \n7099  ['hana', 'IJVin', 'charles4', 'Papa Disco', 'e...   2016-07-05   \n\n                                      placeRelatedLists  placeRelatedPlaces  \\\n4598  ['Booze History Museum', 'Stazione Neapolis', ...                 NaN   \n3886  ['Metro Auditorio', 'Crystal Palace Subway', '...                 NaN   \n3367  [\"Site of the Russian Social-Democratic Worker...                 NaN   \n3416  ['Église du Bon-Pasteur', 'Prinkipo Orphanage'...                 NaN   \n7099  ['Elephant Car Wash Sign', 'Topsy the Clown', ...                 NaN   \n\n                     placeUrl  \n4598                      NaN  \n3886  http://www.mosmetro.ru/  \n3367                      NaN  \n3416  http://www.linnahall.ee  \n7099                      NaN  ",
      "text/html": "<div>\n<style scoped>\n    .dataframe tbody tr th:only-of-type {\n        vertical-align: middle;\n    }\n\n    .dataframe tbody tr th {\n        vertical-align: top;\n    }\n\n    .dataframe thead th {\n        text-align: right;\n    }\n</style>\n<table border=\"1\" class=\"dataframe\">\n  <thead>\n    <tr style=\"text-align: right;\">\n      <th></th>\n      <th>index</th>\n      <th>placeName</th>\n      <th>placeTags</th>\n      <th>numPeopleVisited</th>\n      <th>numPeopleWant</th>\n      <th>placeDesc</th>\n      <th>placeShortDesc</th>\n      <th>placesNearby</th>\n      <th>placeAddress</th>\n      <th>placeAlt</th>\n      <th>placeLong</th>\n      <th>placeEditors</th>\n      <th>placePubDate</th>\n      <th>placeRelatedLists</th>\n      <th>placeRelatedPlaces</th>\n      <th>placeUrl</th>\n    </tr>\n  </thead>\n  <tbody>\n    <tr>\n      <th>4598</th>\n      <td>4598</td>\n      <td>Pergamon Museum</td>\n      <td>['collections', 'museums and collections', 'mu...</td>\n      <td>2418</td>\n      <td>2418</td>\n      <td>Situated on Berlin’s Museum Island, the Pergam...</td>\n      <td>The most visited, and possibly most controvers...</td>\n      <td>{'Hohenzollern Crypt in the Berlin Cathedral',...</td>\n      <td>Berlin, 10178Germany</td>\n      <td>52.5212</td>\n      <td>13.3969</td>\n      <td>['Dampo', 'mate', 'Jaszmina Szendrey', 'atimia...</td>\n      <td>2012-01-05</td>\n      <td>['Booze History Museum', 'Stazione Neapolis', ...</td>\n      <td>NaN</td>\n      <td>NaN</td>\n    </tr>\n    <tr>\n      <th>3886</th>\n      <td>3886</td>\n      <td>Moscow Metro Stations</td>\n      <td>['subways', 'cities', 'subterranean', 'undergr...</td>\n      <td>779</td>\n      <td>779</td>\n      <td>Subway stations are often sordid spots, the da...</td>\n      <td>The gorgeous entrances into the city's underbe...</td>\n      <td>{'Red Gates skyscraper', 'Lubyanka', 'House Wi...</td>\n      <td>Komsomolskaya station.MoscowRussia</td>\n      <td>55.7763</td>\n      <td>37.6558</td>\n      <td>['rohancf', 'Carismarkus', 'Global Sightseer',...</td>\n      <td>2018-02-01</td>\n      <td>['Metro Auditorio', 'Crystal Palace Subway', '...</td>\n      <td>NaN</td>\n      <td>http://www.mosmetro.ru/</td>\n    </tr>\n    <tr>\n      <th>3367</th>\n      <td>3367</td>\n      <td>Lenin's Mausoleum</td>\n      <td>['lenin', 'communism', 'mummies']</td>\n      <td>743</td>\n      <td>743</td>\n      <td>Lenin’s mausoleum in Red Square offers up one ...</td>\n      <td>This building holds the embalmed remains of th...</td>\n      <td>{'Tsar Bell', 'Old English Yard', 'Arctic Sibe...</td>\n      <td>Krasnaya PloshchadMoscow, 109012Russia</td>\n      <td>55.7532</td>\n      <td>37.6215</td>\n      <td>['stanestane', 'serpent', 'wythe', 'Johan SWE'...</td>\n      <td>2010-07-09</td>\n      <td>[\"Site of the Russian Social-Democratic Worker...</td>\n      <td>NaN</td>\n      <td>NaN</td>\n    </tr>\n    <tr>\n      <th>3416</th>\n      <td>3416</td>\n      <td>Linnahall</td>\n      <td>['abandoned', 'architectural oddities', 'archi...</td>\n      <td>583</td>\n      <td>583</td>\n      <td>When Moscow hosted the 1980 Summer Olympics, t...</td>\n      <td>An empty relic of the Moscow Olympics crumbles...</td>\n      <td>{'Ichthus Art Gallery', 'Seaplane Harbour', 'F...</td>\n      <td>20 Mere PuiesteeTallinn, 10111Estonia</td>\n      <td>59.4467</td>\n      <td>24.7535</td>\n      <td>['eleskog', 'DarkedgeUK', 'benlloyd', 'kalev',...</td>\n      <td>2012-09-15</td>\n      <td>['Église du Bon-Pasteur', 'Prinkipo Orphanage'...</td>\n      <td>NaN</td>\n      <td>http://www.linnahall.ee</td>\n    </tr>\n    <tr>\n      <th>7099</th>\n      <td>7099</td>\n      <td>World Traveler Signpost</td>\n      <td>['visitmaine', 'signs', 'roadside attractions']</td>\n      <td>338</td>\n      <td>338</td>\n      <td>Non-Mainers may be rightfully confounded by th...</td>\n      <td>Turns out you can see the world without ever l...</td>\n      <td>{\"The World's Largest Telephone\", 'Maine Miner...</td>\n      <td>Intersection of Route 35 and Route 5Bethel, Ma...</td>\n      <td>44.2443</td>\n      <td>-70.7851</td>\n      <td>['hana', 'IJVin', 'charles4', 'Papa Disco', 'e...</td>\n      <td>2016-07-05</td>\n      <td>['Elephant Car Wash Sign', 'Topsy the Clown', ...</td>\n      <td>NaN</td>\n      <td>NaN</td>\n    </tr>\n  </tbody>\n</table>\n</div>"
     },
     "execution_count": 32,
     "metadata": {},
     "output_type": "execute_result"
    }
   ],
   "source": [
    "import plotly.graph_objects as go\n",
    "#fai un df_original.get(valori indici delle righe 4598 es)\n",
    "#mappa del singolo stato\n",
    "map_df = df_original[df_original['placeName'].isin(top_5_df_rows['placeName'])]\n",
    "sorted= map_df.sort_values(by=r'numPeopleVisited', ascending=False)\n",
    "sorted"
   ],
   "metadata": {
    "collapsed": false
   }
  },
  {
   "cell_type": "markdown",
   "source": [
    "# **4. Visualizing the most relevant Places**\n",
    "\n",
    "Show a map with the places found with the score defined in point 3. Ensure you can at least identify and visualize the name, city, country, address and the number of people who visited each place.\n"
   ],
   "metadata": {
    "collapsed": false
   }
  },
  {
   "cell_type": "code",
   "execution_count": 39,
   "outputs": [
    {
     "data": {
      "text/plain": "<folium.folium.Map at 0x1f6e4eaa580>",
      "text/html": "<div style=\"width:100%;\"><div style=\"position:relative;width:100%;height:0;padding-bottom:60%;\"><span style=\"color:#565656\">Make this Notebook Trusted to load map: File -> Trust Notebook</span><iframe srcdoc=\"&lt;!DOCTYPE html&gt;\n&lt;html&gt;\n&lt;head&gt;\n    \n    &lt;meta http-equiv=&quot;content-type&quot; content=&quot;text/html; charset=UTF-8&quot; /&gt;\n    \n        &lt;script&gt;\n            L_NO_TOUCH = false;\n            L_DISABLE_3D = false;\n        &lt;/script&gt;\n    \n    &lt;style&gt;html, body {width: 100%;height: 100%;margin: 0;padding: 0;}&lt;/style&gt;\n    &lt;style&gt;#map {position:absolute;top:0;bottom:0;right:0;left:0;}&lt;/style&gt;\n    &lt;script src=&quot;https://cdn.jsdelivr.net/npm/leaflet@1.6.0/dist/leaflet.js&quot;&gt;&lt;/script&gt;\n    &lt;script src=&quot;https://code.jquery.com/jquery-1.12.4.min.js&quot;&gt;&lt;/script&gt;\n    &lt;script src=&quot;https://maxcdn.bootstrapcdn.com/bootstrap/3.2.0/js/bootstrap.min.js&quot;&gt;&lt;/script&gt;\n    &lt;script src=&quot;https://cdnjs.cloudflare.com/ajax/libs/Leaflet.awesome-markers/2.0.2/leaflet.awesome-markers.js&quot;&gt;&lt;/script&gt;\n    &lt;link rel=&quot;stylesheet&quot; href=&quot;https://cdn.jsdelivr.net/npm/leaflet@1.6.0/dist/leaflet.css&quot;/&gt;\n    &lt;link rel=&quot;stylesheet&quot; href=&quot;https://maxcdn.bootstrapcdn.com/bootstrap/3.2.0/css/bootstrap.min.css&quot;/&gt;\n    &lt;link rel=&quot;stylesheet&quot; href=&quot;https://maxcdn.bootstrapcdn.com/bootstrap/3.2.0/css/bootstrap-theme.min.css&quot;/&gt;\n    &lt;link rel=&quot;stylesheet&quot; href=&quot;https://maxcdn.bootstrapcdn.com/font-awesome/4.6.3/css/font-awesome.min.css&quot;/&gt;\n    &lt;link rel=&quot;stylesheet&quot; href=&quot;https://cdnjs.cloudflare.com/ajax/libs/Leaflet.awesome-markers/2.0.2/leaflet.awesome-markers.css&quot;/&gt;\n    &lt;link rel=&quot;stylesheet&quot; href=&quot;https://cdn.jsdelivr.net/gh/python-visualization/folium/folium/templates/leaflet.awesome.rotate.min.css&quot;/&gt;\n    \n            &lt;meta name=&quot;viewport&quot; content=&quot;width=device-width,\n                initial-scale=1.0, maximum-scale=1.0, user-scalable=no&quot; /&gt;\n            &lt;style&gt;\n                #map_3d42290d2ad36a0ccab4ba1d02fd5e85 {\n                    position: relative;\n                    width: 100.0%;\n                    height: 100.0%;\n                    left: 0.0%;\n                    top: 0.0%;\n                }\n            &lt;/style&gt;\n        \n&lt;/head&gt;\n&lt;body&gt;\n    \n    \n            &lt;div class=&quot;folium-map&quot; id=&quot;map_3d42290d2ad36a0ccab4ba1d02fd5e85&quot; &gt;&lt;/div&gt;\n        \n&lt;/body&gt;\n&lt;script&gt;\n    \n    \n            var map_3d42290d2ad36a0ccab4ba1d02fd5e85 = L.map(\n                &quot;map_3d42290d2ad36a0ccab4ba1d02fd5e85&quot;,\n                {\n                    center: [53.0, 9.0],\n                    crs: L.CRS.EPSG3857,\n                    zoom: 1.5,\n                    zoomControl: true,\n                    preferCanvas: false,\n                }\n            );\n\n            \n\n        \n    \n            var tile_layer_df64308e4759c4f206953ec8a83b7aff = L.tileLayer(\n                &quot;https://{s}.tile.openstreetmap.org/{z}/{x}/{y}.png&quot;,\n                {&quot;attribution&quot;: &quot;Data by \\u0026copy; \\u003ca href=\\&quot;http://openstreetmap.org\\&quot;\\u003eOpenStreetMap\\u003c/a\\u003e, under \\u003ca href=\\&quot;http://www.openstreetmap.org/copyright\\&quot;\\u003eODbL\\u003c/a\\u003e.&quot;, &quot;detectRetina&quot;: false, &quot;maxNativeZoom&quot;: 18, &quot;maxZoom&quot;: 18, &quot;minZoom&quot;: 0, &quot;noWrap&quot;: false, &quot;opacity&quot;: 1, &quot;subdomains&quot;: &quot;abc&quot;, &quot;tms&quot;: false}\n            ).addTo(map_3d42290d2ad36a0ccab4ba1d02fd5e85);\n        \n    \n            var marker_405a235cc35ef2bbf4f9aefa9b06dc38 = L.marker(\n                [52.5212, 13.3969],\n                {}\n            ).addTo(map_3d42290d2ad36a0ccab4ba1d02fd5e85);\n        \n    \n        var popup_3f53a0636b41d6fe3b404f5cf891b622 = L.popup({&quot;maxWidth&quot;: &quot;100%&quot;});\n\n        \n            \n                var html_9889e872ce23dc95f29943d4a8d9c38c = $(`&lt;div id=&quot;html_9889e872ce23dc95f29943d4a8d9c38c&quot; style=&quot;width: 100.0%; height: 100.0%;&quot;&gt;&lt;strong&gt;-Name: Pergamon Museum&lt;br&gt;-Number of Visitors: 2418&lt;br&gt;-Address: Berlin, 10178Germany&lt;strong&gt;&lt;/div&gt;`)[0];\n                popup_3f53a0636b41d6fe3b404f5cf891b622.setContent(html_9889e872ce23dc95f29943d4a8d9c38c);\n            \n        \n\n        marker_405a235cc35ef2bbf4f9aefa9b06dc38.bindPopup(popup_3f53a0636b41d6fe3b404f5cf891b622)\n        ;\n\n        \n    \n    \n            var marker_44ee9287dd172e3b82d9b271b58010e2 = L.marker(\n                [55.7763, 37.6558],\n                {}\n            ).addTo(map_3d42290d2ad36a0ccab4ba1d02fd5e85);\n        \n    \n        var popup_9516402b8dc377c7e49419f8c1658882 = L.popup({&quot;maxWidth&quot;: &quot;100%&quot;});\n\n        \n            \n                var html_eab5deff5faa765f38b30e8084bf0638 = $(`&lt;div id=&quot;html_eab5deff5faa765f38b30e8084bf0638&quot; style=&quot;width: 100.0%; height: 100.0%;&quot;&gt;&lt;strong&gt;-Name: Moscow Metro Stations&lt;br&gt;-Number of Visitors: 779&lt;br&gt;-Address: Komsomolskaya station.MoscowRussia&lt;strong&gt;&lt;/div&gt;`)[0];\n                popup_9516402b8dc377c7e49419f8c1658882.setContent(html_eab5deff5faa765f38b30e8084bf0638);\n            \n        \n\n        marker_44ee9287dd172e3b82d9b271b58010e2.bindPopup(popup_9516402b8dc377c7e49419f8c1658882)\n        ;\n\n        \n    \n    \n            var marker_669ed5153a6cbed2c7fa8ed5a799aebf = L.marker(\n                [55.7532, 37.6215],\n                {}\n            ).addTo(map_3d42290d2ad36a0ccab4ba1d02fd5e85);\n        \n    \n        var popup_b41621069681a5fe96f0b1409cf773ae = L.popup({&quot;maxWidth&quot;: &quot;100%&quot;});\n\n        \n            \n                var html_66dcbd5387a9639cf23ec2ac595f8e2a = $(`&lt;div id=&quot;html_66dcbd5387a9639cf23ec2ac595f8e2a&quot; style=&quot;width: 100.0%; height: 100.0%;&quot;&gt;&lt;strong&gt;-Name: Lenin&#x27;s Mausoleum&lt;br&gt;-Number of Visitors: 743&lt;br&gt;-Address: Krasnaya PloshchadMoscow, 109012Russia&lt;strong&gt;&lt;/div&gt;`)[0];\n                popup_b41621069681a5fe96f0b1409cf773ae.setContent(html_66dcbd5387a9639cf23ec2ac595f8e2a);\n            \n        \n\n        marker_669ed5153a6cbed2c7fa8ed5a799aebf.bindPopup(popup_b41621069681a5fe96f0b1409cf773ae)\n        ;\n\n        \n    \n    \n            var marker_6607ee2b7b83ad5319c6d81fbf96ce20 = L.marker(\n                [59.4467, 24.7535],\n                {}\n            ).addTo(map_3d42290d2ad36a0ccab4ba1d02fd5e85);\n        \n    \n        var popup_8444fd8148f92b1d272c5dae1f623330 = L.popup({&quot;maxWidth&quot;: &quot;100%&quot;});\n\n        \n            \n                var html_795953c3893272590a4af01186e16b9f = $(`&lt;div id=&quot;html_795953c3893272590a4af01186e16b9f&quot; style=&quot;width: 100.0%; height: 100.0%;&quot;&gt;&lt;strong&gt;-Name: Linnahall&lt;br&gt;-Number of Visitors: 583&lt;br&gt;-Address: 20 Mere PuiesteeTallinn, 10111Estonia&lt;strong&gt;&lt;/div&gt;`)[0];\n                popup_8444fd8148f92b1d272c5dae1f623330.setContent(html_795953c3893272590a4af01186e16b9f);\n            \n        \n\n        marker_6607ee2b7b83ad5319c6d81fbf96ce20.bindPopup(popup_8444fd8148f92b1d272c5dae1f623330)\n        ;\n\n        \n    \n    \n            var marker_e219c948ee50b604d3fb2b0298ed132e = L.marker(\n                [44.2443, -70.7851],\n                {}\n            ).addTo(map_3d42290d2ad36a0ccab4ba1d02fd5e85);\n        \n    \n        var popup_d2d1eb913d1f60ea8b9d6e7e01894f6c = L.popup({&quot;maxWidth&quot;: &quot;100%&quot;});\n\n        \n            \n                var html_35e6c8b9e5a864563a5a3372dfe581f6 = $(`&lt;div id=&quot;html_35e6c8b9e5a864563a5a3372dfe581f6&quot; style=&quot;width: 100.0%; height: 100.0%;&quot;&gt;&lt;strong&gt;-Name: World Traveler Signpost&lt;br&gt;-Number of Visitors: 338&lt;br&gt;-Address: Intersection of Route 35 and Route 5Bethel, Maine, 04217United States&lt;strong&gt;&lt;/div&gt;`)[0];\n                popup_d2d1eb913d1f60ea8b9d6e7e01894f6c.setContent(html_35e6c8b9e5a864563a5a3372dfe581f6);\n            \n        \n\n        marker_e219c948ee50b604d3fb2b0298ed132e.bindPopup(popup_d2d1eb913d1f60ea8b9d6e7e01894f6c)\n        ;\n\n        \n    \n&lt;/script&gt;\n&lt;/html&gt;\" style=\"position:absolute;width:100%;height:100%;left:0;top:0;border:none !important;\" allowfullscreen webkitallowfullscreen mozallowfullscreen></iframe></div></div>"
     },
     "metadata": {},
     "output_type": "display_data"
    }
   ],
   "source": [
    "import folium\n",
    "Globe= [53.0000,9.0000]\n",
    "my_map = folium.Map(location = Globe, zoom_start =1.5)\n",
    "\n",
    "for row in sorted.iterrows():\n",
    "    row_values = row[1]\n",
    "    location = [row_values['placeAlt'], row_values['placeLong']]\n",
    "    popup= '<strong>' + '-Name: '+ row_values['placeName'] + '<br>' + '-Number of Visitors: '+ str(row_values['numPeopleVisited'])+ '<br>'+ '-Address: ' +row_values['placeAddress']+ '<strong>'\n",
    "    marker= folium.Marker(location=location, popup= popup)\n",
    "    marker.add_to(my_map)\n",
    "\n",
    "display(my_map)"
   ],
   "metadata": {
    "collapsed": false
   }
  },
  {
   "cell_type": "code",
   "execution_count": 57,
   "outputs": [],
   "source": [],
   "metadata": {
    "collapsed": false
   }
  },
  {
   "cell_type": "code",
   "execution_count": 25,
   "outputs": [],
   "source": [],
   "metadata": {
    "collapsed": false
   }
  }
 ],
 "metadata": {
  "kernelspec": {
   "display_name": "Python 3",
   "language": "python",
   "name": "python3"
  },
  "language_info": {
   "codemirror_mode": {
    "name": "ipython",
    "version": 2
   },
   "file_extension": ".py",
   "mimetype": "text/x-python",
   "name": "python",
   "nbconvert_exporter": "python",
   "pygments_lexer": "ipython2",
   "version": "2.7.6"
  }
 },
 "nbformat": 4,
 "nbformat_minor": 0
}
