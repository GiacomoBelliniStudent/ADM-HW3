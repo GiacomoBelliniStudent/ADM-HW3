{
 "cells": [
  {
   "cell_type": "markdown",
   "source": [
    "# **Homework 3 - Places of the world**"
   ],
   "metadata": {
    "collapsed": false,
    "pycharm": {
     "name": "#%% md\n"
    }
   }
  },
  {
   "cell_type": "code",
   "execution_count": 4,
   "outputs": [],
   "source": [
    "#import libraries\n",
    "\n",
    "import numpy as np\n",
    "import pandas as pd\n",
    "from bs4 import BeautifulSoup\n",
    "import requests\n",
    "from os import listdir\n",
    "from os.path import isfile, join\n",
    "import os\n",
    "import shutil\n",
    "import urllib\n",
    "from datetime import datetime\n",
    "import csv\n",
    "from nltk.corpus import stopwords\n",
    "import string\n",
    "from nltk import word_tokenize\n",
    "import nltk"
   ],
   "metadata": {
    "collapsed": false,
    "pycharm": {
     "name": "#%%\n"
    }
   }
  },
  {
   "cell_type": "markdown",
   "source": [
    "# **1. Data collection**\n",
    "For this homework, there is no provided dataset. Instead, you have to build your own. Your search engine will run on text documents. So, here we detail the procedure to follow for the data collection."
   ],
   "metadata": {
    "collapsed": false,
    "pycharm": {
     "name": "#%% md\n"
    }
   }
  },
  {
   "cell_type": "markdown",
   "source": [
    "**1.1. Get the list of places**\n",
    "We start with the list of places to include in your corpus of documents. In particular, we focus on the Most popular places. Next, we want you to collect the URL associated with each site in the list from this list. The list is long and split into many pages. Therefore, we ask you to retrieve only the URLs of the places listed in the first 400 pages (each page has 18 places, so that you will end up with 7200 unique place URLs).\n",
    "\n",
    "The output of this step is a .txt file whose single line corresponds to the place's URL."
   ],
   "metadata": {
    "collapsed": false,
    "pycharm": {
     "name": "#%% md\n"
    }
   }
  },
  {
   "cell_type": "code",
   "execution_count": null,
   "outputs": [],
   "source": [
    "url = 'https://www.atlasobscura.com/places?page={}&sort=likes_count'\n",
    "result = requests.get(url)\n",
    "\n",
    "print(result)\n",
    "print(result.text)"
   ],
   "metadata": {
    "collapsed": false,
    "pycharm": {
     "name": "#%%\n",
     "is_executing": true
    }
   }
  },
  {
   "cell_type": "code",
   "execution_count": null,
   "outputs": [],
   "source": [
    "soup = BeautifulSoup(result.text)"
   ],
   "metadata": {
    "collapsed": false,
    "pycharm": {
     "name": "#%%\n"
    }
   }
  },
  {
   "cell_type": "code",
   "execution_count": null,
   "outputs": [],
   "source": [
    "mydivs = soup.find_all(\"a\", {\"class\": \"content-card content-card-place\"})\n",
    "'https://www.atlasobscura.com' + mydivs[1]['href']"
   ],
   "metadata": {
    "collapsed": false,
    "pycharm": {
     "name": "#%%\n",
     "is_executing": true
    }
   }
  },
  {
   "cell_type": "code",
   "execution_count": null,
   "outputs": [],
   "source": [
    "with open('places_url.txt', 'w') as f:\n",
    "    for i in range(1,401):\n",
    "        url = 'https://www.atlasobscura.com/places?page={}&sort=likes_count'.format(i)\n",
    "        result = requests.get(url)\n",
    "        soup = BeautifulSoup(result.text)\n",
    "        mydivs = soup.find_all(\"a\", {\"class\": \"content-card content-card-place\"})\n",
    "        for anchor in mydivs:\n",
    "            f.write('https://www.atlasobscura.com' + anchor['href'] + \"\\n\")\n",
    "    f.close();"
   ],
   "metadata": {
    "collapsed": false,
    "pycharm": {
     "name": "#%%\n"
    }
   }
  },
  {
   "cell_type": "markdown",
   "source": [
    "**1.2. Crawl places**\n",
    "\n",
    "Once you get all the URLs in the first 400 pages of the list, you:\n",
    "\n",
    "Download the HTML corresponding to each of the collected URLs.\n",
    "After you collect a single page, immediately save its HTML in a file. In this way, if your program stops for any reason, you will not lose the data collected up to the stopping point.\n",
    "Organize the entire set of downloaded HTML pages into folders. Each folder will contain the HTML of the places on page 1, page 2, ... of the list of locations.\n",
    "\n",
    "Tip: Due to a large number of pages you should download, you can use some methods that can help you shorten the time it takes. If you employed a particular process or approach, kindly describe it."
   ],
   "metadata": {
    "collapsed": false,
    "pycharm": {
     "name": "#%% md\n"
    }
   }
  },
  {
   "cell_type": "code",
   "execution_count": null,
   "outputs": [],
   "source": [
    "def saveHtmlFiles():\n",
    "    notDownloadedUrls = []\n",
    "    with open('places_url.txt') as file:\n",
    "        for url in file:\n",
    "            try:\n",
    "                urllib.request.urlretrieve(url,url.split('/')[-1].replace('\\n','')+'.html')\n",
    "            except Exception as e:\n",
    "                notDownloadedUrls.append(url)\n",
    "                continue\n",
    "    file.close()\n",
    "    return notDownloadedUrls"
   ],
   "metadata": {
    "collapsed": false,
    "pycharm": {
     "name": "#%%\n"
    }
   }
  },
  {
   "cell_type": "code",
   "execution_count": null,
   "outputs": [],
   "source": [
    "notDownloadedUrls = saveHtmlFiles()\n",
    "\n",
    "while notDownloadedUrls:\n",
    "    with open('places_url.txt', 'w') as f:\n",
    "        for url in notDownloadedUrls:\n",
    "            f.write(url + \"\\n\")\n",
    "    f.close();\n",
    "    notDownloadedUrls = saveHtmlFiles()"
   ],
   "metadata": {
    "collapsed": false,
    "pycharm": {
     "name": "#%%\n"
    }
   }
  },
  {
   "cell_type": "markdown",
   "source": [
    "**1.3 Parse downloaded pages**\n",
    "\n",
    "At this point, you should have all the HTML documents about the places of interest, and you can start to extract the places' information. The list of the information we desire for each place and their format is as follows:"
   ],
   "metadata": {
    "collapsed": false,
    "pycharm": {
     "name": "#%% md\n"
    }
   }
  },
  {
   "cell_type": "code",
   "execution_count": 7,
   "outputs": [],
   "source": [
    "file_path = os.getcwd()\n",
    "files = []\n",
    "with open('places_url.txt') as file:\n",
    "    for url in file:\n",
    "        files.append(url.split('/')[-1].replace('\\n','')+'.html')\n",
    "    file.close()\n",
    "file_list = np.array_split(files,400)\n"
   ],
   "metadata": {
    "collapsed": false,
    "pycharm": {
     "name": "#%%\n"
    }
   }
  },
  {
   "cell_type": "code",
   "execution_count": null,
   "outputs": [],
   "source": [
    "for i in range(400):\n",
    "    directory = 'page_'+ str(i+1)\n",
    "\n",
    "    target_dir = os.path.join(file_path, directory)\n",
    "\n",
    "    os.mkdir(target_dir)\n",
    "\n",
    "    for file_name in file_list[i]:\n",
    "        shutil.move(os.path.join(file_path, file_name), target_dir)"
   ],
   "metadata": {
    "collapsed": false,
    "pycharm": {
     "name": "#%%\n"
    }
   }
  },
  {
   "cell_type": "code",
   "execution_count": 2,
   "outputs": [],
   "source": [
    "headerList = ['placeName','placeTags','numPeopleVisited','numPeopleWant','placeDesc','placeShortDesc','placesNearby','placeAddress','placeAlt','placeLong','placeEditors','placePubDate','placeRelatedLists','placeRelatedPlaces','placeUrl']\n",
    "for i in range(1,401):\n",
    "    dir = os.getcwd() + '\\page_{}'.format(i)\n",
    "    files = [f for f in listdir(dir) if isfile(join(dir, f)) and f.lower().endswith(('.html'))]\n",
    "    for file in files:\n",
    "        with open(os.path.join(dir,file), 'rb+') as fp:\n",
    "            soup = BeautifulSoup(fp, \"html.parser\")\n",
    "\n",
    "            placeName = '' if soup.select('h1')[0].text.strip() is None else soup.select('h1')[0].text.strip()\n",
    "\n",
    "            placeTags = '' if soup.find('div', {'class': 'item-tags'}) is None else [a.text.strip() for a in soup.find('div', {'class': 'item-tags'}).select('a', {'class': 'itemTags__link'})]\n",
    "\n",
    "            numPeopleVisited = ('' if soup.find('aside', {'class': 'DDPage__item-actions'}) is None else soup.find('aside', {'class': 'DDPage__item-actions'}).select('div', {'class': 'title-md item-action-count'})[3].text.strip())\n",
    "\n",
    "            numPeopleWant = ('' if soup.find('aside', {'class': 'DDPage__item-actions'}) is None else soup.find('aside', {'class': 'DDPage__item-actions'}).select('div', {'class': 'title-md item-action-count'})[4].text.strip())\n",
    "\n",
    "            numPeopleWant = '' if numPeopleVisited == '' else int(''.join(filter(str.isdigit, numPeopleVisited)))\n",
    "\n",
    "            placeDesc = '' if soup.find('div', {'id': 'place-body'}) is None else soup.find('div', {'id': 'place-body'}).findNext().text.strip()\n",
    "\n",
    "            placeShortDesc = '' if soup.find('h3', {'class': 'DDPage__header-dek'}) is None else soup.find('h3', {'class': 'DDPage__header-dek'}).text.strip()\n",
    "\n",
    "            placesNearby = '' if soup.findAll('div', {'class': 'DDPageSiderailRecirc__item-title'}) is None else set([a.text.strip() for a  in soup.findAll('div', {'class': 'DDPageSiderailRecirc__item-title'})])\n",
    "\n",
    "            placeAddress = '' if soup.find('address', {'class': 'DDPageSiderail__address'}) is None else soup.find('address', {'class': 'DDPageSiderail__address'}).text.strip()\n",
    "\n",
    "            placeAlt = '' if soup.find('div', {'class': 'DDPageSiderail__coordinates'}) is None else soup.find('div', {'class': 'DDPageSiderail__coordinates'}).text.strip().split(',')[0].strip()\n",
    "\n",
    "            placeLong = '' if soup.find('div', {'class': 'DDPageSiderail__coordinates'}) is None else soup.find('div', {'class': 'DDPageSiderail__coordinates'}).text.strip().split(',')[1].strip()\n",
    "\n",
    "            placeEditors = '' if soup.findAll('a', {'class': 'DDPContributorsList__contributor'}) is None else [ a.text.strip() for a in soup.findAll('a', {'class': 'DDPContributorsList__contributor'})]\n",
    "\n",
    "            placePubDate = '' if soup.find('div', {'class': 'DDPContributor__name'}) is None else datetime.strptime(soup.find('div', {'class': 'DDPContributor__name'}).text,'%B %d, %Y').date()\n",
    "\n",
    "            placeRelatedLists = '' if soup.find('div', {'class': 'CardRecircSection__title'}, text='Related Places') is None else ([a.findNext('span').text.strip() for a in soup.find('div', {'class': 'CardRecircSection__title'}, text='Related Places').findNext('div', {'class': 'CardRecircSection__card-grid'}).findAll('a')])\n",
    "\n",
    "            placeRelatedPlaces = '' if soup.find('div', {'class': 'CardRecircSection__title'}, text='Appears in') is None else ([a.findNext('span').text.strip() for a in soup.find('div', {'class': 'CardRecircSection__title'}, text='Appears in').findNext('div', {'class': 'CardRecircSection__card-grid'}).findAll('a')])\n",
    "\n",
    "            placeUrl = '' if soup.find('div', {'class': 'DDPageSiderail__website'}) is None else soup.find('div', {'class': 'DDPageSiderail__website'}).find('a')['href'].strip()\n",
    "\n",
    "        fp.close()\n",
    "\n",
    "        valuesList = [placeName,placeTags,numPeopleVisited,numPeopleWant,placeDesc,placeShortDesc,placesNearby,placeAddress,placeAlt,placeLong,placeEditors,placePubDate,placeRelatedLists,placeRelatedPlaces,placeUrl]\n",
    "        with open(os.path.join(dir, file.title().replace('.Html','').lower() +'.tsv'), 'w+', encoding=\"utf-8\") as tsvfile:\n",
    "            writer = csv.writer(tsvfile, delimiter='\\t')\n",
    "            writer.writerow(headerList)\n",
    "            writer.writerow(valuesList)\n",
    "        tsvfile.close()"
   ],
   "metadata": {
    "collapsed": false,
    "pycharm": {
     "name": "#%%\n"
    }
   }
  },
  {
   "cell_type": "code",
   "execution_count": 3,
   "outputs": [],
   "source": [
    "for i in range(1,401):\n",
    "    dir = os.getcwd() + '\\page_{}'.format(i)\n",
    "    target_dir = os.getcwd() + '/tsv_files'\n",
    "    files = [f for f in listdir(dir) if isfile(join(dir, f)) and f.lower().endswith(('.tsv'))]\n",
    "    for file in files:\n",
    "        shutil.move(os.path.join(dir, file.title().lower()), target_dir)"
   ],
   "metadata": {
    "collapsed": false,
    "pycharm": {
     "name": "#%%\n"
    }
   }
  },
  {
   "cell_type": "code",
   "execution_count": null,
   "outputs": [],
   "source": [
    "tsv_dir = os.getcwd() + '/tsv_files'\n",
    "files = [f for f in listdir(tsv_dir) if isfile(join(tsv_dir, f)) and f.lower().endswith(('.tsv'))]\n",
    "dataframes = []\n",
    "for file in files:\n",
    "    df = pd.read_csv(os.path.join(tsv_dir, file.title().lower()), delimiter=\"\\t\")\n",
    "    dataframes.append(df)\n",
    "df = pd.DataFrame(pd.concat(dataframes)).reset_index().drop(['index'], axis=1)\n",
    "df"
   ],
   "metadata": {
    "collapsed": false,
    "pycharm": {
     "name": "#%%\n"
    }
   }
  },
  {
   "cell_type": "markdown",
   "source": [
    "# **2. Search Engine**\n",
    "\n",
    "Now, we want to create two different Search Engines that, given as input a query, return the places that match the query.\n",
    "\n",
    "First, you must pre-process all the information collected for each place by:\n",
    "\n",
    "- Removing stopwords\n",
    "- Removing punctuation\n",
    "- Stemming\n",
    "- Anything else you think it's needed\n",
    "\n",
    "For this purpose, you can use the nltk library."
   ],
   "metadata": {
    "collapsed": false,
    "pycharm": {
     "name": "#%% md\n"
    }
   }
  },
  {
   "cell_type": "code",
   "execution_count": 23,
   "outputs": [
    {
     "data": {
      "text/plain": "                                              placeName  \\\n0                                ['109, 'East, 'Palace]   \n1                              ['145, 'Rue, 'Lafayette]   \n2                                   ['17, 'Room, 'Ruin]   \n3                          ['1890s, 'Alien, 'Gravesite]   \n4     ['University, 'Virginia, ’, 'Hidden, 'Chemical...   \n...                                                 ...   \n7195                                ['Zorthian, 'Ranch]   \n7196                                ['Zuccari, 'Palace]   \n7197                         ['Zwack, 'Unicum, 'Museum]   \n7198                      ['The, 'Zymoglyphic, 'Museum]   \n7199    ['Zzyzx, 'Mineral, 'Springs, 'Healing, 'Center]   \n\n                                              placeTags  numPeopleVisited  \\\n0     [``, 'manhattan, '', 'project, ``, 'secret, ''...               419   \n1     [``, 'urban, '', 'planning, ``, 'cities, '', `...               163   \n2     [``, 'abandoned, '', 'houses, ``, 'native, '',...               161   \n3     [``, 'aliens, '', ``, 'graves, '', ``, 'graves...               249   \n4     [``, 'thomas, '', 'jefferson, ``, 'unesco, '',...               130   \n...                                                 ...               ...   \n7195  [``, 'film, '', 'locations, ``, 'farms, '', ``...                75   \n7196  [``, 'castles, '', ``, 'architectural, '', 'od...               432   \n7197  [``, 'food, '', 'museums, ``, 'food, '', ``, '...               201   \n7198  [``, 'obscura, '', 'day, 'locations, ``, 'wond...               219   \n7199  [``, 'hoaxes, '', 'pseudoscience, ``, 'places,...               282   \n\n      numPeopleWant                                          placeDesc  \\\n0               419  ['When, 'need, 'dropped, 'top-secret, 'researc...   \n1               163  ['While, 'walking, 'street, ’, 'forgiven, 'thi...   \n2               161  ['Outside, 'Bluff, 'Utah, 'massive, '100-foot-...   \n3               249  ['While, 'receives, 'fanfare, 'today, 'small, ...   \n4               130  ['Nestled, 'ground, 'floor, 'UNESCO, 'World, '...   \n...             ...                                                ...   \n7195             75  ['California, ’, 'Zorthian, 'Ranch, 'strange, ...   \n7196            432  ['In, 'Rome, 'thousands, 'churches, 'old, 'bui...   \n7197            201  ['Sometimes, 'referred, 'Hungarian, 'national,...   \n7198            219  ['The, 'Zymoglyphic, 'Museum, 'houses, 'cabine...   \n7199            282  ['Curtis, 'Howe, 'Springer, 'self-proclaimed, ...   \n\n                                         placeShortDesc  \\\n0     ['This, 'innocuous, 'New, 'Mexico, 'storefront...   \n1     ['What, 'looks, 'like, 'normal, 'building, 're...   \n2     [A, 'well-preserved, 'Ancestral, 'Puebloan, 'r...   \n3     ['This, 'small, 'town, 'Texas, 'cemetery, 'sai...   \n4     ['Hidden, '165, 'years, 'inside, 'building, 'd...   \n...                                                 ...   \n7195  ['The, 'cobbled, 'together, 'compound, 'deceas...   \n7196  ['Architectural, 'monsters, 'devouring, 'palac...   \n7197  ['Central, 'Europe, ``, 's, '', 'largest, 'col...   \n7198  ['Private, 'collection, 'art, 'inspired, 'cabi...   \n7199  [A, 'former, 'utopian, 'healing, 'center, 'cre...   \n\n                                           placesNearby  \\\n0     [``, 'Palace, '', 'Governors, ``, 'Spitz, '', ...   \n1     [``, 'WWII, 'Bunker, 'Under, 'Gare, 'de, ``, l...   \n2     [``, 'Forrest, '', 'Gump, 'Point, ``, 'House, ...   \n3     [``, 'Billy, '', 'Bob, ’, 'Texas, ``, 'Chef, '...   \n4     [``, 'Headstone, '', 'Anna, 'Anderson, ``, 'Un...   \n...                                                 ...   \n7195  [``, 'The, '', 'Bunny, 'Museum, ``, 'Cobb, '',...   \n7196  [``, 'Keats-Shelley, '', 'Memorial, 'House, ``...   \n7197  [``, 'Paul, '', 'Street, 'Boys, 'Monument, ``,...   \n7198  [``, 'Lincoln, '', 'Street, 'Kayak, 'Canoe, 'M...   \n7199  [``, 'Alien, '', 'Fresh, 'Jerky, ``, 'Traveler...   \n\n                                           placeAddress  placeAlt  placeLong  \\\n0     ['109, 'East, 'Palace, 'Santa, 'Fe, 'New, 'Mex...   35.6875  -105.9372   \n1                ['145, 'Rue, 'la, 'FayetteParisFrance]   48.8792     2.3562   \n2                        ['Bluff, 'UtahUnited, 'States]   37.2748  -109.5102   \n3     ['507, 'Cemetery, 'RdAurora, 'Texas, '76078Uni...   33.0534   -97.5000   \n4     ['1721, 'University, 'AveCharlottesville, 'Vir...   38.0357   -78.5033   \n...                                                 ...       ...        ...   \n7195  ['4010, 'Fair, 'Oaks, 'AveAltadena, 'Californi...   34.2111  -118.1404   \n7196          ['34, 'Via, 'GregorianaRome, '00187Italy]   41.9051    12.4844   \n7197             [1, 'Dandár, u.Budapest, '1095Hungary]   47.4759    19.0697   \n7198  ['6225, 'SE, 'Alder, 'St.Portland, 'Oregon, '9...   45.5177  -122.5998   \n7199  ['Zzyzx, 'RoadSan, 'Bernardino, 'CaliforniaUni...   35.1431  -116.1042   \n\n                                           placeEditors placePubDate  \\\n0     [``, 'michaelksugar, '', ``, 'tylercole, '', `...   2014-03-31   \n1     [``, 'EVA, '', ``, 'carllenox, '', ``, 'erjeff...   2018-06-15   \n2     [``, 'JWill, '', ``, 'Molly, '', 'McBride, 'Ja...   2017-05-10   \n3     [``, 'EricGrundhauser, '', ``, 'Molly, '', 'Mc...   2014-11-21   \n4              [``, 'Collin, '', ``, 'blimpcaptain, '']   2016-05-09   \n...                                                 ...          ...   \n7195  [``, 'ashleypinnick, '', ``, 'Rachel, '', ``, ...   2013-08-27   \n7196  [``, 'pboduch, '', ``, 'beefjorky, '', ``, 'di...   2014-03-06   \n7197  [``, 'Shotsy, '', ``, 'Molly, '', 'McBride, 'J...   2014-10-14   \n7198  [``, 'michelle, '', ``, 'Martin, '', ``, 'wyth...   2013-06-13   \n7199  [``, 'anhie, '', ``, 'obleuiiis, '', ``, 'aaro...   2009-10-19   \n\n                                      placeRelatedLists placeRelatedPlaces  \\\n0     [``, 'Camp, '', 'Century, 'Project, 'Iceworm, ...             ['nan]   \n1     [``, 'Vauxhall, 'Bridge, ``, 's, '', 'Miniatur...             ['nan]   \n2     [``, 'Keller, '', 'House, ``, 'Cow, '', 'Sprin...             ['nan]   \n3     [``, 'Betty, '', 'Barney, 'Hill, 'Graves, ``, ...             ['nan]   \n4     [``, 'Kamerlingh, '', 'Onnes, 'Laboratory, 'Pl...             ['nan]   \n...                                                 ...                ...   \n7195  [``, 'Milwaukee, '', 'Art, 'Museum, ``, 'Rocca...             ['nan]   \n7196  [``, 'Johnstone, '', 'Castle, ``, 'Castillo, '...             ['nan]   \n7197  [``, 'Baked, '', 'Bean, 'Museum, 'Excellence, ...             ['nan]   \n7198  [``, 'Ilana, '', 'Goor, 'Museum, ``, 'Milwauke...             ['nan]   \n7199  [``, 'UFO, '', 'Watchtower, ``, 'American, '',...             ['nan]   \n\n                                               placeUrl  \\\n0                                                 [nan]   \n1                                                 [nan]   \n2                                                 [nan]   \n3                                                 [nan]   \n4                                                 [nan]   \n...                                                 ...   \n7195                   [http, //www.zorthianranch.com/]   \n7196                                              [nan]   \n7197  [http, //www.zwack.hu/en/zwack-muzeumok/zwack-...   \n7198                      [http, //www.zymoglyphic.org]   \n7199     [http, //biology.fullerton.edu/dsc/index.html]   \n\n                                              placesUrl  \n0                                                 [nan]  \n1                                                 [nan]  \n2                                                 [nan]  \n3                                                 [nan]  \n4                                                 [nan]  \n...                                                 ...  \n7195                   [http, //www.zorthianranch.com/]  \n7196                                              [nan]  \n7197  [http, //www.zwack.hu/en/zwack-muzeumok/zwack-...  \n7198                      [http, //www.zymoglyphic.org]  \n7199     [http, //biology.fullerton.edu/dsc/index.html]  \n\n[7200 rows x 16 columns]",
      "text/html": "<div>\n<style scoped>\n    .dataframe tbody tr th:only-of-type {\n        vertical-align: middle;\n    }\n\n    .dataframe tbody tr th {\n        vertical-align: top;\n    }\n\n    .dataframe thead th {\n        text-align: right;\n    }\n</style>\n<table border=\"1\" class=\"dataframe\">\n  <thead>\n    <tr style=\"text-align: right;\">\n      <th></th>\n      <th>placeName</th>\n      <th>placeTags</th>\n      <th>numPeopleVisited</th>\n      <th>numPeopleWant</th>\n      <th>placeDesc</th>\n      <th>placeShortDesc</th>\n      <th>placesNearby</th>\n      <th>placeAddress</th>\n      <th>placeAlt</th>\n      <th>placeLong</th>\n      <th>placeEditors</th>\n      <th>placePubDate</th>\n      <th>placeRelatedLists</th>\n      <th>placeRelatedPlaces</th>\n      <th>placeUrl</th>\n      <th>placesUrl</th>\n    </tr>\n  </thead>\n  <tbody>\n    <tr>\n      <th>0</th>\n      <td>['109, 'East, 'Palace]</td>\n      <td>[``, 'manhattan, '', 'project, ``, 'secret, ''...</td>\n      <td>419</td>\n      <td>419</td>\n      <td>['When, 'need, 'dropped, 'top-secret, 'researc...</td>\n      <td>['This, 'innocuous, 'New, 'Mexico, 'storefront...</td>\n      <td>[``, 'Palace, '', 'Governors, ``, 'Spitz, '', ...</td>\n      <td>['109, 'East, 'Palace, 'Santa, 'Fe, 'New, 'Mex...</td>\n      <td>35.6875</td>\n      <td>-105.9372</td>\n      <td>[``, 'michaelksugar, '', ``, 'tylercole, '', `...</td>\n      <td>2014-03-31</td>\n      <td>[``, 'Camp, '', 'Century, 'Project, 'Iceworm, ...</td>\n      <td>['nan]</td>\n      <td>[nan]</td>\n      <td>[nan]</td>\n    </tr>\n    <tr>\n      <th>1</th>\n      <td>['145, 'Rue, 'Lafayette]</td>\n      <td>[``, 'urban, '', 'planning, ``, 'cities, '', `...</td>\n      <td>163</td>\n      <td>163</td>\n      <td>['While, 'walking, 'street, ’, 'forgiven, 'thi...</td>\n      <td>['What, 'looks, 'like, 'normal, 'building, 're...</td>\n      <td>[``, 'WWII, 'Bunker, 'Under, 'Gare, 'de, ``, l...</td>\n      <td>['145, 'Rue, 'la, 'FayetteParisFrance]</td>\n      <td>48.8792</td>\n      <td>2.3562</td>\n      <td>[``, 'EVA, '', ``, 'carllenox, '', ``, 'erjeff...</td>\n      <td>2018-06-15</td>\n      <td>[``, 'Vauxhall, 'Bridge, ``, 's, '', 'Miniatur...</td>\n      <td>['nan]</td>\n      <td>[nan]</td>\n      <td>[nan]</td>\n    </tr>\n    <tr>\n      <th>2</th>\n      <td>['17, 'Room, 'Ruin]</td>\n      <td>[``, 'abandoned, '', 'houses, ``, 'native, '',...</td>\n      <td>161</td>\n      <td>161</td>\n      <td>['Outside, 'Bluff, 'Utah, 'massive, '100-foot-...</td>\n      <td>[A, 'well-preserved, 'Ancestral, 'Puebloan, 'r...</td>\n      <td>[``, 'Forrest, '', 'Gump, 'Point, ``, 'House, ...</td>\n      <td>['Bluff, 'UtahUnited, 'States]</td>\n      <td>37.2748</td>\n      <td>-109.5102</td>\n      <td>[``, 'JWill, '', ``, 'Molly, '', 'McBride, 'Ja...</td>\n      <td>2017-05-10</td>\n      <td>[``, 'Keller, '', 'House, ``, 'Cow, '', 'Sprin...</td>\n      <td>['nan]</td>\n      <td>[nan]</td>\n      <td>[nan]</td>\n    </tr>\n    <tr>\n      <th>3</th>\n      <td>['1890s, 'Alien, 'Gravesite]</td>\n      <td>[``, 'aliens, '', ``, 'graves, '', ``, 'graves...</td>\n      <td>249</td>\n      <td>249</td>\n      <td>['While, 'receives, 'fanfare, 'today, 'small, ...</td>\n      <td>['This, 'small, 'town, 'Texas, 'cemetery, 'sai...</td>\n      <td>[``, 'Billy, '', 'Bob, ’, 'Texas, ``, 'Chef, '...</td>\n      <td>['507, 'Cemetery, 'RdAurora, 'Texas, '76078Uni...</td>\n      <td>33.0534</td>\n      <td>-97.5000</td>\n      <td>[``, 'EricGrundhauser, '', ``, 'Molly, '', 'Mc...</td>\n      <td>2014-11-21</td>\n      <td>[``, 'Betty, '', 'Barney, 'Hill, 'Graves, ``, ...</td>\n      <td>['nan]</td>\n      <td>[nan]</td>\n      <td>[nan]</td>\n    </tr>\n    <tr>\n      <th>4</th>\n      <td>['University, 'Virginia, ’, 'Hidden, 'Chemical...</td>\n      <td>[``, 'thomas, '', 'jefferson, ``, 'unesco, '',...</td>\n      <td>130</td>\n      <td>130</td>\n      <td>['Nestled, 'ground, 'floor, 'UNESCO, 'World, '...</td>\n      <td>['Hidden, '165, 'years, 'inside, 'building, 'd...</td>\n      <td>[``, 'Headstone, '', 'Anna, 'Anderson, ``, 'Un...</td>\n      <td>['1721, 'University, 'AveCharlottesville, 'Vir...</td>\n      <td>38.0357</td>\n      <td>-78.5033</td>\n      <td>[``, 'Collin, '', ``, 'blimpcaptain, '']</td>\n      <td>2016-05-09</td>\n      <td>[``, 'Kamerlingh, '', 'Onnes, 'Laboratory, 'Pl...</td>\n      <td>['nan]</td>\n      <td>[nan]</td>\n      <td>[nan]</td>\n    </tr>\n    <tr>\n      <th>...</th>\n      <td>...</td>\n      <td>...</td>\n      <td>...</td>\n      <td>...</td>\n      <td>...</td>\n      <td>...</td>\n      <td>...</td>\n      <td>...</td>\n      <td>...</td>\n      <td>...</td>\n      <td>...</td>\n      <td>...</td>\n      <td>...</td>\n      <td>...</td>\n      <td>...</td>\n      <td>...</td>\n    </tr>\n    <tr>\n      <th>7195</th>\n      <td>['Zorthian, 'Ranch]</td>\n      <td>[``, 'film, '', 'locations, ``, 'farms, '', ``...</td>\n      <td>75</td>\n      <td>75</td>\n      <td>['California, ’, 'Zorthian, 'Ranch, 'strange, ...</td>\n      <td>['The, 'cobbled, 'together, 'compound, 'deceas...</td>\n      <td>[``, 'The, '', 'Bunny, 'Museum, ``, 'Cobb, '',...</td>\n      <td>['4010, 'Fair, 'Oaks, 'AveAltadena, 'Californi...</td>\n      <td>34.2111</td>\n      <td>-118.1404</td>\n      <td>[``, 'ashleypinnick, '', ``, 'Rachel, '', ``, ...</td>\n      <td>2013-08-27</td>\n      <td>[``, 'Milwaukee, '', 'Art, 'Museum, ``, 'Rocca...</td>\n      <td>['nan]</td>\n      <td>[http, //www.zorthianranch.com/]</td>\n      <td>[http, //www.zorthianranch.com/]</td>\n    </tr>\n    <tr>\n      <th>7196</th>\n      <td>['Zuccari, 'Palace]</td>\n      <td>[``, 'castles, '', ``, 'architectural, '', 'od...</td>\n      <td>432</td>\n      <td>432</td>\n      <td>['In, 'Rome, 'thousands, 'churches, 'old, 'bui...</td>\n      <td>['Architectural, 'monsters, 'devouring, 'palac...</td>\n      <td>[``, 'Keats-Shelley, '', 'Memorial, 'House, ``...</td>\n      <td>['34, 'Via, 'GregorianaRome, '00187Italy]</td>\n      <td>41.9051</td>\n      <td>12.4844</td>\n      <td>[``, 'pboduch, '', ``, 'beefjorky, '', ``, 'di...</td>\n      <td>2014-03-06</td>\n      <td>[``, 'Johnstone, '', 'Castle, ``, 'Castillo, '...</td>\n      <td>['nan]</td>\n      <td>[nan]</td>\n      <td>[nan]</td>\n    </tr>\n    <tr>\n      <th>7197</th>\n      <td>['Zwack, 'Unicum, 'Museum]</td>\n      <td>[``, 'food, '', 'museums, ``, 'food, '', ``, '...</td>\n      <td>201</td>\n      <td>201</td>\n      <td>['Sometimes, 'referred, 'Hungarian, 'national,...</td>\n      <td>['Central, 'Europe, ``, 's, '', 'largest, 'col...</td>\n      <td>[``, 'Paul, '', 'Street, 'Boys, 'Monument, ``,...</td>\n      <td>[1, 'Dandár, u.Budapest, '1095Hungary]</td>\n      <td>47.4759</td>\n      <td>19.0697</td>\n      <td>[``, 'Shotsy, '', ``, 'Molly, '', 'McBride, 'J...</td>\n      <td>2014-10-14</td>\n      <td>[``, 'Baked, '', 'Bean, 'Museum, 'Excellence, ...</td>\n      <td>['nan]</td>\n      <td>[http, //www.zwack.hu/en/zwack-muzeumok/zwack-...</td>\n      <td>[http, //www.zwack.hu/en/zwack-muzeumok/zwack-...</td>\n    </tr>\n    <tr>\n      <th>7198</th>\n      <td>['The, 'Zymoglyphic, 'Museum]</td>\n      <td>[``, 'obscura, '', 'day, 'locations, ``, 'wond...</td>\n      <td>219</td>\n      <td>219</td>\n      <td>['The, 'Zymoglyphic, 'Museum, 'houses, 'cabine...</td>\n      <td>['Private, 'collection, 'art, 'inspired, 'cabi...</td>\n      <td>[``, 'Lincoln, '', 'Street, 'Kayak, 'Canoe, 'M...</td>\n      <td>['6225, 'SE, 'Alder, 'St.Portland, 'Oregon, '9...</td>\n      <td>45.5177</td>\n      <td>-122.5998</td>\n      <td>[``, 'michelle, '', ``, 'Martin, '', ``, 'wyth...</td>\n      <td>2013-06-13</td>\n      <td>[``, 'Ilana, '', 'Goor, 'Museum, ``, 'Milwauke...</td>\n      <td>['nan]</td>\n      <td>[http, //www.zymoglyphic.org]</td>\n      <td>[http, //www.zymoglyphic.org]</td>\n    </tr>\n    <tr>\n      <th>7199</th>\n      <td>['Zzyzx, 'Mineral, 'Springs, 'Healing, 'Center]</td>\n      <td>[``, 'hoaxes, '', 'pseudoscience, ``, 'places,...</td>\n      <td>282</td>\n      <td>282</td>\n      <td>['Curtis, 'Howe, 'Springer, 'self-proclaimed, ...</td>\n      <td>[A, 'former, 'utopian, 'healing, 'center, 'cre...</td>\n      <td>[``, 'Alien, '', 'Fresh, 'Jerky, ``, 'Traveler...</td>\n      <td>['Zzyzx, 'RoadSan, 'Bernardino, 'CaliforniaUni...</td>\n      <td>35.1431</td>\n      <td>-116.1042</td>\n      <td>[``, 'anhie, '', ``, 'obleuiiis, '', ``, 'aaro...</td>\n      <td>2009-10-19</td>\n      <td>[``, 'UFO, '', 'Watchtower, ``, 'American, '',...</td>\n      <td>['nan]</td>\n      <td>[http, //biology.fullerton.edu/dsc/index.html]</td>\n      <td>[http, //biology.fullerton.edu/dsc/index.html]</td>\n    </tr>\n  </tbody>\n</table>\n<p>7200 rows × 16 columns</p>\n</div>"
     },
     "execution_count": 23,
     "metadata": {},
     "output_type": "execute_result"
    }
   ],
   "source": [
    "# removing stopwords and tokenize\n",
    "stop_words = stopwords.words('english') + list(string.punctuation)\n",
    "\n",
    "df['placeName'] = df['placeName'].apply(lambda x: [word for word in word_tokenize(str(x)) if word not in stop_words])\n",
    "df['placeTags'] = df['placeTags'].apply(lambda x: [word for word in word_tokenize(str(x)) if word not in stop_words])\n",
    "df['placeDesc'] = df['placeDesc'].apply(lambda x: [word for word in word_tokenize(str(x)) if word not in stop_words])\n",
    "df['placeShortDesc'] = df['placeShortDesc'].apply(lambda x: [word for word in word_tokenize(str(x)) if word not in stop_words])\n",
    "df['placesNearby'] = df['placesNearby'].apply(lambda x: [word for word in word_tokenize(str(x)) if word not in stop_words])\n",
    "df['placeAddress'] = df['placeAddress'].apply(lambda x: [word for word in word_tokenize(str(x)) if word not in stop_words])\n",
    "df['placeEditors'] = df['placeEditors'].apply(lambda x: [word for word in word_tokenize(str(x)) if word not in stop_words])\n",
    "df['placeRelatedLists'] = df['placeRelatedLists'].apply(lambda x: [word for word in word_tokenize(str(x)) if word not in stop_words])\n",
    "df['placeRelatedPlaces'] = df['placeRelatedPlaces'].apply(lambda x: [word for word in word_tokenize(str(x)) if word not in stop_words])\n",
    "df['placeUrl'] = df['placeUrl'].apply(lambda x: [word for word in word_tokenize(str(x)) if word not in stop_words])\n",
    "df"
   ],
   "metadata": {
    "collapsed": false,
    "pycharm": {
     "name": "#%%\n"
    }
   }
  },
  {
   "cell_type": "code",
   "execution_count": 24,
   "outputs": [
    {
     "data": {
      "text/plain": "                                              placeName  \\\n0                          [\"'109\", \"'east\", \"'palace\"]   \n1                        [\"'145\", \"'rue\", \"'lafayette\"]   \n2                             [\"'17\", \"'room\", \"'ruin\"]   \n3                    [\"'1890s\", \"'alien\", \"'gravesite\"]   \n4     [\"'university\", \"'virginia\", ''', \"'hidden\", \"...   \n...                                                 ...   \n7195                            [\"'zorthian\", \"'ranch\"]   \n7196                            [\"'zuccari\", \"'palace\"]   \n7197                   [\"'zwack\", \"'unicum\", \"'museum\"]   \n7198                [\"'the\", \"'zymoglyphic\", \"'museum\"]   \n7199  [\"'zzyzx\", \"'mineral\", \"'springs\", \"'healing\",...   \n\n                                              placeTags numPeopleVisited  \\\n0     ['``', \"'manhattan\", \"''\", \"'project\", '``', \"...              419   \n1     ['``', \"'urban\", \"''\", \"'planning\", '``', \"'ci...              163   \n2     ['``', \"'abandoned\", \"''\", \"'houses\", '``', \"'...              161   \n3     ['``', \"'aliens\", \"''\", '``', \"'graves\", \"''\",...              249   \n4     ['``', \"'thomas\", \"''\", \"'jefferson\", '``', \"'...              130   \n...                                                 ...              ...   \n7195  ['``', \"'film\", \"''\", \"'locations\", '``', \"'fa...               75   \n7196  ['``', \"'castles\", \"''\", '``', \"'architectural...              432   \n7197  ['``', \"'food\", \"''\", \"'museums\", '``', \"'food...              201   \n7198  ['``', \"'obscura\", \"''\", \"'day\", \"'locations\",...              219   \n7199  ['``', \"'hoaxes\", \"''\", \"'pseudoscience\", '``'...              282   \n\n     numPeopleWant                                          placeDesc  \\\n0              419  [\"'when\", \"'need\", \"'dropped\", \"'top-secret\", ...   \n1              163  [\"'while\", \"'walking\", \"'street\", ''', \"'forgi...   \n2              161  [\"'outside\", \"'bluff\", \"'utah\", \"'massive\", \"'...   \n3              249  [\"'while\", \"'receives\", \"'fanfare\", \"'today\", ...   \n4              130  [\"'nestled\", \"'ground\", \"'floor\", \"'unesco\", \"...   \n...            ...                                                ...   \n7195            75  [\"'california\", ''', \"'zorthian\", \"'ranch\", \"'...   \n7196           432  [\"'in\", \"'rome\", \"'thousands\", \"'churches\", \"'...   \n7197           201  [\"'sometimes\", \"'referred\", \"'hungarian\", \"'na...   \n7198           219  [\"'the\", \"'zymoglyphic\", \"'museum\", \"'houses\",...   \n7199           282  [\"'curtis\", \"'howe\", \"'springer\", \"'self-procl...   \n\n                                         placeShortDesc  \\\n0     [\"'this\", \"'innocuous\", \"'new\", \"'mexico\", \"'s...   \n1     [\"'what\", \"'looks\", \"'like\", \"'normal\", \"'buil...   \n2     ['a', \"'well-preserved\", \"'ancestral\", \"'puebl...   \n3     [\"'this\", \"'small\", \"'town\", \"'texas\", \"'cemet...   \n4     [\"'hidden\", \"'165\", \"'years\", \"'inside\", \"'bui...   \n...                                                 ...   \n7195  [\"'the\", \"'cobbled\", \"'together\", \"'compound\",...   \n7196  [\"'architectural\", \"'monsters\", \"'devouring\", ...   \n7197  [\"'central\", \"'europe\", '``', \"'s\", \"''\", \"'la...   \n7198  [\"'private\", \"'collection\", \"'art\", \"'inspired...   \n7199  ['a', \"'former\", \"'utopian\", \"'healing\", \"'cen...   \n\n                                           placesNearby  \\\n0     ['``', \"'palace\", \"''\", \"'governors\", '``', \"'...   \n1     ['``', \"'wwii\", \"'bunker\", \"'under\", \"'gare\", ...   \n2     ['``', \"'forrest\", \"''\", \"'gump\", \"'point\", '`...   \n3     ['``', \"'billy\", \"''\", \"'bob\", ''', \"'texas\", ...   \n4     ['``', \"'headstone\", \"''\", \"'anna\", \"'anderson...   \n...                                                 ...   \n7195  ['``', \"'the\", \"''\", \"'bunny\", \"'museum\", '``'...   \n7196  ['``', \"'keats-shelley\", \"''\", \"'memorial\", \"'...   \n7197  ['``', \"'paul\", \"''\", \"'street\", \"'boys\", \"'mo...   \n7198  ['``', \"'lincoln\", \"''\", \"'street\", \"'kayak\", ...   \n7199  ['``', \"'alien\", \"''\", \"'fresh\", \"'jerky\", '``...   \n\n                                           placeAddress placeAlt  placeLong  \\\n0     [\"'109\", \"'east\", \"'palace\", \"'santa\", \"'fe\", ...  35.6875  -105.9372   \n1        [\"'145\", \"'rue\", \"'la\", \"'fayetteparisfrance\"]  48.8792     2.3562   \n2                  [\"'bluff\", \"'utahunited\", \"'states\"]  37.2748  -109.5102   \n3     [\"'507\", \"'cemetery\", \"'rdaurora\", \"'texas\", \"...  33.0534      -97.5   \n4     [\"'1721\", \"'university\", \"'avecharlottesville\"...  38.0357   -78.5033   \n...                                                 ...      ...        ...   \n7195  [\"'4010\", \"'fair\", \"'oaks\", \"'avealtadena\", \"'...  34.2111  -118.1404   \n7196  [\"'34\", \"'via\", \"'gregorianarome\", \"'00187italy\"]  41.9051    12.4844   \n7197     ['1', \"'dandár\", 'u.budapest', \"'1095hungary\"]  47.4759    19.0697   \n7198  [\"'6225\", \"'se\", \"'alder\", \"'st.portland\", \"'o...  45.5177  -122.5998   \n7199  [\"'zzyzx\", \"'roadsan\", \"'bernardino\", \"'califo...  35.1431  -116.1042   \n\n                                           placeEditors placePubDate  \\\n0     ['``', \"'michaelksugar\", \"''\", '``', \"'tylerco...   2014-03-31   \n1     ['``', \"'eva\", \"''\", '``', \"'carllenox\", \"''\",...   2018-06-15   \n2     ['``', \"'jwill\", \"''\", '``', \"'molly\", \"''\", \"...   2017-05-10   \n3     ['``', \"'ericgrundhauser\", \"''\", '``', \"'molly...   2014-11-21   \n4     ['``', \"'collin\", \"''\", '``', \"'blimpcaptain\",...   2016-05-09   \n...                                                 ...          ...   \n7195  ['``', \"'ashleypinnick\", \"''\", '``', \"'rachel\"...   2013-08-27   \n7196  ['``', \"'pboduch\", \"''\", '``', \"'beefjorky\", \"...   2014-03-06   \n7197  ['``', \"'shotsy\", \"''\", '``', \"'molly\", \"''\", ...   2014-10-14   \n7198  ['``', \"'michelle\", \"''\", '``', \"'martin\", \"''...   2013-06-13   \n7199  ['``', \"'anhie\", \"''\", '``', \"'obleuiiis\", \"''...   2009-10-19   \n\n                                      placeRelatedLists placeRelatedPlaces  \\\n0     ['``', \"'camp\", \"''\", \"'century\", \"'project\", ...           [\"'nan\"]   \n1     ['``', \"'vauxhall\", \"'bridge\", '``', \"'s\", \"''...           [\"'nan\"]   \n2     ['``', \"'keller\", \"''\", \"'house\", '``', \"'cow\"...           [\"'nan\"]   \n3     ['``', \"'betty\", \"''\", \"'barney\", \"'hill\", \"'g...           [\"'nan\"]   \n4     ['``', \"'kamerlingh\", \"''\", \"'onnes\", \"'labora...           [\"'nan\"]   \n...                                                 ...                ...   \n7195  ['``', \"'milwaukee\", \"''\", \"'art\", \"'museum\", ...           [\"'nan\"]   \n7196  ['``', \"'johnstone\", \"''\", \"'castle\", '``', \"'...           [\"'nan\"]   \n7197  ['``', \"'baked\", \"''\", \"'bean\", \"'museum\", \"'e...           [\"'nan\"]   \n7198  ['``', \"'ilana\", \"''\", \"'goor\", \"'museum\", '``...           [\"'nan\"]   \n7199  ['``', \"'ufo\", \"''\", \"'watchtower\", '``', \"'am...           [\"'nan\"]   \n\n                                               placeUrl  \\\n0                                               ['nan']   \n1                                               ['nan']   \n2                                               ['nan']   \n3                                               ['nan']   \n4                                               ['nan']   \n...                                                 ...   \n7195               ['http', '//www.zorthianranch.com/']   \n7196                                            ['nan']   \n7197  ['http', '//www.zwack.hu/en/zwack-muzeumok/zwa...   \n7198                  ['http', '//www.zymoglyphic.org']   \n7199  ['http', '//biology.fullerton.edu/dsc/index.ht...   \n\n                                              placesUrl  \n0                                               ['nan']  \n1                                               ['nan']  \n2                                               ['nan']  \n3                                               ['nan']  \n4                                               ['nan']  \n...                                                 ...  \n7195               ['http', '//www.zorthianranch.com/']  \n7196                                            ['nan']  \n7197  ['http', '//www.zwack.hu/en/zwack-muzeumok/zwa...  \n7198                  ['http', '//www.zymoglyphic.org']  \n7199  ['http', '//biology.fullerton.edu/dsc/index.ht...  \n\n[7200 rows x 16 columns]",
      "text/html": "<div>\n<style scoped>\n    .dataframe tbody tr th:only-of-type {\n        vertical-align: middle;\n    }\n\n    .dataframe tbody tr th {\n        vertical-align: top;\n    }\n\n    .dataframe thead th {\n        text-align: right;\n    }\n</style>\n<table border=\"1\" class=\"dataframe\">\n  <thead>\n    <tr style=\"text-align: right;\">\n      <th></th>\n      <th>placeName</th>\n      <th>placeTags</th>\n      <th>numPeopleVisited</th>\n      <th>numPeopleWant</th>\n      <th>placeDesc</th>\n      <th>placeShortDesc</th>\n      <th>placesNearby</th>\n      <th>placeAddress</th>\n      <th>placeAlt</th>\n      <th>placeLong</th>\n      <th>placeEditors</th>\n      <th>placePubDate</th>\n      <th>placeRelatedLists</th>\n      <th>placeRelatedPlaces</th>\n      <th>placeUrl</th>\n      <th>placesUrl</th>\n    </tr>\n  </thead>\n  <tbody>\n    <tr>\n      <th>0</th>\n      <td>[\"'109\", \"'east\", \"'palace\"]</td>\n      <td>['``', \"'manhattan\", \"''\", \"'project\", '``', \"...</td>\n      <td>419</td>\n      <td>419</td>\n      <td>[\"'when\", \"'need\", \"'dropped\", \"'top-secret\", ...</td>\n      <td>[\"'this\", \"'innocuous\", \"'new\", \"'mexico\", \"'s...</td>\n      <td>['``', \"'palace\", \"''\", \"'governors\", '``', \"'...</td>\n      <td>[\"'109\", \"'east\", \"'palace\", \"'santa\", \"'fe\", ...</td>\n      <td>35.6875</td>\n      <td>-105.9372</td>\n      <td>['``', \"'michaelksugar\", \"''\", '``', \"'tylerco...</td>\n      <td>2014-03-31</td>\n      <td>['``', \"'camp\", \"''\", \"'century\", \"'project\", ...</td>\n      <td>[\"'nan\"]</td>\n      <td>['nan']</td>\n      <td>['nan']</td>\n    </tr>\n    <tr>\n      <th>1</th>\n      <td>[\"'145\", \"'rue\", \"'lafayette\"]</td>\n      <td>['``', \"'urban\", \"''\", \"'planning\", '``', \"'ci...</td>\n      <td>163</td>\n      <td>163</td>\n      <td>[\"'while\", \"'walking\", \"'street\", ''', \"'forgi...</td>\n      <td>[\"'what\", \"'looks\", \"'like\", \"'normal\", \"'buil...</td>\n      <td>['``', \"'wwii\", \"'bunker\", \"'under\", \"'gare\", ...</td>\n      <td>[\"'145\", \"'rue\", \"'la\", \"'fayetteparisfrance\"]</td>\n      <td>48.8792</td>\n      <td>2.3562</td>\n      <td>['``', \"'eva\", \"''\", '``', \"'carllenox\", \"''\",...</td>\n      <td>2018-06-15</td>\n      <td>['``', \"'vauxhall\", \"'bridge\", '``', \"'s\", \"''...</td>\n      <td>[\"'nan\"]</td>\n      <td>['nan']</td>\n      <td>['nan']</td>\n    </tr>\n    <tr>\n      <th>2</th>\n      <td>[\"'17\", \"'room\", \"'ruin\"]</td>\n      <td>['``', \"'abandoned\", \"''\", \"'houses\", '``', \"'...</td>\n      <td>161</td>\n      <td>161</td>\n      <td>[\"'outside\", \"'bluff\", \"'utah\", \"'massive\", \"'...</td>\n      <td>['a', \"'well-preserved\", \"'ancestral\", \"'puebl...</td>\n      <td>['``', \"'forrest\", \"''\", \"'gump\", \"'point\", '`...</td>\n      <td>[\"'bluff\", \"'utahunited\", \"'states\"]</td>\n      <td>37.2748</td>\n      <td>-109.5102</td>\n      <td>['``', \"'jwill\", \"''\", '``', \"'molly\", \"''\", \"...</td>\n      <td>2017-05-10</td>\n      <td>['``', \"'keller\", \"''\", \"'house\", '``', \"'cow\"...</td>\n      <td>[\"'nan\"]</td>\n      <td>['nan']</td>\n      <td>['nan']</td>\n    </tr>\n    <tr>\n      <th>3</th>\n      <td>[\"'1890s\", \"'alien\", \"'gravesite\"]</td>\n      <td>['``', \"'aliens\", \"''\", '``', \"'graves\", \"''\",...</td>\n      <td>249</td>\n      <td>249</td>\n      <td>[\"'while\", \"'receives\", \"'fanfare\", \"'today\", ...</td>\n      <td>[\"'this\", \"'small\", \"'town\", \"'texas\", \"'cemet...</td>\n      <td>['``', \"'billy\", \"''\", \"'bob\", ''', \"'texas\", ...</td>\n      <td>[\"'507\", \"'cemetery\", \"'rdaurora\", \"'texas\", \"...</td>\n      <td>33.0534</td>\n      <td>-97.5</td>\n      <td>['``', \"'ericgrundhauser\", \"''\", '``', \"'molly...</td>\n      <td>2014-11-21</td>\n      <td>['``', \"'betty\", \"''\", \"'barney\", \"'hill\", \"'g...</td>\n      <td>[\"'nan\"]</td>\n      <td>['nan']</td>\n      <td>['nan']</td>\n    </tr>\n    <tr>\n      <th>4</th>\n      <td>[\"'university\", \"'virginia\", ''', \"'hidden\", \"...</td>\n      <td>['``', \"'thomas\", \"''\", \"'jefferson\", '``', \"'...</td>\n      <td>130</td>\n      <td>130</td>\n      <td>[\"'nestled\", \"'ground\", \"'floor\", \"'unesco\", \"...</td>\n      <td>[\"'hidden\", \"'165\", \"'years\", \"'inside\", \"'bui...</td>\n      <td>['``', \"'headstone\", \"''\", \"'anna\", \"'anderson...</td>\n      <td>[\"'1721\", \"'university\", \"'avecharlottesville\"...</td>\n      <td>38.0357</td>\n      <td>-78.5033</td>\n      <td>['``', \"'collin\", \"''\", '``', \"'blimpcaptain\",...</td>\n      <td>2016-05-09</td>\n      <td>['``', \"'kamerlingh\", \"''\", \"'onnes\", \"'labora...</td>\n      <td>[\"'nan\"]</td>\n      <td>['nan']</td>\n      <td>['nan']</td>\n    </tr>\n    <tr>\n      <th>...</th>\n      <td>...</td>\n      <td>...</td>\n      <td>...</td>\n      <td>...</td>\n      <td>...</td>\n      <td>...</td>\n      <td>...</td>\n      <td>...</td>\n      <td>...</td>\n      <td>...</td>\n      <td>...</td>\n      <td>...</td>\n      <td>...</td>\n      <td>...</td>\n      <td>...</td>\n      <td>...</td>\n    </tr>\n    <tr>\n      <th>7195</th>\n      <td>[\"'zorthian\", \"'ranch\"]</td>\n      <td>['``', \"'film\", \"''\", \"'locations\", '``', \"'fa...</td>\n      <td>75</td>\n      <td>75</td>\n      <td>[\"'california\", ''', \"'zorthian\", \"'ranch\", \"'...</td>\n      <td>[\"'the\", \"'cobbled\", \"'together\", \"'compound\",...</td>\n      <td>['``', \"'the\", \"''\", \"'bunny\", \"'museum\", '``'...</td>\n      <td>[\"'4010\", \"'fair\", \"'oaks\", \"'avealtadena\", \"'...</td>\n      <td>34.2111</td>\n      <td>-118.1404</td>\n      <td>['``', \"'ashleypinnick\", \"''\", '``', \"'rachel\"...</td>\n      <td>2013-08-27</td>\n      <td>['``', \"'milwaukee\", \"''\", \"'art\", \"'museum\", ...</td>\n      <td>[\"'nan\"]</td>\n      <td>['http', '//www.zorthianranch.com/']</td>\n      <td>['http', '//www.zorthianranch.com/']</td>\n    </tr>\n    <tr>\n      <th>7196</th>\n      <td>[\"'zuccari\", \"'palace\"]</td>\n      <td>['``', \"'castles\", \"''\", '``', \"'architectural...</td>\n      <td>432</td>\n      <td>432</td>\n      <td>[\"'in\", \"'rome\", \"'thousands\", \"'churches\", \"'...</td>\n      <td>[\"'architectural\", \"'monsters\", \"'devouring\", ...</td>\n      <td>['``', \"'keats-shelley\", \"''\", \"'memorial\", \"'...</td>\n      <td>[\"'34\", \"'via\", \"'gregorianarome\", \"'00187italy\"]</td>\n      <td>41.9051</td>\n      <td>12.4844</td>\n      <td>['``', \"'pboduch\", \"''\", '``', \"'beefjorky\", \"...</td>\n      <td>2014-03-06</td>\n      <td>['``', \"'johnstone\", \"''\", \"'castle\", '``', \"'...</td>\n      <td>[\"'nan\"]</td>\n      <td>['nan']</td>\n      <td>['nan']</td>\n    </tr>\n    <tr>\n      <th>7197</th>\n      <td>[\"'zwack\", \"'unicum\", \"'museum\"]</td>\n      <td>['``', \"'food\", \"''\", \"'museums\", '``', \"'food...</td>\n      <td>201</td>\n      <td>201</td>\n      <td>[\"'sometimes\", \"'referred\", \"'hungarian\", \"'na...</td>\n      <td>[\"'central\", \"'europe\", '``', \"'s\", \"''\", \"'la...</td>\n      <td>['``', \"'paul\", \"''\", \"'street\", \"'boys\", \"'mo...</td>\n      <td>['1', \"'dandár\", 'u.budapest', \"'1095hungary\"]</td>\n      <td>47.4759</td>\n      <td>19.0697</td>\n      <td>['``', \"'shotsy\", \"''\", '``', \"'molly\", \"''\", ...</td>\n      <td>2014-10-14</td>\n      <td>['``', \"'baked\", \"''\", \"'bean\", \"'museum\", \"'e...</td>\n      <td>[\"'nan\"]</td>\n      <td>['http', '//www.zwack.hu/en/zwack-muzeumok/zwa...</td>\n      <td>['http', '//www.zwack.hu/en/zwack-muzeumok/zwa...</td>\n    </tr>\n    <tr>\n      <th>7198</th>\n      <td>[\"'the\", \"'zymoglyphic\", \"'museum\"]</td>\n      <td>['``', \"'obscura\", \"''\", \"'day\", \"'locations\",...</td>\n      <td>219</td>\n      <td>219</td>\n      <td>[\"'the\", \"'zymoglyphic\", \"'museum\", \"'houses\",...</td>\n      <td>[\"'private\", \"'collection\", \"'art\", \"'inspired...</td>\n      <td>['``', \"'lincoln\", \"''\", \"'street\", \"'kayak\", ...</td>\n      <td>[\"'6225\", \"'se\", \"'alder\", \"'st.portland\", \"'o...</td>\n      <td>45.5177</td>\n      <td>-122.5998</td>\n      <td>['``', \"'michelle\", \"''\", '``', \"'martin\", \"''...</td>\n      <td>2013-06-13</td>\n      <td>['``', \"'ilana\", \"''\", \"'goor\", \"'museum\", '``...</td>\n      <td>[\"'nan\"]</td>\n      <td>['http', '//www.zymoglyphic.org']</td>\n      <td>['http', '//www.zymoglyphic.org']</td>\n    </tr>\n    <tr>\n      <th>7199</th>\n      <td>[\"'zzyzx\", \"'mineral\", \"'springs\", \"'healing\",...</td>\n      <td>['``', \"'hoaxes\", \"''\", \"'pseudoscience\", '``'...</td>\n      <td>282</td>\n      <td>282</td>\n      <td>[\"'curtis\", \"'howe\", \"'springer\", \"'self-procl...</td>\n      <td>['a', \"'former\", \"'utopian\", \"'healing\", \"'cen...</td>\n      <td>['``', \"'alien\", \"''\", \"'fresh\", \"'jerky\", '``...</td>\n      <td>[\"'zzyzx\", \"'roadsan\", \"'bernardino\", \"'califo...</td>\n      <td>35.1431</td>\n      <td>-116.1042</td>\n      <td>['``', \"'anhie\", \"''\", '``', \"'obleuiiis\", \"''...</td>\n      <td>2009-10-19</td>\n      <td>['``', \"'ufo\", \"''\", \"'watchtower\", '``', \"'am...</td>\n      <td>[\"'nan\"]</td>\n      <td>['http', '//biology.fullerton.edu/dsc/index.ht...</td>\n      <td>['http', '//biology.fullerton.edu/dsc/index.ht...</td>\n    </tr>\n  </tbody>\n</table>\n<p>7200 rows × 16 columns</p>\n</div>"
     },
     "execution_count": 24,
     "metadata": {},
     "output_type": "execute_result"
    }
   ],
   "source": [
    "# stemming\n",
    "from nltk.stem.snowball import SnowballStemmer\n",
    "englishStemmer = SnowballStemmer(\"english\")\n",
    "\n",
    "df.apply(lambda y: [englishStemmer.stem(str(word)) for word in y])"
   ],
   "metadata": {
    "collapsed": false,
    "pycharm": {
     "name": "#%%\n"
    }
   }
  },
  {
   "cell_type": "code",
   "execution_count": null,
   "outputs": [],
   "source": [],
   "metadata": {
    "collapsed": false,
    "pycharm": {
     "name": "#%%\n"
    }
   }
  }
 ],
 "metadata": {
  "kernelspec": {
   "display_name": "Python 3",
   "language": "python",
   "name": "python3"
  },
  "language_info": {
   "codemirror_mode": {
    "name": "ipython",
    "version": 2
   },
   "file_extension": ".py",
   "mimetype": "text/x-python",
   "name": "python",
   "nbconvert_exporter": "python",
   "pygments_lexer": "ipython2",
   "version": "2.7.6"
  }
 },
 "nbformat": 4,
 "nbformat_minor": 0
}