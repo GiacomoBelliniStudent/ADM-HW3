{
 "cells": [
  {
   "cell_type": "markdown",
   "source": [
    "# **Homework 3 - Places of the world**"
   ],
   "metadata": {
    "collapsed": false,
    "pycharm": {
     "name": "#%% md\n"
    }
   }
  },
  {
   "cell_type": "code",
   "execution_count": 1,
   "outputs": [],
   "source": [
    "#import libraries\n",
    "\n",
    "import numpy as np\n",
    "import pandas as pd\n",
    "from bs4 import BeautifulSoup\n",
    "import requests\n",
    "from os import listdir\n",
    "from os.path import isfile, join\n",
    "import os\n",
    "import shutil\n",
    "import urllib\n",
    "from datetime import datetime\n",
    "import csv\n",
    "from nltk.corpus import stopwords\n",
    "import string\n",
    "from nltk import word_tokenize\n",
    "import nltk\n",
    "from collections import OrderedDict\n",
    "import json\n",
    "from tqdm import tqdm"
   ],
   "metadata": {
    "collapsed": false,
    "pycharm": {
     "name": "#%%\n"
    }
   }
  },
  {
   "cell_type": "markdown",
   "source": [
    "# **1. Data collection**\n",
    "For this homework, there is no provided dataset. Instead, you have to build your own. Your search engine will run on text documents. So, here we detail the procedure to follow for the data collection."
   ],
   "metadata": {
    "collapsed": false,
    "pycharm": {
     "name": "#%% md\n"
    }
   }
  },
  {
   "cell_type": "markdown",
   "source": [
    "**1.1. Get the list of places**\n",
    "We start with the list of places to include in your corpus of documents. In particular, we focus on the Most popular places. Next, we want you to collect the URL associated with each site in the list from this list. The list is long and split into many pages. Therefore, we ask you to retrieve only the URLs of the places listed in the first 400 pages (each page has 18 places, so that you will end up with 7200 unique place URLs).\n",
    "\n",
    "The output of this step is a .txt file whose single line corresponds to the place's URL."
   ],
   "metadata": {
    "collapsed": false,
    "pycharm": {
     "name": "#%% md\n"
    }
   }
  },
  {
   "cell_type": "code",
   "execution_count": null,
   "outputs": [],
   "source": [
    "url = 'https://www.atlasobscura.com/places?page={}&sort=likes_count'\n",
    "result = requests.get(url)\n",
    "\n",
    "print(result)\n",
    "print(result.text)"
   ],
   "metadata": {
    "collapsed": false,
    "pycharm": {
     "name": "#%%\n"
    }
   }
  },
  {
   "cell_type": "code",
   "execution_count": null,
   "outputs": [],
   "source": [
    "soup = BeautifulSoup(result.text)"
   ],
   "metadata": {
    "collapsed": false,
    "pycharm": {
     "name": "#%%\n"
    }
   }
  },
  {
   "cell_type": "code",
   "execution_count": null,
   "outputs": [],
   "source": [
    "mydivs = soup.find_all(\"a\", {\"class\": \"content-card content-card-place\"})\n",
    "'https://www.atlasobscura.com' + mydivs[1]['href']"
   ],
   "metadata": {
    "collapsed": false,
    "pycharm": {
     "name": "#%%\n"
    }
   }
  },
  {
   "cell_type": "code",
   "execution_count": null,
   "outputs": [],
   "source": [
    "with open('places_url.txt', 'w') as f:\n",
    "    for i in range(1,401):\n",
    "        url = 'https://www.atlasobscura.com/places?page={}&sort=likes_count'.format(i)\n",
    "        result = requests.get(url)\n",
    "        soup = BeautifulSoup(result.text)\n",
    "        mydivs = soup.find_all(\"a\", {\"class\": \"content-card content-card-place\"})\n",
    "        for anchor in mydivs:\n",
    "            f.write('https://www.atlasobscura.com' + anchor['href'] + \"\\n\")\n",
    "    f.close();"
   ],
   "metadata": {
    "collapsed": false,
    "pycharm": {
     "name": "#%%\n"
    }
   }
  },
  {
   "cell_type": "markdown",
   "source": [
    "**1.2. Crawl places**\n",
    "\n",
    "Once you get all the URLs in the first 400 pages of the list, you:\n",
    "\n",
    "Download the HTML corresponding to each of the collected URLs.\n",
    "After you collect a single page, immediately save its HTML in a file. In this way, if your program stops for any reason, you will not lose the data collected up to the stopping point.\n",
    "Organize the entire set of downloaded HTML pages into folders. Each folder will contain the HTML of the places on page 1, page 2, ... of the list of locations.\n",
    "\n",
    "Tip: Due to a large number of pages you should download, you can use some methods that can help you shorten the time it takes. If you employed a particular process or approach, kindly describe it."
   ],
   "metadata": {
    "collapsed": false,
    "pycharm": {
     "name": "#%% md\n"
    }
   }
  },
  {
   "cell_type": "code",
   "execution_count": null,
   "outputs": [],
   "source": [
    "def saveHtmlFiles():\n",
    "    notDownloadedUrls = []\n",
    "    with open('places_url.txt') as file:\n",
    "        for url in file:\n",
    "            try:\n",
    "                urllib.request.urlretrieve(url,url.split('/')[-1].replace('\\n','')+'.html')\n",
    "            except Exception as e:\n",
    "                notDownloadedUrls.append(url)\n",
    "                continue\n",
    "    file.close()\n",
    "    return notDownloadedUrls"
   ],
   "metadata": {
    "collapsed": false,
    "pycharm": {
     "name": "#%%\n"
    }
   }
  },
  {
   "cell_type": "code",
   "execution_count": null,
   "outputs": [],
   "source": [
    "notDownloadedUrls = saveHtmlFiles()\n",
    "\n",
    "while notDownloadedUrls:\n",
    "    with open('places_url.txt', 'w') as f:\n",
    "        for url in notDownloadedUrls:\n",
    "            f.write(url + \"\\n\")\n",
    "    f.close();\n",
    "    notDownloadedUrls = saveHtmlFiles()"
   ],
   "metadata": {
    "collapsed": false,
    "pycharm": {
     "name": "#%%\n"
    }
   }
  },
  {
   "cell_type": "markdown",
   "source": [
    "**1.3 Parse downloaded pages**\n",
    "\n",
    "At this point, you should have all the HTML documents about the places of interest, and you can start to extract the places' information. The list of the information we desire for each place and their format is as follows:"
   ],
   "metadata": {
    "collapsed": false,
    "pycharm": {
     "name": "#%% md\n"
    }
   }
  },
  {
   "cell_type": "code",
   "execution_count": null,
   "outputs": [],
   "source": [
    "file_path = os.getcwd()\n",
    "files = []\n",
    "with open('places_url.txt') as file:\n",
    "    for url in file:\n",
    "        files.append(url.split('/')[-1].replace('\\n','')+'.html')\n",
    "    file.close()\n",
    "file_list = np.array_split(files,400)\n"
   ],
   "metadata": {
    "collapsed": false,
    "pycharm": {
     "name": "#%%\n"
    }
   }
  },
  {
   "cell_type": "code",
   "execution_count": null,
   "outputs": [],
   "source": [
    "for i in range(400):\n",
    "    directory = 'page_'+ str(i+1)\n",
    "\n",
    "    target_dir = os.path.join(file_path, directory)\n",
    "\n",
    "    os.mkdir(target_dir)\n",
    "\n",
    "    for file_name in file_list[i]:\n",
    "        shutil.move(os.path.join(file_path, file_name), target_dir)"
   ],
   "metadata": {
    "collapsed": false,
    "pycharm": {
     "name": "#%%\n"
    }
   }
  },
  {
   "cell_type": "code",
   "execution_count": null,
   "outputs": [],
   "source": [
    "headerList = ['placeName','placeTags','numPeopleVisited','numPeopleWant','placeDesc','placeShortDesc','placesNearby','placeAddress','placeAlt','placeLong','placeEditors','placePubDate','placeRelatedLists','placeRelatedPlaces','placeUrl']\n",
    "for i in range(1,401):\n",
    "    dir = os.getcwd() + '\\page_{}'.format(i)\n",
    "    files = [f for f in listdir(dir) if isfile(join(dir, f)) and f.lower().endswith(('.html'))]\n",
    "    for file in files:\n",
    "        with open(os.path.join(dir,file), 'rb+') as fp:\n",
    "            soup = BeautifulSoup(fp, \"html.parser\")\n",
    "\n",
    "            placeName = '' if soup.select('h1')[0].text.strip() is None else soup.select('h1')[0].text.strip()\n",
    "\n",
    "            placeTags = '' if soup.find('div', {'class': 'item-tags'}) is None else [a.text.strip() for a in soup.find('div', {'class': 'item-tags'}).select('a', {'class': 'itemTags__link'})]\n",
    "\n",
    "            numPeopleVisited = ('' if soup.find('aside', {'class': 'DDPage__item-actions'}) is None else soup.find('aside', {'class': 'DDPage__item-actions'}).select('div', {'class': 'title-md item-action-count'})[3].text.strip())\n",
    "\n",
    "            numPeopleWant = ('' if soup.find('aside', {'class': 'DDPage__item-actions'}) is None else soup.find('aside', {'class': 'DDPage__item-actions'}).select('div', {'class': 'title-md item-action-count'})[4].text.strip())\n",
    "\n",
    "            numPeopleWant = '' if numPeopleVisited == '' else int(''.join(filter(str.isdigit, numPeopleVisited)))\n",
    "\n",
    "            placeDesc = '' if soup.find('div', {'id': 'place-body'}) is None else soup.find('div', {'id': 'place-body'}).findNext().text.strip()\n",
    "\n",
    "            placeShortDesc = '' if soup.find('h3', {'class': 'DDPage__header-dek'}) is None else soup.find('h3', {'class': 'DDPage__header-dek'}).text.strip()\n",
    "\n",
    "            placesNearby = '' if soup.findAll('div', {'class': 'DDPageSiderailRecirc__item-title'}) is None else set([a.text.strip() for a  in soup.findAll('div', {'class': 'DDPageSiderailRecirc__item-title'})])\n",
    "\n",
    "            placeAddress = '' if soup.find('address', {'class': 'DDPageSiderail__address'}) is None else soup.find('address', {'class': 'DDPageSiderail__address'}).text.strip()\n",
    "\n",
    "            placeAlt = '' if soup.find('div', {'class': 'DDPageSiderail__coordinates'}) is None else soup.find('div', {'class': 'DDPageSiderail__coordinates'}).text.strip().split(',')[0].strip()\n",
    "\n",
    "            placeLong = '' if soup.find('div', {'class': 'DDPageSiderail__coordinates'}) is None else soup.find('div', {'class': 'DDPageSiderail__coordinates'}).text.strip().split(',')[1].strip()\n",
    "\n",
    "            placeEditors = '' if soup.findAll('a', {'class': 'DDPContributorsList__contributor'}) is None else [ a.text.strip() for a in soup.findAll('a', {'class': 'DDPContributorsList__contributor'})]\n",
    "\n",
    "            placePubDate = '' if soup.find('div', {'class': 'DDPContributor__name'}) is None else datetime.strptime(soup.find('div', {'class': 'DDPContributor__name'}).text,'%B %d, %Y').date()\n",
    "\n",
    "            placeRelatedLists = '' if soup.find('div', {'class': 'CardRecircSection__title'}, text='Related Places') is None else ([a.findNext('span').text.strip() for a in soup.find('div', {'class': 'CardRecircSection__title'}, text='Related Places').findNext('div', {'class': 'CardRecircSection__card-grid'}).findAll('a')])\n",
    "\n",
    "            placeRelatedPlaces = '' if soup.find('div', {'class': 'CardRecircSection__title'}, text='Appears in') is None else ([a.findNext('span').text.strip() for a in soup.find('div', {'class': 'CardRecircSection__title'}, text='Appears in').findNext('div', {'class': 'CardRecircSection__card-grid'}).findAll('a')])\n",
    "\n",
    "            placeUrl = '' if soup.find('div', {'class': 'DDPageSiderail__website'}) is None else soup.find('div', {'class': 'DDPageSiderail__website'}).find('a')['href'].strip()\n",
    "\n",
    "        fp.close()\n",
    "\n",
    "        valuesList = [placeName,placeTags,numPeopleVisited,numPeopleWant,placeDesc,placeShortDesc,placesNearby,placeAddress,placeAlt,placeLong,placeEditors,placePubDate,placeRelatedLists,placeRelatedPlaces,placeUrl]\n",
    "        with open(os.path.join(dir, file.title().replace('.Html','').lower() +'.tsv'), 'w+', encoding=\"utf-8\") as tsvfile:\n",
    "            writer = csv.writer(tsvfile, delimiter='\\t')\n",
    "            writer.writerow(headerList)\n",
    "            writer.writerow(valuesList)\n",
    "        tsvfile.close()"
   ],
   "metadata": {
    "collapsed": false,
    "pycharm": {
     "name": "#%%\n"
    }
   }
  },
  {
   "cell_type": "code",
   "execution_count": null,
   "outputs": [],
   "source": [
    "for i in range(1,401):\n",
    "    dir = os.getcwd() + '\\page_{}'.format(i)\n",
    "    target_dir = os.getcwd() + '/tsv_files'\n",
    "    files = [f for f in listdir(dir) if isfile(join(dir, f)) and f.lower().endswith(('.tsv'))]\n",
    "    for file in files:\n",
    "        shutil.move(os.path.join(dir, file.title().lower()), target_dir)"
   ],
   "metadata": {
    "collapsed": false,
    "pycharm": {
     "name": "#%%\n"
    }
   }
  },
  {
   "cell_type": "code",
   "execution_count": 3,
   "outputs": [
    {
     "data": {
      "text/plain": "                                            placeName  \\\n0                                     109 East Palace   \n1                                   145 Rue Lafayette   \n2                                        17 Room Ruin   \n3                               1890s Alien Gravesite   \n4     University of Virginia’s Hidden Chemical Hearth   \n...                                               ...   \n7195                                   Zorthian Ranch   \n7196                                   Zuccari Palace   \n7197                              Zwack Unicum Museum   \n7198                           The Zymoglyphic Museum   \n7199         Zzyzx Mineral Springs and Healing Center   \n\n                                              placeTags  numPeopleVisited  \\\n0     ['manhattan project', 'secret', 'nuclear', 'sc...               419   \n1     ['urban planning', 'cities', 'transportation',...               163   \n2     ['abandoned houses', 'native americans', 'aban...               161   \n3     ['aliens', 'graves', 'gravestones', 'cemeteries']               249   \n4     ['thomas jefferson', 'unesco', 'hidden', 'scie...               130   \n...                                                 ...               ...   \n7195  ['film locations', 'farms', 'outsider art', 'c...                75   \n7196  ['castles', 'architectural oddities', 'archite...               432   \n7197  ['food museums', 'food', 'museums and collecti...               201   \n7198  ['obscura day locations', 'wonder cabinets', '...               219   \n7199  ['hoaxes and pseudoscience', 'places to stay',...               282   \n\n      numPeopleWant                                          placeDesc  \\\n0               419  When you need to be dropped off at a top-secre...   \n1               163  While walking down the street, you’d be forgiv...   \n2               161  Outside Bluff, Utah, a massive 100-foot-deep a...   \n3               249  While it receives no fanfare today, the small ...   \n4               130  Nestled in the ground floor of a UNESCO World ...   \n...             ...                                                ...   \n7195             75  California’s Zorthian Ranch is a strange compe...   \n7196            432  In Rome there are thousands of churches, old b...   \n7197            201  Sometimes referred to as the Hungarian nationa...   \n7198            219  The Zymoglyphic Museum houses the cabinet of c...   \n7199            282  Curtis Howe Springer was a self-proclaimed med...   \n\n                                         placeShortDesc  \\\n0     This innocuous New Mexico storefront was once ...   \n1     What looks like a normal building is really a ...   \n2     A well-preserved Ancestral Puebloan ruin tucke...   \n3     This small town Texas cemetery is said to be t...   \n4     Hidden for 165 years inside a building designe...   \n...                                                 ...   \n7195  The cobbled together compound of a deceased ar...   \n7196  Architectural monsters are devouring this pala...   \n7197  Central Europe's largest collection of mini-bo...   \n7198  Private collection of art inspired by cabinets...   \n7199  A former utopian healing center created by a h...   \n\n                                           placesNearby  \\\n0     {'Palace of the Governors', 'Spitz Clock', 'La...   \n1     {\"WWII Bunker Under Gare de l'Est\", 'Sape & Co...   \n2     {'Forrest Gump Point', 'House on Fire Ruin', '...   \n3     {'Billy Bob’s Texas', 'Chef Point Bar & Restau...   \n4     {'Headstone of Anna Anderson', \"University of ...   \n...                                                 ...   \n7195  {'The Bunny Museum', 'Cobb Estate', 'Mountain ...   \n7196  {'Keats-Shelley Memorial House', 'Santa Maria ...   \n7197  {'Paul Street Boys Monument', 'Gömböc', 'Littl...   \n7198  {'Lincoln Street Kayak & Canoe Museum', 'Morri...   \n7199  {'Alien Fresh Jerky', 'Travelers Monument', \"W...   \n\n                                           placeAddress  placeAlt  placeLong  \\\n0     109 East Palace Santa Fe, New Mexico, 87501Uni...   35.6875  -105.9372   \n1                         145 Rue la FayetteParisFrance   48.8792     2.3562   \n2                              Bluff, UtahUnited States   37.2748  -109.5102   \n3      507 Cemetery RdAurora, Texas, 76078United States   33.0534   -97.5000   \n4     1721 University AveCharlottesville, Virginia, ...   38.0357   -78.5033   \n...                                                 ...       ...        ...   \n7195  4010 Fair Oaks AveAltadena, California, 91001U...   34.2111  -118.1404   \n7196                  34 Via GregorianaRome, 00187Italy   41.9051    12.4844   \n7197                   1 Dandár u.Budapest, 1095Hungary   47.4759    19.0697   \n7198  6225 SE Alder St.Portland, Oregon, 97215United...   45.5177  -122.5998   \n7199  Zzyzx RoadSan Bernardino, CaliforniaUnited States   35.1431  -116.1042   \n\n                                           placeEditors placePubDate  \\\n0     ['michaelksugar', 'tylercole', 'Collector of E...   2014-03-31   \n1         ['EVA', 'carllenox', 'erjeffery', 'SEANETTA']   2018-06-15   \n2     ['JWill', 'Molly McBride Jacobson', 'djm213', ...   2017-05-10   \n3     ['EricGrundhauser', 'Molly McBride Jacobson', ...   2014-11-21   \n4                            ['Collin', 'blimpcaptain']   2016-05-09   \n...                                                 ...          ...   \n7195  ['ashleypinnick', 'Rachel', 'Martin', 'MagnumP...   2013-08-27   \n7196  ['pboduch', 'beefjorky', 'diffendale', 'Collec...   2014-03-06   \n7197  ['Shotsy', 'Molly McBride Jacobson', 'reley250...   2014-10-14   \n7198  ['michelle', 'Martin', 'wythe', 'medhere', 'zy...   2013-06-13   \n7199  ['anhie', 'obleuiiis', 'aaronrwilliams1987', '...   2009-10-19   \n\n                                      placeRelatedLists  placeRelatedPlaces  \\\n0     ['Camp Century (Project Iceworm)', 'Red Gate W...                 NaN   \n1     [\"Vauxhall Bridge's Miniature St. Paul's Cathe...                 NaN   \n2     ['Keller House', 'Cow Springs Trading Post', '...                 NaN   \n3     ['Betty and Barney Hill Graves', 'The Menster ...                 NaN   \n4     ['Kamerlingh Onnes Laboratory Plaque', \"Univer...                 NaN   \n...                                                 ...                 ...   \n7195  ['Milwaukee Art Museum', 'Rocca Sinibalda Cast...                 NaN   \n7196  ['Johnstone Castle', 'Castillo Ortega-Douglas'...                 NaN   \n7197  ['Baked Bean Museum of Excellence', 'National ...                 NaN   \n7198  ['Ilana Goor Museum', 'Milwaukee Art Museum', ...                 NaN   \n7199  ['UFO Watchtower', 'American Society of Dowser...                 NaN   \n\n                                               placeUrl  \n0                                                   NaN  \n1                                                   NaN  \n2                                                   NaN  \n3                                                   NaN  \n4                                                   NaN  \n...                                                 ...  \n7195                      http://www.zorthianranch.com/  \n7196                                                NaN  \n7197  http://www.zwack.hu/en/zwack-muzeumok/zwack-mu...  \n7198                         http://www.zymoglyphic.org  \n7199        http://biology.fullerton.edu/dsc/index.html  \n\n[7200 rows x 15 columns]",
      "text/html": "<div>\n<style scoped>\n    .dataframe tbody tr th:only-of-type {\n        vertical-align: middle;\n    }\n\n    .dataframe tbody tr th {\n        vertical-align: top;\n    }\n\n    .dataframe thead th {\n        text-align: right;\n    }\n</style>\n<table border=\"1\" class=\"dataframe\">\n  <thead>\n    <tr style=\"text-align: right;\">\n      <th></th>\n      <th>placeName</th>\n      <th>placeTags</th>\n      <th>numPeopleVisited</th>\n      <th>numPeopleWant</th>\n      <th>placeDesc</th>\n      <th>placeShortDesc</th>\n      <th>placesNearby</th>\n      <th>placeAddress</th>\n      <th>placeAlt</th>\n      <th>placeLong</th>\n      <th>placeEditors</th>\n      <th>placePubDate</th>\n      <th>placeRelatedLists</th>\n      <th>placeRelatedPlaces</th>\n      <th>placeUrl</th>\n    </tr>\n  </thead>\n  <tbody>\n    <tr>\n      <th>0</th>\n      <td>109 East Palace</td>\n      <td>['manhattan project', 'secret', 'nuclear', 'sc...</td>\n      <td>419</td>\n      <td>419</td>\n      <td>When you need to be dropped off at a top-secre...</td>\n      <td>This innocuous New Mexico storefront was once ...</td>\n      <td>{'Palace of the Governors', 'Spitz Clock', 'La...</td>\n      <td>109 East Palace Santa Fe, New Mexico, 87501Uni...</td>\n      <td>35.6875</td>\n      <td>-105.9372</td>\n      <td>['michaelksugar', 'tylercole', 'Collector of E...</td>\n      <td>2014-03-31</td>\n      <td>['Camp Century (Project Iceworm)', 'Red Gate W...</td>\n      <td>NaN</td>\n      <td>NaN</td>\n    </tr>\n    <tr>\n      <th>1</th>\n      <td>145 Rue Lafayette</td>\n      <td>['urban planning', 'cities', 'transportation',...</td>\n      <td>163</td>\n      <td>163</td>\n      <td>While walking down the street, you’d be forgiv...</td>\n      <td>What looks like a normal building is really a ...</td>\n      <td>{\"WWII Bunker Under Gare de l'Est\", 'Sape &amp; Co...</td>\n      <td>145 Rue la FayetteParisFrance</td>\n      <td>48.8792</td>\n      <td>2.3562</td>\n      <td>['EVA', 'carllenox', 'erjeffery', 'SEANETTA']</td>\n      <td>2018-06-15</td>\n      <td>[\"Vauxhall Bridge's Miniature St. Paul's Cathe...</td>\n      <td>NaN</td>\n      <td>NaN</td>\n    </tr>\n    <tr>\n      <th>2</th>\n      <td>17 Room Ruin</td>\n      <td>['abandoned houses', 'native americans', 'aban...</td>\n      <td>161</td>\n      <td>161</td>\n      <td>Outside Bluff, Utah, a massive 100-foot-deep a...</td>\n      <td>A well-preserved Ancestral Puebloan ruin tucke...</td>\n      <td>{'Forrest Gump Point', 'House on Fire Ruin', '...</td>\n      <td>Bluff, UtahUnited States</td>\n      <td>37.2748</td>\n      <td>-109.5102</td>\n      <td>['JWill', 'Molly McBride Jacobson', 'djm213', ...</td>\n      <td>2017-05-10</td>\n      <td>['Keller House', 'Cow Springs Trading Post', '...</td>\n      <td>NaN</td>\n      <td>NaN</td>\n    </tr>\n    <tr>\n      <th>3</th>\n      <td>1890s Alien Gravesite</td>\n      <td>['aliens', 'graves', 'gravestones', 'cemeteries']</td>\n      <td>249</td>\n      <td>249</td>\n      <td>While it receives no fanfare today, the small ...</td>\n      <td>This small town Texas cemetery is said to be t...</td>\n      <td>{'Billy Bob’s Texas', 'Chef Point Bar &amp; Restau...</td>\n      <td>507 Cemetery RdAurora, Texas, 76078United States</td>\n      <td>33.0534</td>\n      <td>-97.5000</td>\n      <td>['EricGrundhauser', 'Molly McBride Jacobson', ...</td>\n      <td>2014-11-21</td>\n      <td>['Betty and Barney Hill Graves', 'The Menster ...</td>\n      <td>NaN</td>\n      <td>NaN</td>\n    </tr>\n    <tr>\n      <th>4</th>\n      <td>University of Virginia’s Hidden Chemical Hearth</td>\n      <td>['thomas jefferson', 'unesco', 'hidden', 'scie...</td>\n      <td>130</td>\n      <td>130</td>\n      <td>Nestled in the ground floor of a UNESCO World ...</td>\n      <td>Hidden for 165 years inside a building designe...</td>\n      <td>{'Headstone of Anna Anderson', \"University of ...</td>\n      <td>1721 University AveCharlottesville, Virginia, ...</td>\n      <td>38.0357</td>\n      <td>-78.5033</td>\n      <td>['Collin', 'blimpcaptain']</td>\n      <td>2016-05-09</td>\n      <td>['Kamerlingh Onnes Laboratory Plaque', \"Univer...</td>\n      <td>NaN</td>\n      <td>NaN</td>\n    </tr>\n    <tr>\n      <th>...</th>\n      <td>...</td>\n      <td>...</td>\n      <td>...</td>\n      <td>...</td>\n      <td>...</td>\n      <td>...</td>\n      <td>...</td>\n      <td>...</td>\n      <td>...</td>\n      <td>...</td>\n      <td>...</td>\n      <td>...</td>\n      <td>...</td>\n      <td>...</td>\n      <td>...</td>\n    </tr>\n    <tr>\n      <th>7195</th>\n      <td>Zorthian Ranch</td>\n      <td>['film locations', 'farms', 'outsider art', 'c...</td>\n      <td>75</td>\n      <td>75</td>\n      <td>California’s Zorthian Ranch is a strange compe...</td>\n      <td>The cobbled together compound of a deceased ar...</td>\n      <td>{'The Bunny Museum', 'Cobb Estate', 'Mountain ...</td>\n      <td>4010 Fair Oaks AveAltadena, California, 91001U...</td>\n      <td>34.2111</td>\n      <td>-118.1404</td>\n      <td>['ashleypinnick', 'Rachel', 'Martin', 'MagnumP...</td>\n      <td>2013-08-27</td>\n      <td>['Milwaukee Art Museum', 'Rocca Sinibalda Cast...</td>\n      <td>NaN</td>\n      <td>http://www.zorthianranch.com/</td>\n    </tr>\n    <tr>\n      <th>7196</th>\n      <td>Zuccari Palace</td>\n      <td>['castles', 'architectural oddities', 'archite...</td>\n      <td>432</td>\n      <td>432</td>\n      <td>In Rome there are thousands of churches, old b...</td>\n      <td>Architectural monsters are devouring this pala...</td>\n      <td>{'Keats-Shelley Memorial House', 'Santa Maria ...</td>\n      <td>34 Via GregorianaRome, 00187Italy</td>\n      <td>41.9051</td>\n      <td>12.4844</td>\n      <td>['pboduch', 'beefjorky', 'diffendale', 'Collec...</td>\n      <td>2014-03-06</td>\n      <td>['Johnstone Castle', 'Castillo Ortega-Douglas'...</td>\n      <td>NaN</td>\n      <td>NaN</td>\n    </tr>\n    <tr>\n      <th>7197</th>\n      <td>Zwack Unicum Museum</td>\n      <td>['food museums', 'food', 'museums and collecti...</td>\n      <td>201</td>\n      <td>201</td>\n      <td>Sometimes referred to as the Hungarian nationa...</td>\n      <td>Central Europe's largest collection of mini-bo...</td>\n      <td>{'Paul Street Boys Monument', 'Gömböc', 'Littl...</td>\n      <td>1 Dandár u.Budapest, 1095Hungary</td>\n      <td>47.4759</td>\n      <td>19.0697</td>\n      <td>['Shotsy', 'Molly McBride Jacobson', 'reley250...</td>\n      <td>2014-10-14</td>\n      <td>['Baked Bean Museum of Excellence', 'National ...</td>\n      <td>NaN</td>\n      <td>http://www.zwack.hu/en/zwack-muzeumok/zwack-mu...</td>\n    </tr>\n    <tr>\n      <th>7198</th>\n      <td>The Zymoglyphic Museum</td>\n      <td>['obscura day locations', 'wonder cabinets', '...</td>\n      <td>219</td>\n      <td>219</td>\n      <td>The Zymoglyphic Museum houses the cabinet of c...</td>\n      <td>Private collection of art inspired by cabinets...</td>\n      <td>{'Lincoln Street Kayak &amp; Canoe Museum', 'Morri...</td>\n      <td>6225 SE Alder St.Portland, Oregon, 97215United...</td>\n      <td>45.5177</td>\n      <td>-122.5998</td>\n      <td>['michelle', 'Martin', 'wythe', 'medhere', 'zy...</td>\n      <td>2013-06-13</td>\n      <td>['Ilana Goor Museum', 'Milwaukee Art Museum', ...</td>\n      <td>NaN</td>\n      <td>http://www.zymoglyphic.org</td>\n    </tr>\n    <tr>\n      <th>7199</th>\n      <td>Zzyzx Mineral Springs and Healing Center</td>\n      <td>['hoaxes and pseudoscience', 'places to stay',...</td>\n      <td>282</td>\n      <td>282</td>\n      <td>Curtis Howe Springer was a self-proclaimed med...</td>\n      <td>A former utopian healing center created by a h...</td>\n      <td>{'Alien Fresh Jerky', 'Travelers Monument', \"W...</td>\n      <td>Zzyzx RoadSan Bernardino, CaliforniaUnited States</td>\n      <td>35.1431</td>\n      <td>-116.1042</td>\n      <td>['anhie', 'obleuiiis', 'aaronrwilliams1987', '...</td>\n      <td>2009-10-19</td>\n      <td>['UFO Watchtower', 'American Society of Dowser...</td>\n      <td>NaN</td>\n      <td>http://biology.fullerton.edu/dsc/index.html</td>\n    </tr>\n  </tbody>\n</table>\n<p>7200 rows × 15 columns</p>\n</div>"
     },
     "execution_count": 3,
     "metadata": {},
     "output_type": "execute_result"
    }
   ],
   "source": [
    "tsv_dir = os.getcwd() + '/tsv_files'\n",
    "files = [f for f in listdir(tsv_dir) if isfile(join(tsv_dir, f)) and f.lower().endswith(('.tsv'))]\n",
    "dataframes = []\n",
    "for file in files:\n",
    "    df = pd.read_csv(os.path.join(tsv_dir, file.title().lower()), delimiter=\"\\t\")\n",
    "    dataframes.append(df)\n",
    "df = pd.DataFrame(pd.concat(dataframes)).reset_index().drop(['index'], axis=1)\n",
    "df_original = df.copy()\n",
    "df"
   ],
   "metadata": {
    "collapsed": false,
    "pycharm": {
     "name": "#%%\n"
    }
   }
  },
  {
   "cell_type": "markdown",
   "source": [
    "# **2. Search Engine**\n",
    "\n",
    "Now, we want to create two different Search Engines that, given as input a query, return the places that match the query.\n",
    "\n",
    "First, you must pre-process all the information collected for each place by:\n",
    "\n",
    "- Removing stopwords\n",
    "- Removing punctuation\n",
    "- Stemming\n",
    "- Anything else you think it's needed\n",
    "\n",
    "For this purpose, you can use the nltk library."
   ],
   "metadata": {
    "collapsed": false,
    "pycharm": {
     "name": "#%% md\n"
    }
   }
  },
  {
   "cell_type": "code",
   "execution_count": 4,
   "outputs": [
    {
     "data": {
      "text/plain": "                                              placeName  \\\n0                                   [109, East, Palace]   \n1                                 [145, Rue, Lafayette]   \n2                                      [17, Room, Ruin]   \n3                             [1890s, Alien, Gravesite]   \n4     [University, Virginia, ’, Hidden, Chemical, He...   \n...                                                 ...   \n7195                                  [Zorthian, Ranch]   \n7196                                  [Zuccari, Palace]   \n7197                            [Zwack, Unicum, Museum]   \n7198                         [The, Zymoglyphic, Museum]   \n7199         [Zzyzx, Mineral, Springs, Healing, Center]   \n\n                                              placeTags  numPeopleVisited  \\\n0     ['manhattan, project, 'secret, 'nuclear, 'scie...               419   \n1     ['urban, planning, 'cities, 'transportation, '...               163   \n2     ['abandoned, houses, 'native, americans, 'aban...               161   \n3         ['aliens, 'graves, 'gravestones, 'cemeteries]               249   \n4      ['thomas, jefferson, 'unesco, 'hidden, 'science]               130   \n...                                                 ...               ...   \n7195  ['film, locations, 'farms, 'outsider, art, 'co...                75   \n7196  ['castles, 'architectural, oddities, 'architec...               432   \n7197  ['food, museums, 'food, 'museums, collections,...               201   \n7198  ['obscura, day, locations, 'wonder, cabinets, ...               219   \n7199  ['hoaxes, pseudoscience, 'places, stay, 'outsi...               282   \n\n      numPeopleWant                                          placeDesc  \\\n0               419  [When, need, dropped, top-secret, research, fa...   \n1               163  [While, walking, street, ’, forgiven, thinking...   \n2               161  [Outside, Bluff, Utah, massive, 100-foot-deep,...   \n3               249  [While, receives, fanfare, today, small, town,...   \n4               130  [Nestled, ground, floor, UNESCO, World, Herita...   \n...             ...                                                ...   \n7195             75  [California, ’, Zorthian, Ranch, strange, comp...   \n7196            432  [In, Rome, thousands, churches, old, buildings...   \n7197            201  [Sometimes, referred, Hungarian, national, spi...   \n7198            219  [The, Zymoglyphic, Museum, houses, cabinet, cu...   \n7199            282  [Curtis, Howe, Springer, self-proclaimed, medi...   \n\n                                         placeShortDesc  \\\n0     [This, innocuous, New, Mexico, storefront, sec...   \n1     [What, looks, like, normal, building, really, ...   \n2     [A, well-preserved, Ancestral, Puebloan, ruin,...   \n3     [This, small, town, Texas, cemetery, said, bur...   \n4     [Hidden, 165, years, inside, building, designe...   \n...                                                 ...   \n7195  [The, cobbled, together, compound, deceased, a...   \n7196  [Architectural, monsters, devouring, palace, '...   \n7197  [Central, Europe, 's, largest, collection, min...   \n7198  [Private, collection, art, inspired, cabinets,...   \n7199  [A, former, utopian, healing, center, created,...   \n\n                                           placesNearby  \\\n0     ['Palace, Governors, 'Spitz, Clock, 'La, Conqu...   \n1     [``, WWII, Bunker, Under, Gare, de, l'Est, '',...   \n2     ['Forrest, Gump, Point, 'House, Fire, Ruin, 'F...   \n3     ['Billy, Bob, ’, Texas, 'Chef, Point, Bar, Res...   \n4     ['Headstone, Anna, Anderson, ``, University, V...   \n...                                                 ...   \n7195  ['The, Bunny, Museum, 'Cobb, Estate, 'Mountain...   \n7196  ['Keats-Shelley, Memorial, House, 'Santa, Mari...   \n7197  ['Paul, Street, Boys, Monument, 'Gömböc, 'Litt...   \n7198  ['Lincoln, Street, Kayak, Canoe, Museum, 'Morr...   \n7199  ['Alien, Fresh, Jerky, 'Travelers, Monument, `...   \n\n                                           placeAddress  placeAlt  placeLong  \\\n0     [109, East, Palace, Santa, Fe, New, Mexico, 87...   35.6875  -105.9372   \n1                    [145, Rue, la, FayetteParisFrance]   48.8792     2.3562   \n2                           [Bluff, UtahUnited, States]   37.2748  -109.5102   \n3     [507, Cemetery, RdAurora, Texas, 76078United, ...   33.0534   -97.5000   \n4     [1721, University, AveCharlottesville, Virgini...   38.0357   -78.5033   \n...                                                 ...       ...        ...   \n7195  [4010, Fair, Oaks, AveAltadena, California, 91...   34.2111  -118.1404   \n7196              [34, Via, GregorianaRome, 00187Italy]   41.9051    12.4844   \n7197               [1, Dandár, u.Budapest, 1095Hungary]   47.4759    19.0697   \n7198  [6225, SE, Alder, St.Portland, Oregon, 97215Un...   45.5177  -122.5998   \n7199  [Zzyzx, RoadSan, Bernardino, CaliforniaUnited,...   35.1431  -116.1042   \n\n                                           placeEditors placePubDate  \\\n0     ['michaelksugar, 'tylercole, 'Collector, Exper...   2014-03-31   \n1             ['EVA, 'carllenox, 'erjeffery, 'SEANETTA]   2018-06-15   \n2     ['JWill, 'Molly, McBride, Jacobson, 'djm213, '...   2017-05-10   \n3     ['EricGrundhauser, 'Molly, McBride, Jacobson, ...   2014-11-21   \n4                              ['Collin, 'blimpcaptain]   2016-05-09   \n...                                                 ...          ...   \n7195  ['ashleypinnick, 'Rachel, 'Martin, 'MagnumPI, ...   2013-08-27   \n7196  ['pboduch, 'beefjorky, 'diffendale, 'Collector...   2014-03-06   \n7197  ['Shotsy, 'Molly, McBride, Jacobson, 'reley250...   2014-10-14   \n7198  ['michelle, 'Martin, 'wythe, 'medhere, 'zymogl...   2013-06-13   \n7199  ['anhie, 'obleuiiis, 'aaronrwilliams1987, 'Lam...   2009-10-19   \n\n                                      placeRelatedLists placeRelatedPlaces  \\\n0     ['Camp, Century, Project, Iceworm, 'Red, Gate,...              [nan]   \n1     [``, Vauxhall, Bridge, 's, Miniature, St., Pau...              [nan]   \n2     ['Keller, House, 'Cow, Springs, Trading, Post,...              [nan]   \n3     ['Betty, Barney, Hill, Graves, 'The, Menster, ...              [nan]   \n4     ['Kamerlingh, Onnes, Laboratory, Plaque, ``, U...              [nan]   \n...                                                 ...                ...   \n7195  ['Milwaukee, Art, Museum, 'Rocca, Sinibalda, C...              [nan]   \n7196  ['Johnstone, Castle, 'Castillo, Ortega-Douglas...              [nan]   \n7197  ['Baked, Bean, Museum, Excellence, 'National, ...              [nan]   \n7198  ['Ilana, Goor, Museum, 'Milwaukee, Art, Museum...              [nan]   \n7199  ['UFO, Watchtower, 'American, Society, Dowsers...              [nan]   \n\n                                               placeUrl  \n0                                                 [nan]  \n1                                                 [nan]  \n2                                                 [nan]  \n3                                                 [nan]  \n4                                                 [nan]  \n...                                                 ...  \n7195                   [http, //www.zorthianranch.com/]  \n7196                                              [nan]  \n7197  [http, //www.zwack.hu/en/zwack-muzeumok/zwack-...  \n7198                      [http, //www.zymoglyphic.org]  \n7199     [http, //biology.fullerton.edu/dsc/index.html]  \n\n[7200 rows x 15 columns]",
      "text/html": "<div>\n<style scoped>\n    .dataframe tbody tr th:only-of-type {\n        vertical-align: middle;\n    }\n\n    .dataframe tbody tr th {\n        vertical-align: top;\n    }\n\n    .dataframe thead th {\n        text-align: right;\n    }\n</style>\n<table border=\"1\" class=\"dataframe\">\n  <thead>\n    <tr style=\"text-align: right;\">\n      <th></th>\n      <th>placeName</th>\n      <th>placeTags</th>\n      <th>numPeopleVisited</th>\n      <th>numPeopleWant</th>\n      <th>placeDesc</th>\n      <th>placeShortDesc</th>\n      <th>placesNearby</th>\n      <th>placeAddress</th>\n      <th>placeAlt</th>\n      <th>placeLong</th>\n      <th>placeEditors</th>\n      <th>placePubDate</th>\n      <th>placeRelatedLists</th>\n      <th>placeRelatedPlaces</th>\n      <th>placeUrl</th>\n    </tr>\n  </thead>\n  <tbody>\n    <tr>\n      <th>0</th>\n      <td>[109, East, Palace]</td>\n      <td>['manhattan, project, 'secret, 'nuclear, 'scie...</td>\n      <td>419</td>\n      <td>419</td>\n      <td>[When, need, dropped, top-secret, research, fa...</td>\n      <td>[This, innocuous, New, Mexico, storefront, sec...</td>\n      <td>['Palace, Governors, 'Spitz, Clock, 'La, Conqu...</td>\n      <td>[109, East, Palace, Santa, Fe, New, Mexico, 87...</td>\n      <td>35.6875</td>\n      <td>-105.9372</td>\n      <td>['michaelksugar, 'tylercole, 'Collector, Exper...</td>\n      <td>2014-03-31</td>\n      <td>['Camp, Century, Project, Iceworm, 'Red, Gate,...</td>\n      <td>[nan]</td>\n      <td>[nan]</td>\n    </tr>\n    <tr>\n      <th>1</th>\n      <td>[145, Rue, Lafayette]</td>\n      <td>['urban, planning, 'cities, 'transportation, '...</td>\n      <td>163</td>\n      <td>163</td>\n      <td>[While, walking, street, ’, forgiven, thinking...</td>\n      <td>[What, looks, like, normal, building, really, ...</td>\n      <td>[``, WWII, Bunker, Under, Gare, de, l'Est, '',...</td>\n      <td>[145, Rue, la, FayetteParisFrance]</td>\n      <td>48.8792</td>\n      <td>2.3562</td>\n      <td>['EVA, 'carllenox, 'erjeffery, 'SEANETTA]</td>\n      <td>2018-06-15</td>\n      <td>[``, Vauxhall, Bridge, 's, Miniature, St., Pau...</td>\n      <td>[nan]</td>\n      <td>[nan]</td>\n    </tr>\n    <tr>\n      <th>2</th>\n      <td>[17, Room, Ruin]</td>\n      <td>['abandoned, houses, 'native, americans, 'aban...</td>\n      <td>161</td>\n      <td>161</td>\n      <td>[Outside, Bluff, Utah, massive, 100-foot-deep,...</td>\n      <td>[A, well-preserved, Ancestral, Puebloan, ruin,...</td>\n      <td>['Forrest, Gump, Point, 'House, Fire, Ruin, 'F...</td>\n      <td>[Bluff, UtahUnited, States]</td>\n      <td>37.2748</td>\n      <td>-109.5102</td>\n      <td>['JWill, 'Molly, McBride, Jacobson, 'djm213, '...</td>\n      <td>2017-05-10</td>\n      <td>['Keller, House, 'Cow, Springs, Trading, Post,...</td>\n      <td>[nan]</td>\n      <td>[nan]</td>\n    </tr>\n    <tr>\n      <th>3</th>\n      <td>[1890s, Alien, Gravesite]</td>\n      <td>['aliens, 'graves, 'gravestones, 'cemeteries]</td>\n      <td>249</td>\n      <td>249</td>\n      <td>[While, receives, fanfare, today, small, town,...</td>\n      <td>[This, small, town, Texas, cemetery, said, bur...</td>\n      <td>['Billy, Bob, ’, Texas, 'Chef, Point, Bar, Res...</td>\n      <td>[507, Cemetery, RdAurora, Texas, 76078United, ...</td>\n      <td>33.0534</td>\n      <td>-97.5000</td>\n      <td>['EricGrundhauser, 'Molly, McBride, Jacobson, ...</td>\n      <td>2014-11-21</td>\n      <td>['Betty, Barney, Hill, Graves, 'The, Menster, ...</td>\n      <td>[nan]</td>\n      <td>[nan]</td>\n    </tr>\n    <tr>\n      <th>4</th>\n      <td>[University, Virginia, ’, Hidden, Chemical, He...</td>\n      <td>['thomas, jefferson, 'unesco, 'hidden, 'science]</td>\n      <td>130</td>\n      <td>130</td>\n      <td>[Nestled, ground, floor, UNESCO, World, Herita...</td>\n      <td>[Hidden, 165, years, inside, building, designe...</td>\n      <td>['Headstone, Anna, Anderson, ``, University, V...</td>\n      <td>[1721, University, AveCharlottesville, Virgini...</td>\n      <td>38.0357</td>\n      <td>-78.5033</td>\n      <td>['Collin, 'blimpcaptain]</td>\n      <td>2016-05-09</td>\n      <td>['Kamerlingh, Onnes, Laboratory, Plaque, ``, U...</td>\n      <td>[nan]</td>\n      <td>[nan]</td>\n    </tr>\n    <tr>\n      <th>...</th>\n      <td>...</td>\n      <td>...</td>\n      <td>...</td>\n      <td>...</td>\n      <td>...</td>\n      <td>...</td>\n      <td>...</td>\n      <td>...</td>\n      <td>...</td>\n      <td>...</td>\n      <td>...</td>\n      <td>...</td>\n      <td>...</td>\n      <td>...</td>\n      <td>...</td>\n    </tr>\n    <tr>\n      <th>7195</th>\n      <td>[Zorthian, Ranch]</td>\n      <td>['film, locations, 'farms, 'outsider, art, 'co...</td>\n      <td>75</td>\n      <td>75</td>\n      <td>[California, ’, Zorthian, Ranch, strange, comp...</td>\n      <td>[The, cobbled, together, compound, deceased, a...</td>\n      <td>['The, Bunny, Museum, 'Cobb, Estate, 'Mountain...</td>\n      <td>[4010, Fair, Oaks, AveAltadena, California, 91...</td>\n      <td>34.2111</td>\n      <td>-118.1404</td>\n      <td>['ashleypinnick, 'Rachel, 'Martin, 'MagnumPI, ...</td>\n      <td>2013-08-27</td>\n      <td>['Milwaukee, Art, Museum, 'Rocca, Sinibalda, C...</td>\n      <td>[nan]</td>\n      <td>[http, //www.zorthianranch.com/]</td>\n    </tr>\n    <tr>\n      <th>7196</th>\n      <td>[Zuccari, Palace]</td>\n      <td>['castles, 'architectural, oddities, 'architec...</td>\n      <td>432</td>\n      <td>432</td>\n      <td>[In, Rome, thousands, churches, old, buildings...</td>\n      <td>[Architectural, monsters, devouring, palace, '...</td>\n      <td>['Keats-Shelley, Memorial, House, 'Santa, Mari...</td>\n      <td>[34, Via, GregorianaRome, 00187Italy]</td>\n      <td>41.9051</td>\n      <td>12.4844</td>\n      <td>['pboduch, 'beefjorky, 'diffendale, 'Collector...</td>\n      <td>2014-03-06</td>\n      <td>['Johnstone, Castle, 'Castillo, Ortega-Douglas...</td>\n      <td>[nan]</td>\n      <td>[nan]</td>\n    </tr>\n    <tr>\n      <th>7197</th>\n      <td>[Zwack, Unicum, Museum]</td>\n      <td>['food, museums, 'food, 'museums, collections,...</td>\n      <td>201</td>\n      <td>201</td>\n      <td>[Sometimes, referred, Hungarian, national, spi...</td>\n      <td>[Central, Europe, 's, largest, collection, min...</td>\n      <td>['Paul, Street, Boys, Monument, 'Gömböc, 'Litt...</td>\n      <td>[1, Dandár, u.Budapest, 1095Hungary]</td>\n      <td>47.4759</td>\n      <td>19.0697</td>\n      <td>['Shotsy, 'Molly, McBride, Jacobson, 'reley250...</td>\n      <td>2014-10-14</td>\n      <td>['Baked, Bean, Museum, Excellence, 'National, ...</td>\n      <td>[nan]</td>\n      <td>[http, //www.zwack.hu/en/zwack-muzeumok/zwack-...</td>\n    </tr>\n    <tr>\n      <th>7198</th>\n      <td>[The, Zymoglyphic, Museum]</td>\n      <td>['obscura, day, locations, 'wonder, cabinets, ...</td>\n      <td>219</td>\n      <td>219</td>\n      <td>[The, Zymoglyphic, Museum, houses, cabinet, cu...</td>\n      <td>[Private, collection, art, inspired, cabinets,...</td>\n      <td>['Lincoln, Street, Kayak, Canoe, Museum, 'Morr...</td>\n      <td>[6225, SE, Alder, St.Portland, Oregon, 97215Un...</td>\n      <td>45.5177</td>\n      <td>-122.5998</td>\n      <td>['michelle, 'Martin, 'wythe, 'medhere, 'zymogl...</td>\n      <td>2013-06-13</td>\n      <td>['Ilana, Goor, Museum, 'Milwaukee, Art, Museum...</td>\n      <td>[nan]</td>\n      <td>[http, //www.zymoglyphic.org]</td>\n    </tr>\n    <tr>\n      <th>7199</th>\n      <td>[Zzyzx, Mineral, Springs, Healing, Center]</td>\n      <td>['hoaxes, pseudoscience, 'places, stay, 'outsi...</td>\n      <td>282</td>\n      <td>282</td>\n      <td>[Curtis, Howe, Springer, self-proclaimed, medi...</td>\n      <td>[A, former, utopian, healing, center, created,...</td>\n      <td>['Alien, Fresh, Jerky, 'Travelers, Monument, `...</td>\n      <td>[Zzyzx, RoadSan, Bernardino, CaliforniaUnited,...</td>\n      <td>35.1431</td>\n      <td>-116.1042</td>\n      <td>['anhie, 'obleuiiis, 'aaronrwilliams1987, 'Lam...</td>\n      <td>2009-10-19</td>\n      <td>['UFO, Watchtower, 'American, Society, Dowsers...</td>\n      <td>[nan]</td>\n      <td>[http, //biology.fullerton.edu/dsc/index.html]</td>\n    </tr>\n  </tbody>\n</table>\n<p>7200 rows × 15 columns</p>\n</div>"
     },
     "execution_count": 4,
     "metadata": {},
     "output_type": "execute_result"
    }
   ],
   "source": [
    "# removing stopwords and tokenize\n",
    "def remove_empty(x):\n",
    "    if type(x) is str:\n",
    "        x = x.split(\",\")\n",
    "        x = [ y for y in x if y.strip()]\n",
    "        return \",\".join(x)\n",
    "    elif type(x) is list:\n",
    "        return [ y for y in x if y.strip()]\n",
    "\n",
    "stop_words = stopwords.words('english') + list(string.punctuation)\n",
    "\n",
    "df['placeName'] = df['placeName'].apply(lambda x: [word for word in word_tokenize(str(x)) if word not in stop_words]).apply(remove_empty)\n",
    "df['placeTags'] = df['placeTags'].apply(lambda x: [word for word in word_tokenize(str(x)) if word not in stop_words]).apply(remove_empty)\n",
    "df['placeDesc'] = df['placeDesc'].apply(lambda x: [word for word in word_tokenize(str(x)) if word not in stop_words]).apply(remove_empty)\n",
    "df['placeShortDesc'] = df['placeShortDesc'].apply(lambda x: [word for word in word_tokenize(str(x)) if word not in stop_words]).apply(remove_empty)\n",
    "df['placesNearby'] = df['placesNearby'].apply(lambda x: [word for word in word_tokenize(str(x)) if word not in stop_words]).apply(remove_empty)\n",
    "df['placeAddress'] = df['placeAddress'].apply(lambda x: [word for word in word_tokenize(str(x)) if word not in stop_words]).apply(remove_empty)\n",
    "df['placeEditors'] = df['placeEditors'].apply(lambda x: [word for word in word_tokenize(str(x)) if word not in stop_words]).apply(remove_empty)\n",
    "df['placeRelatedLists'] = df['placeRelatedLists'].apply(lambda x: [word for word in word_tokenize(str(x)) if word not in stop_words]).apply(remove_empty)\n",
    "df['placeRelatedPlaces'] = df['placeRelatedPlaces'].apply(lambda x: [word for word in word_tokenize(str(x)) if word not in stop_words]).apply(remove_empty)\n",
    "df['placeUrl'] = df['placeUrl'].apply(lambda x: [word for word in word_tokenize(str(x)) if word not in stop_words]).apply(remove_empty)\n",
    "df"
   ],
   "metadata": {
    "collapsed": false,
    "pycharm": {
     "name": "#%%\n"
    }
   }
  },
  {
   "cell_type": "code",
   "execution_count": 5,
   "outputs": [],
   "source": [
    "# stemming\n",
    "from nltk.stem.snowball import SnowballStemmer\n",
    "englishStemmer = SnowballStemmer(\"english\")\n",
    "\n",
    "df['placeDesc'] = df['placeDesc'].apply(lambda row: [englishStemmer.stem(sentence) for sentence in row])"
   ],
   "metadata": {
    "collapsed": false,
    "pycharm": {
     "name": "#%%\n"
    }
   }
  },
  {
   "cell_type": "code",
   "execution_count": 20,
   "outputs": [],
   "source": [
    "dictionary = OrderedDict()\n",
    "term_id = 0\n",
    "\n",
    "def create_dictionary():\n",
    "    with open('./vocabulary.json', 'w+', encoding='utf-8') as dict_file :\n",
    "        json.dump(dictionary, dict_file)\n",
    "    dict_file.close()\n",
    "\n",
    "def fill_dictionary(values):\n",
    "    global term_id\n",
    "    for word in values:\n",
    "        dictionary[word] = term_id + 1\n",
    "        term_id += 1\n",
    "\n",
    "df['placeDesc'].apply(lambda values: fill_dictionary(values))\n",
    "create_dictionary()"
   ],
   "metadata": {
    "collapsed": false,
    "pycharm": {
     "name": "#%%\n"
    }
   }
  },
  {
   "cell_type": "code",
   "execution_count": 22,
   "outputs": [
    {
     "name": "stderr",
     "output_type": "stream",
     "text": [
      "100%|██████████| 54205/54205 [22:02<00:00, 41.00it/s]\n"
     ]
    }
   ],
   "source": [
    "def inverse_dictionary(data):\n",
    "    inverse_dict = OrderedDict()\n",
    "    f = open('vocabulary.json')\n",
    "    jsonData = json.load(f)\n",
    "    l = list(jsonData.keys())\n",
    "\n",
    "    for word in tqdm(l):\n",
    "        o = [word in x for x in data]\n",
    "        idxs = [i for i, x in enumerate(o) if x == True]\n",
    "        inverse_dict[jsonData[word]] = idxs\n",
    "    f.close()\n",
    "    return inverse_dict\n",
    "\n",
    "inverse_dict = inverse_dictionary(df['placeDesc'])"
   ],
   "metadata": {
    "collapsed": false,
    "pycharm": {
     "name": "#%%\n"
    }
   }
  },
  {
   "cell_type": "code",
   "execution_count": 23,
   "outputs": [],
   "source": [
    "with open('./inverse_vocabulary.json', 'w+', encoding='utf-8') as dict_file :\n",
    "    json.dump(inverse_dict, dict_file)\n",
    "dict_file.close()"
   ],
   "metadata": {
    "collapsed": false,
    "pycharm": {
     "name": "#%%\n"
    }
   }
  },
  {
   "cell_type": "code",
   "execution_count": 6,
   "outputs": [],
   "source": [
    "df_original['index'] = df_original.index"
   ],
   "metadata": {
    "collapsed": false,
    "pycharm": {
     "name": "#%%\n"
    }
   }
  },
  {
   "cell_type": "code",
   "execution_count": 42,
   "outputs": [
    {
     "name": "stdout",
     "output_type": "stream",
     "text": [
      "searching on query: \u001B[1mjal mahal\u001B[0m\n"
     ]
    },
    {
     "data": {
      "text/plain": "      placeName                                          placeDesc placeUrl  \\\n2911  Jal Mahal  Located in the middle of the Man Sagar Lake, a...      NaN   \n\n                                         placeShortDesc  \n2911  More than half of this Indian palace is drowne...  ",
      "text/html": "<div>\n<style scoped>\n    .dataframe tbody tr th:only-of-type {\n        vertical-align: middle;\n    }\n\n    .dataframe tbody tr th {\n        vertical-align: top;\n    }\n\n    .dataframe thead th {\n        text-align: right;\n    }\n</style>\n<table border=\"1\" class=\"dataframe\">\n  <thead>\n    <tr style=\"text-align: right;\">\n      <th></th>\n      <th>placeName</th>\n      <th>placeDesc</th>\n      <th>placeUrl</th>\n      <th>placeShortDesc</th>\n    </tr>\n  </thead>\n  <tbody>\n    <tr>\n      <th>2911</th>\n      <td>Jal Mahal</td>\n      <td>Located in the middle of the Man Sagar Lake, a...</td>\n      <td>NaN</td>\n      <td>More than half of this Indian palace is drowne...</td>\n    </tr>\n  </tbody>\n</table>\n</div>"
     },
     "execution_count": 42,
     "metadata": {},
     "output_type": "execute_result"
    }
   ],
   "source": [
    "query_original = input(\"Type query: \" )\n",
    "query = query_original.lower().split(' ')\n",
    "\n",
    "row_query_list = []\n",
    "row_query = set()\n",
    "\n",
    "f = open('vocabulary.json')\n",
    "vocabulary = json.load(f)\n",
    "f.close()\n",
    "\n",
    "with open('./inverse_vocabulary.json', encoding='utf-8') as dict_file :\n",
    "    jsonData = json.load(dict_file)\n",
    "    for word in query:\n",
    "        try:\n",
    "            term_id = vocabulary[word]\n",
    "            documents_id = jsonData[str(term_id)]\n",
    "            row_query_list.append(set(documents_id))\n",
    "        except KeyError:\n",
    "            continue\n",
    "        placeName_row_bools = [query_original in x for x in df_original['placeName']]\n",
    "        placeUrl_row_bools = [query_original in x for x in df_original['placeUrl'].dropna()]\n",
    "        placeNameIdxs = [i for i, x in enumerate(placeName_row_bools) if x == True]\n",
    "        placeUrlIdxs = [i for i, x in enumerate(placeUrl_row_bools) if x == True]\n",
    "        row_query = set.intersection(*row_query_list)\n",
    "        row_query.update(placeNameIdxs)\n",
    "        row_query.update(placeUrlIdxs)\n",
    "dict_file.close()\n",
    "\n",
    "print(\"searching on query: \" +'\\033[1m' + query_original + '\\033[0m')\n",
    "if len(row_query_list) == 0:\n",
    "    print('\\033[1m' + \"\\nNo result was found. Maybe you're searchin for a stopword. Please retry with more informations.\" + '\\033[0m' + '\\n')\n",
    "\n",
    "df_original[['placeName','placeDesc','placeUrl','placeShortDesc']][df_original['index'].isin(row_query)]"
   ],
   "metadata": {
    "collapsed": false,
    "pycharm": {
     "name": "#%%\n"
    }
   }
  },
  {
   "cell_type": "code",
   "execution_count": 44,
   "outputs": [],
   "source": [
    "import math\n",
    "\n",
    "\n",
    "def get_tfIdf_score(vec1, vec2):\n",
    "    intersection = set(vec1.keys()) & set(vec2.keys())\n",
    "    numerator = sum([vec1[x] * vec2[x] for x in intersection])\n",
    "\n",
    "    sum1 = sum([vec1[x] ** 2 for x in list(vec1.keys())])\n",
    "    sum2 = sum([vec2[x] ** 2 for x in list(vec2.keys())])\n",
    "    denominator = math.sqrt(sum1) * math.sqrt(sum2)\n",
    "\n",
    "    if not denominator:\n",
    "        return 0.0\n",
    "    else:\n",
    "        return float(numerator) / denominator"
   ],
   "metadata": {
    "collapsed": false,
    "pycharm": {
     "name": "#%%\n"
    }
   }
  },
  {
   "cell_type": "code",
   "execution_count": null,
   "outputs": [],
   "source": [
    "def inverse_tfid_dictionary(data):\n",
    "    inverse_dict = OrderedDict()\n",
    "    f = open('vocabulary.json')\n",
    "    jsonData = json.load(f)\n",
    "    l = list(jsonData.keys())\n",
    "    for word in tqdm(l):\n",
    "        tfId_scores = data.apply(lambda y: get_tfIdf_score([word], y))\n",
    "        o = [word in x for x in data]\n",
    "        idxs = [i for i, x in enumerate(o) if x == True]\n",
    "        inverse_dict[jsonData[word]] = idxs\n",
    "    f.close()\n",
    "    return inverse_dict\n",
    "\n",
    "inverse_dict = inverse_dictionary(df['placeDesc'])"
   ],
   "metadata": {
    "collapsed": false,
    "pycharm": {
     "name": "#%%\n"
    }
   }
  },
  {
   "cell_type": "code",
   "execution_count": 78,
   "outputs": [
    {
     "data": {
      "text/plain": "array([[0., 0., 0., ..., 0., 0., 0.]])"
     },
     "execution_count": 78,
     "metadata": {},
     "output_type": "execute_result"
    }
   ],
   "source": [
    "from sklearn.feature_extraction.text import TfidfVectorizer\n",
    "from sklearn.metrics.pairwise import cosine_similarity\n",
    "\n",
    "def get_cosine_similarity(data):\n",
    "\n",
    "    tfidf_vectorizer = TfidfVectorizer()\n",
    "    tfidf_matrix_train = tfidf_vectorizer.fit_transform(data)  #finds the tfidf score with normalization\n",
    "    return cosine_similarity(tfidf_matrix_train[0:1], tfidf_matrix_train)\n",
    "\n",
    "train_set = [\"rome\",*df_original['placeDesc']]\n",
    "res = get_cosine_similarity(train_set)[:,1:]\n",
    "res"
   ],
   "metadata": {
    "collapsed": false,
    "pycharm": {
     "name": "#%%\n"
    }
   }
  },
  {
   "cell_type": "code",
   "execution_count": 66,
   "outputs": [],
   "source": [],
   "metadata": {
    "collapsed": false,
    "pycharm": {
     "name": "#%%\n"
    }
   }
  }
 ],
 "metadata": {
  "kernelspec": {
   "display_name": "Python 3",
   "language": "python",
   "name": "python3"
  },
  "language_info": {
   "codemirror_mode": {
    "name": "ipython",
    "version": 2
   },
   "file_extension": ".py",
   "mimetype": "text/x-python",
   "name": "python",
   "nbconvert_exporter": "python",
   "pygments_lexer": "ipython2",
   "version": "2.7.6"
  }
 },
 "nbformat": 4,
 "nbformat_minor": 0
}