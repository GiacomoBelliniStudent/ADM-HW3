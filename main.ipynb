{
 "cells": [
  {
   "cell_type": "code",
   "execution_count": 3,
   "metadata": {
    "collapsed": true,
    "pycharm": {
     "name": "#%%\n"
    }
   },
   "outputs": [],
   "source": [
    "import numpy as np\n",
    "import pandas as pd\n",
    "from bs4 import BeautifulSoup\n",
    "import requests\n",
    "from os import listdir\n",
    "from os.path import isfile, join\n",
    "import os\n",
    "import shutil"
   ]
  },
  {
   "cell_type": "code",
   "execution_count": null,
   "outputs": [],
   "source": [
    "url = 'https://www.atlasobscura.com/places?page={}&sort=likes_count'\n",
    "result = requests.get(url)\n",
    "\n",
    "print(result)\n",
    "print(result.text)"
   ],
   "metadata": {
    "collapsed": false,
    "pycharm": {
     "name": "#%%\n",
     "is_executing": true
    }
   }
  },
  {
   "cell_type": "code",
   "execution_count": 5,
   "outputs": [],
   "source": [
    "soup = BeautifulSoup(result.text)"
   ],
   "metadata": {
    "collapsed": false,
    "pycharm": {
     "name": "#%%\n"
    }
   }
  },
  {
   "cell_type": "code",
   "execution_count": null,
   "outputs": [],
   "source": [
    "mydivs = soup.find_all(\"a\", {\"class\": \"content-card content-card-place\"})\n",
    "'https://www.atlasobscura.com' + mydivs[1]['href']"
   ],
   "metadata": {
    "collapsed": false,
    "pycharm": {
     "name": "#%%\n",
     "is_executing": true
    }
   }
  },
  {
   "cell_type": "code",
   "execution_count": 21,
   "outputs": [],
   "source": [
    "with open('places_url.txt', 'w') as f:\n",
    "    for i in range(1,401):\n",
    "        url = 'https://www.atlasobscura.com/places?page={}&sort=likes_count'.format(i)\n",
    "        result = requests.get(url)\n",
    "        soup = BeautifulSoup(result.text)\n",
    "        mydivs = soup.find_all(\"a\", {\"class\": \"content-card content-card-place\"})\n",
    "        for anchor in mydivs:\n",
    "            f.write('https://www.atlasobscura.com' + anchor['href'] + \"\\n\")\n",
    "    f.close();"
   ],
   "metadata": {
    "collapsed": false,
    "pycharm": {
     "name": "#%%\n"
    }
   }
  },
  {
   "cell_type": "code",
   "execution_count": null,
   "outputs": [],
   "source": [
    "with open('places_url.txt') as file:\n",
    "    for url in file:\n",
    "        page = requests.get(url.replace('\\n',''), allow_redirects=False)\n",
    "        with open(url.split('/')[-1].replace('\\n','')+'.html', 'wb+') as f:\n",
    "            f.write(page.content)\n",
    "            f.close()\n",
    "    file.close()"
   ],
   "metadata": {
    "collapsed": false,
    "pycharm": {
     "name": "#%%\n"
    }
   }
  },
  {
   "cell_type": "code",
   "execution_count": null,
   "outputs": [],
   "source": [
    "file_path = os.getcwd()\n",
    "files = [f for f in listdir(file_path) if isfile(join(file_path, f)) and f.lower().endswith(('.html'))]\n",
    "file_list = np.array_split(files,400)"
   ],
   "metadata": {
    "collapsed": false,
    "pycharm": {
     "name": "#%%\n"
    }
   }
  },
  {
   "cell_type": "code",
   "execution_count": null,
   "outputs": [],
   "source": [
    "for i in range(400):\n",
    "    directory = 'page_'+ str(i+1)\n",
    "\n",
    "    target_dir = os.path.join(file_path, directory)\n",
    "\n",
    "    os.mkdir(target_dir)\n",
    "\n",
    "    for file_name in file_list[i]:\n",
    "        shutil.move(os.path.join(file_path, file_name), target_dir)"
   ],
   "metadata": {
    "collapsed": false,
    "pycharm": {
     "name": "#%%\n"
    }
   }
  }
 ],
 "metadata": {
  "kernelspec": {
   "display_name": "Python 3",
   "language": "python",
   "name": "python3"
  },
  "language_info": {
   "codemirror_mode": {
    "name": "ipython",
    "version": 2
   },
   "file_extension": ".py",
   "mimetype": "text/x-python",
   "name": "python",
   "nbconvert_exporter": "python",
   "pygments_lexer": "ipython2",
   "version": "2.7.6"
  }
 },
 "nbformat": 4,
 "nbformat_minor": 0
}